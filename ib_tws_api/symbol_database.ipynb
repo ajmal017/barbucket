{
 "cells": [
  {
   "cell_type": "code",
   "execution_count": 1,
   "metadata": {},
   "outputs": [],
   "source": [
    "import pandas as pd"
   ]
  },
  {
   "cell_type": "code",
   "execution_count": 7,
   "metadata": {},
   "outputs": [],
   "source": [
    "symbol_database = pd.DataFrame(columns=['Symbol', 'Name', 'Symbol2', 'Currency', 'Exchange'])"
   ]
  },
  {
   "cell_type": "code",
   "execution_count": 8,
   "metadata": {},
   "outputs": [],
   "source": [
    "exchanges = {\n",
    "    'FWB': 'ib_fwb_etfs.csv',\n",
    "    'LSE': 'ib_lse_etfs.csv',\n",
    "    'LSEETF': 'ib_lse-etf_etfs.csv',\n",
    "    'IBIS': 'ib_xetra_etfs.csv'\n",
    "}"
   ]
  },
  {
   "cell_type": "code",
   "execution_count": 9,
   "metadata": {},
   "outputs": [
    {
     "data": {
      "text/html": [
       "<div>\n",
       "<style scoped>\n",
       "    .dataframe tbody tr th:only-of-type {\n",
       "        vertical-align: middle;\n",
       "    }\n",
       "\n",
       "    .dataframe tbody tr th {\n",
       "        vertical-align: top;\n",
       "    }\n",
       "\n",
       "    .dataframe thead th {\n",
       "        text-align: right;\n",
       "    }\n",
       "</style>\n",
       "<table border=\"1\" class=\"dataframe\">\n",
       "  <thead>\n",
       "    <tr style=\"text-align: right;\">\n",
       "      <th></th>\n",
       "      <th>Currency</th>\n",
       "      <th>Exchange</th>\n",
       "      <th>Name</th>\n",
       "      <th>Symbol</th>\n",
       "      <th>Symbol2</th>\n",
       "    </tr>\n",
       "  </thead>\n",
       "  <tbody>\n",
       "    <tr>\n",
       "      <th>count</th>\n",
       "      <td>5323</td>\n",
       "      <td>5323</td>\n",
       "      <td>5323</td>\n",
       "      <td>5323</td>\n",
       "      <td>5323</td>\n",
       "    </tr>\n",
       "    <tr>\n",
       "      <th>unique</th>\n",
       "      <td>3</td>\n",
       "      <td>4</td>\n",
       "      <td>2284</td>\n",
       "      <td>3732</td>\n",
       "      <td>3955</td>\n",
       "    </tr>\n",
       "    <tr>\n",
       "      <th>top</th>\n",
       "      <td>EUR</td>\n",
       "      <td>LSE</td>\n",
       "      <td>WisdomTree US Equity Income UCITS ETF</td>\n",
       "      <td>STAW</td>\n",
       "      <td>XCHA</td>\n",
       "    </tr>\n",
       "    <tr>\n",
       "      <th>freq</th>\n",
       "      <td>3024</td>\n",
       "      <td>1827</td>\n",
       "      <td>12</td>\n",
       "      <td>4</td>\n",
       "      <td>3</td>\n",
       "    </tr>\n",
       "  </tbody>\n",
       "</table>\n",
       "</div>"
      ],
      "text/plain": [
       "       Currency Exchange                                   Name Symbol Symbol2\n",
       "count      5323     5323                                   5323   5323    5323\n",
       "unique        3        4                                   2284   3732    3955\n",
       "top         EUR      LSE  WisdomTree US Equity Income UCITS ETF   STAW    XCHA\n",
       "freq       3024     1827                                     12      4       3"
      ]
     },
     "execution_count": 9,
     "metadata": {},
     "output_type": "execute_result"
    }
   ],
   "source": [
    "for ex, file in exchanges.items():\n",
    "    one_ex_data = pd.read_csv(file, delimiter=';')\n",
    "    one_ex_data['Exchange'] = ex\n",
    "    symbol_database = symbol_database.append(one_ex_data, ignore_index=True, sort=True)\n",
    "symbol_database.describe()"
   ]
  },
  {
   "cell_type": "code",
   "execution_count": 10,
   "metadata": {},
   "outputs": [],
   "source": [
    "symbol_database.to_csv('symbol_database.csv', sep=';')"
   ]
  },
  {
   "cell_type": "code",
   "execution_count": 23,
   "metadata": {},
   "outputs": [],
   "source": [
    "# df = symbol_database[symbol_database['Symbol']!=symbol_database['Symbol2']]\n",
    "df = symbol_database.loc[symbol_database['exchange']=='fwb', 'Symbol']\n",
    "symbol_list = df.tolist()\n",
    "\n",
    "file = open('symbollist.txt', 'w+')\n",
    "for symbol in symbol_list:\n",
    "    file.write(symbol+'\\n')\n",
    "file.close()"
   ]
  },
  {
   "cell_type": "code",
   "execution_count": null,
   "metadata": {},
   "outputs": [],
   "source": []
  },
  {
   "cell_type": "code",
   "execution_count": null,
   "metadata": {},
   "outputs": [],
   "source": []
  }
 ],
 "metadata": {
  "kernelspec": {
   "display_name": "Python 3",
   "language": "python",
   "name": "python3"
  },
  "language_info": {
   "codemirror_mode": {
    "name": "ipython",
    "version": 3
   },
   "file_extension": ".py",
   "mimetype": "text/x-python",
   "name": "python",
   "nbconvert_exporter": "python",
   "pygments_lexer": "ipython3",
   "version": "3.6.8"
  }
 },
 "nbformat": 4,
 "nbformat_minor": 4
}
