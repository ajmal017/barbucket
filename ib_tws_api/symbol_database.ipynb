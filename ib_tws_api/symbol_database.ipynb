{
 "cells": [
  {
   "cell_type": "code",
   "execution_count": 1,
   "metadata": {},
   "outputs": [],
   "source": [
    "import pandas as pd"
   ]
  },
  {
   "cell_type": "code",
   "execution_count": 28,
   "metadata": {},
   "outputs": [],
   "source": [
    "symbol_database = pd.DataFrame(columns=['Symbol', 'Name', 'Symbol2', 'Currency', 'exchange'])"
   ]
  },
  {
   "cell_type": "code",
   "execution_count": 29,
   "metadata": {},
   "outputs": [],
   "source": [
    "exchanges = {\n",
    "    'fwb': 'ib_fwb_etfs.csv',\n",
    "    'lse': 'ib_lse_etfs.csv',\n",
    "    'lse-etf': 'ib_lse-etf_etfs.csv',\n",
    "    'xetra': 'ib_xetra_etfs.csv'\n",
    "}"
   ]
  },
  {
   "cell_type": "code",
   "execution_count": 30,
   "metadata": {},
   "outputs": [
    {
     "data": {
      "text/html": [
       "<div>\n",
       "<style scoped>\n",
       "    .dataframe tbody tr th:only-of-type {\n",
       "        vertical-align: middle;\n",
       "    }\n",
       "\n",
       "    .dataframe tbody tr th {\n",
       "        vertical-align: top;\n",
       "    }\n",
       "\n",
       "    .dataframe thead th {\n",
       "        text-align: right;\n",
       "    }\n",
       "</style>\n",
       "<table border=\"1\" class=\"dataframe\">\n",
       "  <thead>\n",
       "    <tr style=\"text-align: right;\">\n",
       "      <th></th>\n",
       "      <th>Symbol</th>\n",
       "      <th>Name</th>\n",
       "      <th>Symbol2</th>\n",
       "      <th>Currency</th>\n",
       "      <th>exchange</th>\n",
       "    </tr>\n",
       "  </thead>\n",
       "  <tbody>\n",
       "    <tr>\n",
       "      <th>count</th>\n",
       "      <td>5323</td>\n",
       "      <td>5323</td>\n",
       "      <td>5323</td>\n",
       "      <td>5323</td>\n",
       "      <td>5323</td>\n",
       "    </tr>\n",
       "    <tr>\n",
       "      <th>unique</th>\n",
       "      <td>3732</td>\n",
       "      <td>2284</td>\n",
       "      <td>3955</td>\n",
       "      <td>3</td>\n",
       "      <td>4</td>\n",
       "    </tr>\n",
       "    <tr>\n",
       "      <th>top</th>\n",
       "      <td>EMMV</td>\n",
       "      <td>WisdomTree Japan Equity UCITS ETF</td>\n",
       "      <td>M9SV</td>\n",
       "      <td>EUR</td>\n",
       "      <td>lse</td>\n",
       "    </tr>\n",
       "    <tr>\n",
       "      <th>freq</th>\n",
       "      <td>4</td>\n",
       "      <td>12</td>\n",
       "      <td>3</td>\n",
       "      <td>3024</td>\n",
       "      <td>1827</td>\n",
       "    </tr>\n",
       "  </tbody>\n",
       "</table>\n",
       "</div>"
      ],
      "text/plain": [
       "       Symbol                               Name Symbol2 Currency exchange\n",
       "count    5323                               5323    5323     5323     5323\n",
       "unique   3732                               2284    3955        3        4\n",
       "top      EMMV  WisdomTree Japan Equity UCITS ETF    M9SV      EUR      lse\n",
       "freq        4                                 12       3     3024     1827"
      ]
     },
     "execution_count": 30,
     "metadata": {},
     "output_type": "execute_result"
    }
   ],
   "source": [
    "for ex, file in exchanges.items():\n",
    "    one_ex_data = pd.read_csv(file, delimiter=';')\n",
    "    one_ex_data['exchange'] = ex\n",
    "    symbol_database = symbol_database.append(one_ex_data, ignore_index=True)\n",
    "symbol_database.describe()"
   ]
  },
  {
   "cell_type": "code",
   "execution_count": 31,
   "metadata": {},
   "outputs": [],
   "source": [
    "symbol_database.to_csv('symbol_database.csv')"
   ]
  },
  {
   "cell_type": "code",
   "execution_count": null,
   "metadata": {},
   "outputs": [],
   "source": []
  },
  {
   "cell_type": "code",
   "execution_count": null,
   "metadata": {},
   "outputs": [],
   "source": []
  },
  {
   "cell_type": "code",
   "execution_count": null,
   "metadata": {},
   "outputs": [],
   "source": []
  }
 ],
 "metadata": {
  "kernelspec": {
   "display_name": "Python 3",
   "language": "python",
   "name": "python3"
  },
  "language_info": {
   "codemirror_mode": {
    "name": "ipython",
    "version": 3
   },
   "file_extension": ".py",
   "mimetype": "text/x-python",
   "name": "python",
   "nbconvert_exporter": "python",
   "pygments_lexer": "ipython3",
   "version": "3.6.8"
  }
 },
 "nbformat": 4,
 "nbformat_minor": 4
}
