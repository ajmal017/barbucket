{
 "cells": [
  {
   "cell_type": "code",
   "execution_count": 1,
   "metadata": {},
   "outputs": [],
   "source": [
    "from ibpythonic import ibConnection, message\n",
    "from ibapi.contract import Contract\n",
    "\n",
    "from time import sleep, strftime\n",
    "from datetime import datetime\n",
    "import pickle\n",
    "import os\n",
    "from multiprocessing import Pool\n",
    "\n",
    "import workers\n",
    "\n",
    "import pandas as pd\n",
    "import numpy as np\n",
    "\n",
    "from tinydb import TinyDB, Query\n",
    "\n",
    "from tqdm import tqdm_notebook as tqdm"
   ]
  },
  {
   "cell_type": "code",
   "execution_count": 2,
   "metadata": {},
   "outputs": [],
   "source": [
    "def makeStkContract(contractTuple):\n",
    "    newContract = Contract()\n",
    "    newContract.symbol = contractTuple[0]\n",
    "    newContract.secType = contractTuple[1]\n",
    "    newContract.exchange = contractTuple[2]\n",
    "    newContract.currency = contractTuple[3]\n",
    "    return newContract"
   ]
  },
  {
   "cell_type": "code",
   "execution_count": 3,
   "metadata": {},
   "outputs": [],
   "source": [
    "bar_data_list = []\n",
    "busy = False\n",
    "active_symbol = 0"
   ]
  },
  {
   "cell_type": "code",
   "execution_count": 4,
   "metadata": {},
   "outputs": [],
   "source": [
    "def my_hist_data_handler(msg):\n",
    "    global bar_data_list\n",
    "    bar_data_list.append(msg.bar)"
   ]
  },
  {
   "cell_type": "code",
   "execution_count": 5,
   "metadata": {},
   "outputs": [],
   "source": [
    "def my_hist_data_end_handler(msg):\n",
    "    global bar_data_list\n",
    "    global busy\n",
    "    global active_symbol\n",
    "    \n",
    "    '''\n",
    "    # Merge collected data into dataframe\n",
    "    df = pd.DataFrame(columns=('date', 'open', 'high', 'low', 'close', 'volume'))\n",
    "    for bar in bar_data_list:\n",
    "        row = {'date': bar.date, 'open': bar.open, 'high': bar.high, 'low': bar.low, 'close': bar.close, 'volume': bar.volume}\n",
    "        df = df.append(row, ignore_index=True)\n",
    "    df.loc[:, 'date'] = pd.to_datetime(df.date, format='%Y%m%d') #'%Y%m%d  %H:%M:%S'\n",
    "    df = df.set_index('date')\n",
    "\n",
    "    # Write dataframe to csv file\n",
    "    symbol_db = TinyDB('symbol_db.json')\n",
    "    my_query = Query()\n",
    "    result = symbol_db.search(my_query.Id == active_symbol)\n",
    "    current_symbol = result[0]\n",
    "    sy = current_symbol['Symbol']\n",
    "    ex = current_symbol['Exchange']\n",
    "    df.to_csv('data/' + sy + '_' + ex + '.csv')\n",
    "    '''\n",
    "    \n",
    "    # Merge and write received data to pickle file\n",
    "    symbol_db = TinyDB('symbol_db.json')\n",
    "    my_query = Query()\n",
    "    result = symbol_db.search(my_query.Id == active_symbol)\n",
    "    current_symbol = result[0]\n",
    "    sy = current_symbol['Symbol']\n",
    "    ex = current_symbol['Exchange']\n",
    "    \n",
    "    # textfile = open('data/' + sy + '_' + ex + '.txt', 'w+')\n",
    "    # textfile.write(\"\\n\".join(bar_data_list))\n",
    "    # textfile.close()\n",
    "    \n",
    "    with open('data/pickles/' + sy + '_' + ex, 'wb') as fp:\n",
    "        pickle.dump(bar_data_list, fp)\n",
    "    \n",
    "    # write finished info to symbol database\n",
    "    symbol_db.update({'Status': 'Finished'}, my_query.Id == active_symbol)\n",
    "    symbol_db.close()\n",
    "    \n",
    "    bar_data_list = []\n",
    "    active_symbol = []\n",
    "    busy = False"
   ]
  },
  {
   "cell_type": "code",
   "execution_count": 6,
   "metadata": {},
   "outputs": [],
   "source": [
    "def my_error_handler(msg):\n",
    "    global bar_data_list\n",
    "    global busy\n",
    "    global active_symbol\n",
    "    \n",
    "    # write msg info to symbol database\n",
    "    symbol_db = TinyDB('symbol_db.json')\n",
    "    my_query = Query()\n",
    "    # todo: clean message\n",
    "    symbol_db.update({'Status': msg.errorMsg}, my_query.Id == active_symbol)\n",
    "    symbol_db.close()\n",
    "    \n",
    "    bar_data_list = []\n",
    "    active_symbol = []\n",
    "    busy = False"
   ]
  },
  {
   "cell_type": "code",
   "execution_count": 7,
   "metadata": {},
   "outputs": [],
   "source": [
    "# file = open('symbollist.txt')\n",
    "# symbols = file.read().splitlines()\n",
    "# file.close()\n",
    "# symbols = symbols[:3]\n",
    "\n",
    "# symbols_df = pd.read_csv('symbol_database.csv', sep=';')\n",
    "# symbols_df['Status'] = 'Untouched'\n",
    "# symbols_df = symbols_df.loc[0:7, :]\n",
    "\n",
    "# symbols = ['DAI', 'BMW', 'SAP', 'BAY']\n",
    "# symbols = ['TSLA', 'ADBE', 'NVDA', 'AMD', 'INTL']"
   ]
  },
  {
   "cell_type": "code",
   "execution_count": 8,
   "metadata": {},
   "outputs": [],
   "source": [
    "endtime = strftime('%Y%m%d %H:%M:%S')\n",
    "start_id = 998\n",
    "end_id = 2000"
   ]
  },
  {
   "cell_type": "code",
   "execution_count": 9,
   "metadata": {},
   "outputs": [
    {
     "data": {
      "text/plain": [
       "True"
      ]
     },
     "execution_count": 9,
     "metadata": {},
     "output_type": "execute_result"
    }
   ],
   "source": [
    "con = ibConnection(port=7497)\n",
    "con.register(my_hist_data_handler, message.historicalData)\n",
    "con.register(my_hist_data_end_handler, message.historicalDataEnd)\n",
    "con.register(my_error_handler, message.error)"
   ]
  },
  {
   "cell_type": "code",
   "execution_count": 10,
   "metadata": {},
   "outputs": [
    {
     "data": {
      "application/vnd.jupyter.widget-view+json": {
       "model_id": "2b655bd620ee4e24bc1b21564c315484",
       "version_major": 2,
       "version_minor": 0
      },
      "text/plain": [
       "HBox(children=(IntProgress(value=0, max=1003), HTML(value='')))"
      ]
     },
     "metadata": {},
     "output_type": "display_data"
    },
    {
     "name": "stderr",
     "output_type": "stream",
     "text": [
      "Exception in message dispatch.  Handler 'my_hist_data_end_handler' for 'historicalDataEnd'\n",
      "Traceback (most recent call last):\n",
      "  File \"c:\\users\\marti\\dev\\_pyvenvs\\latest36\\lib\\site-packages\\ibpythonic\\dispatcher.py\", line 43, in __call__\n",
      "    results.append(listener(message))\n",
      "  File \"<ipython-input-5-2020e253d921>\", line 29, in my_hist_data_end_handler\n",
      "    current_symbol = result[0]\n",
      "IndexError: list index out of range\n",
      "Exception in message dispatch.  Handler 'my_hist_data_end_handler' for 'historicalDataEnd'\n",
      "Traceback (most recent call last):\n",
      "  File \"c:\\users\\marti\\dev\\_pyvenvs\\latest36\\lib\\site-packages\\ibpythonic\\dispatcher.py\", line 43, in __call__\n",
      "    results.append(listener(message))\n",
      "  File \"<ipython-input-5-2020e253d921>\", line 29, in my_hist_data_end_handler\n",
      "    current_symbol = result[0]\n",
      "IndexError: list index out of range\n",
      "Exception in message dispatch.  Handler 'my_hist_data_end_handler' for 'historicalDataEnd'\n",
      "Traceback (most recent call last):\n",
      "  File \"c:\\users\\marti\\dev\\_pyvenvs\\latest36\\lib\\site-packages\\ibpythonic\\dispatcher.py\", line 43, in __call__\n",
      "    results.append(listener(message))\n",
      "  File \"<ipython-input-5-2020e253d921>\", line 29, in my_hist_data_end_handler\n",
      "    current_symbol = result[0]\n",
      "IndexError: list index out of range\n"
     ]
    },
    {
     "name": "stdout",
     "output_type": "stream",
     "text": [
      "\n"
     ]
    },
    {
     "data": {
      "text/plain": [
       "True"
      ]
     },
     "execution_count": 10,
     "metadata": {},
     "output_type": "execute_result"
    },
    {
     "name": "stderr",
     "output_type": "stream",
     "text": [
      "unhandled exception in EReader thread\n",
      "Traceback (most recent call last):\n",
      "  File \"c:\\users\\marti\\dev\\_pyvenvs\\latest36\\lib\\site-packages\\ibapi\\reader.py\", line 34, in run\n",
      "    data = self.conn.recvMsg()\n",
      "  File \"c:\\users\\marti\\dev\\_pyvenvs\\latest36\\lib\\site-packages\\ibapi\\connection.py\", line 99, in recvMsg\n",
      "    buf = self._recvAllMsg()\n",
      "  File \"c:\\users\\marti\\dev\\_pyvenvs\\latest36\\lib\\site-packages\\ibapi\\connection.py\", line 119, in _recvAllMsg\n",
      "    buf = self.socket.recv(4096)\n",
      "OSError: [WinError 10038] An operation was attempted on something that is not a socket\n"
     ]
    }
   ],
   "source": [
    "con.connect()\n",
    "    \n",
    "for index in tqdm(range(start_id, end_id+1)):\n",
    "    global busy\n",
    "    global active_symbol\n",
    "    \n",
    "    # Get symbol data from symbol db\n",
    "    symbol_db = TinyDB('symbol_db.json')\n",
    "    my_query = Query()\n",
    "    result = symbol_db.search(my_query.Id == index)\n",
    "    symbol_db.close()\n",
    "    current_symbol = result[0]\n",
    "    \n",
    "    # Skip symbol if data present\n",
    "    if current_symbol['Status'] != 'untouched':\n",
    "        continue\n",
    "    \n",
    "    # Create contract and request data\n",
    "    contractTuple = (current_symbol['Symbol'], 'STK', current_symbol['Exchange'], current_symbol['Currency'])\n",
    "    stkContract = makeStkContract(contractTuple)\n",
    "    active_symbol = index\n",
    "    busy = True\n",
    "    con.reqHistoricalData(1,stkContract,endtime,\"10 Y\",\"1 day\",\"MIDPOINT\",1,1, keepUpToDate=False, chartOptions=[])\n",
    "    \n",
    "    # Wait for data download and storage\n",
    "    while busy is True:\n",
    "        sleep(0.2)\n",
    "    sleep(0.2)\n",
    "\n",
    "con.disconnect()"
   ]
  },
  {
   "cell_type": "code",
   "execution_count": 15,
   "metadata": {
    "collapsed": true,
    "jupyter": {
     "outputs_hidden": true
    }
   },
   "outputs": [
    {
     "name": "stdout",
     "output_type": "stream",
     "text": [
      "{'Id': 0, 'Symbol': 'BNQF', 'Name': 'Collateralized ETC on RICI Enhanced Gas Oil TR Index', 'Currency': 'EUR', 'Exchange': 'FWB', 'Status': 'Market data farm connection is OK:usfarm.nj'}\n",
      "{'Id': 1, 'Symbol': 'CNB', 'Name': 'Lyxor Euro Corporate Bond Ex Financials UCITS ETF', 'Currency': 'EUR', 'Exchange': 'FWB', 'Status': 'Finished'}\n",
      "{'Id': 2, 'Symbol': 'UEF5', 'Name': 'UBS ETF - MSCI Emerging Markets Socially Responsible UCITS ETF', 'Currency': 'EUR', 'Exchange': 'FWB', 'Status': 'Historical Market Data Service error message:No market data permissions for FWB STK'}\n",
      "{'Id': 3, 'Symbol': 'GOMA', 'Name': 'BNP Paribas Easy Barclays Euro Government Inflation Linked All Maturities ETF', 'Currency': 'EUR', 'Exchange': 'FWB', 'Status': 'Historical Market Data Service error message:No market data permissions for FWB STK'}\n",
      "{'Id': 4, 'Symbol': 'X0BM', 'Name': 'Coba ETC -2 x Platinum Daily Short Index', 'Currency': 'EUR', 'Exchange': 'FWB', 'Status': 'Finished'}\n",
      "{'Id': 5, 'Symbol': 'FLOT', 'Name': 'Lyxor Barclays Floating Rate Euro 0-7Y UCITS ETF', 'Currency': 'EUR', 'Exchange': 'FWB', 'Status': 'Historical Market Data Service error message:No market data permissions for FWB STK'}\n",
      "{'Id': 6, 'Symbol': 'X0E2', 'Name': 'Coba ETC 2x Gasoil Daily Long Index', 'Currency': 'EUR', 'Exchange': 'FWB', 'Status': 'Finished'}\n",
      "{'Id': 7, 'Symbol': 'ETLH', 'Name': 'L&G Ecommerce Logistics UCITS ETF', 'Currency': 'EUR', 'Exchange': 'FWB', 'Status': 'Historical Market Data Service error message:No market data permissions for FWB STK'}\n",
      "{'Id': 8, 'Symbol': 'PP2', 'Name': 'ComStage ETF PSI 20 Leverage UCITS ETF', 'Currency': 'EUR', 'Exchange': 'FWB', 'Status': 'Historical Market Data Service error message:No market data permissions for FWB STK'}\n",
      "{'Id': 9, 'Symbol': 'XBO3', 'Name': 'Xtrackers II Italy Government Aggregate Bond Swap UCITS ETF', 'Currency': 'EUR', 'Exchange': 'FWB', 'Status': 'Historical Market Data Service error message:No market data permissions for FWB STK'}\n",
      "{'Id': 10, 'Symbol': 'WTIZ', 'Name': 'WisdomTree Japan Equity UCITS ETF', 'Currency': 'EUR', 'Exchange': 'FWB', 'Status': 'Historical Market Data Service error message:No market data permissions for FWB STK'}\n",
      "{'Id': 11, 'Symbol': 'XBJA', 'Name': 'ETFS Long CHF Short EUR', 'Currency': 'EUR', 'Exchange': 'FWB', 'Status': 'Market data farm connection is broken:secdefnj'}\n",
      "{'Id': 12, 'Symbol': '4GLD', 'Name': 'Xetra-Gold', 'Currency': 'EUR', 'Exchange': 'FWB', 'Status': 'Market data farm connection is OK:secdefnj'}\n",
      "{'Id': 13, 'Symbol': '2OIL', 'Name': 'Boost WTI Oil 2x Leverage Daily ETP', 'Currency': 'EUR', 'Exchange': 'FWB', 'Status': \"Error processing request:-'bP' : cause - Duplicate ticker ID for API historical data query\"}\n",
      "{'Id': 14, 'Symbol': 'XMVE', 'Name': 'Xtrackers MSCI EMU Minimum Volatility UCITS ETF', 'Currency': 'EUR', 'Exchange': 'FWB', 'Status': \"Error processing request:-'bP' : cause - Duplicate ticker ID for API historical data query\"}\n",
      "{'Id': 15, 'Symbol': 'EQUA', 'Name': 'BNP PARIBAS EASY Equity Quality Europe UCITS ETF', 'Currency': 'EUR', 'Exchange': 'FWB', 'Status': 'Historical Market Data Service error message:No market data permissions for FWB STK'}\n",
      "{'Id': 16, 'Symbol': 'X0C1', 'Name': 'Coba ETC 1x Brent Oil Daily Long', 'Currency': 'EUR', 'Exchange': 'FWB', 'Status': 'Finished'}\n",
      "{'Id': 17, 'Symbol': 'EL4F', 'Name': 'Deka DAX ausschuettend UCITS ETF', 'Currency': 'EUR', 'Exchange': 'FWB', 'Status': 'Historical Market Data Service error message:No market data permissions for FWB STK'}\n",
      "{'Id': 18, 'Symbol': 'WTDY', 'Name': 'WisdomTree US Equity Income UCITS ETF', 'Currency': 'EUR', 'Exchange': 'FWB', 'Status': 'Historical Market Data Service error message:No market data permissions for FWB STK'}\n",
      "{'Id': 19, 'Symbol': '00XS', 'Name': 'ETFS EUR Daily Hedged Wheat', 'Currency': 'EUR', 'Exchange': 'FWB', 'Status': 'Finished'}\n",
      "{'Id': 20, 'Symbol': 'X03B', 'Name': 'Xtrackers II Eurozone Government Bond 1-3 UCITS ETF', 'Currency': 'EUR', 'Exchange': 'FWB', 'Status': 'Historical Market Data Service error message:No market data permissions for FWB STK'}\n",
      "{'Id': 21, 'Symbol': 'E903', 'Name': 'ComStage 1 DivDAX UCITS ETF', 'Currency': 'EUR', 'Exchange': 'FWB', 'Status': 'Historical Market Data Service error message:No market data permissions for FWB STK'}\n",
      "{'Id': 22, 'Symbol': 'CG1', 'Name': 'Amundi ETF DAX UCITS ETF DR', 'Currency': 'EUR', 'Exchange': 'FWB', 'Status': 'Historical Market Data Service error message:No market data permissions for FWB STK'}\n",
      "{'Id': 23, 'Symbol': 'EL4S', 'Name': 'Deka DB EUROGOV Germany 1-3 UCITS ETF', 'Currency': 'EUR', 'Exchange': 'FWB', 'Status': 'Historical Market Data Service error message:No market data permissions for FWB STK'}\n",
      "{'Id': 24, 'Symbol': 'C054', 'Name': 'ComStage ETF FR EURO STOXX 50 UCITS ETF', 'Currency': 'EUR', 'Exchange': 'FWB', 'Status': 'Historical Market Data Service error message:No market data permissions for FWB STK'}\n",
      "{'Id': 25, 'Symbol': 'M9SD', 'Name': 'Market Access NYSE Arca Gold Bugs Index UCITS ETF', 'Currency': 'EUR', 'Exchange': 'FWB', 'Status': 'Historical Market Data Service error message:No market data permissions for FWB STK'}\n",
      "{'Id': 26, 'Symbol': 'D5BF', 'Name': 'Xtrackers II US Treasuries Inflation-Linked UCITS ETF', 'Currency': 'EUR', 'Exchange': 'FWB', 'Status': 'Historical Market Data Service error message:No market data permissions for FWB STK'}\n",
      "{'Id': 27, 'Symbol': 'X0BB', 'Name': 'Coba ETC 3x Cocoa Daily Long', 'Currency': 'EUR', 'Exchange': 'FWB', 'Status': 'Finished'}\n",
      "{'Id': 28, 'Symbol': 'WTEM', 'Name': 'WisdomTree Global Quality Dividend Growth UCITS ETF', 'Currency': 'EUR', 'Exchange': 'FWB', 'Status': 'Historical Market Data Service error message:No market data permissions for FWB STK'}\n",
      "{'Id': 29, 'Symbol': 'WSRI', 'Name': 'Amundi Index MSCI World SRI UCITS ETF DR', 'Currency': 'EUR', 'Exchange': 'FWB', 'Status': 'Historical Market Data Service error message:No market data permissions for FWB STK'}\n",
      "{'Id': 30, 'Symbol': 'EL4W', 'Name': 'Deka DB EUROGOV Germany MM UCITS ETF', 'Currency': 'EUR', 'Exchange': 'FWB', 'Status': 'Historical Market Data Service error message:No market data permissions for FWB STK'}\n",
      "{'Id': 31, 'Symbol': 'PCFN', 'Name': 'BOOST GOLD 3X SHORT DAILY', 'Currency': 'EUR', 'Exchange': 'FWB', 'Status': 'Finished'}\n",
      "{'Id': 32, 'Symbol': 'CJ1', 'Name': 'Amundi Index MSCI Japan UCITS ETF DR', 'Currency': 'EUR', 'Exchange': 'FWB', 'Status': 'Historical Market Data Service error message:No market data permissions for FWB STK'}\n",
      "{'Id': 33, 'Symbol': '5X60', 'Name': 'ComStage ETF Commerzbank Bund-Future TR UCITS ETF', 'Currency': 'EUR', 'Exchange': 'FWB', 'Status': 'Historical Market Data Service error message:No market data permissions for FWB STK'}\n",
      "{'Id': 34, 'Symbol': 'DIUS', 'Name': 'BNP Paribas Easy Equity Dividend US UCIITS ETF', 'Currency': 'EUR', 'Exchange': 'FWB', 'Status': 'Historical Market Data Service error message:No market data permissions for FWB STK'}\n",
      "{'Id': 35, 'Symbol': 'FEUQ', 'Name': 'Fidelity Europe Quality Income UCITS ETF', 'Currency': 'EUR', 'Exchange': 'FWB', 'Status': 'Historical Market Data Service error message:No market data permissions for FWB STK'}\n",
      "{'Id': 36, 'Symbol': 'OD72', 'Name': 'ETFS Petroleum', 'Currency': 'EUR', 'Exchange': 'FWB', 'Status': 'Finished'}\n",
      "{'Id': 37, 'Symbol': 'ETL2', 'Name': 'L&G Longer Dated All Commodities UCITS ETF', 'Currency': 'EUR', 'Exchange': 'FWB', 'Status': 'Historical Market Data Service error message:No market data permissions for FWB STK'}\n",
      "{'Id': 38, 'Symbol': 'WTEA', 'Name': 'WisdomTree Emerging Asia Equity Income UCITS ETF', 'Currency': 'EUR', 'Exchange': 'FWB', 'Status': 'Historical Market Data Service error message:No market data permissions for FWB STK'}\n",
      "{'Id': 39, 'Symbol': 'C100', 'Name': 'ComStage ETF Commerzbank EONIA Index TR UCITS ETF', 'Currency': 'EUR', 'Exchange': 'FWB', 'Status': 'Historical Market Data Service error message:No market data permissions for FWB STK'}\n",
      "{'Id': 40, 'Symbol': 'DBX9', 'Name': 'Xtrackers FTSE China 50 UCITS ETF', 'Currency': 'EUR', 'Exchange': 'FWB', 'Status': 'Historical Market Data Service error message:No market data permissions for FWB STK'}\n",
      "{'Id': 41, 'Symbol': 'CAPU', 'Name': 'OSSIAM SHILLER BARCLAYS CAPE US SECTOR VALUE TR', 'Currency': 'EUR', 'Exchange': 'FWB', 'Status': 'Historical Market Data Service error message:No market data permissions for FWB STK'}\n",
      "{'Id': 42, 'Symbol': 'XAD1', 'Name': 'Xtrackers Physical Gold EUR Hedged ETC', 'Currency': 'EUR', 'Exchange': 'FWB', 'Status': 'Finished'}\n",
      "{'Id': 43, 'Symbol': 'MA13', 'Name': 'Multi Units Luxembourg-Lyxor EUROMTS Highest Rated Macro-Weighted Govt Bond 1-3Y', 'Currency': 'EUR', 'Exchange': 'FWB', 'Status': 'Historical Market Data Service error message:No market data permissions for FWB STK'}\n",
      "{'Id': 44, 'Symbol': 'ETLI', 'Name': 'L&G Pharma Breakthrough UCITS ETF', 'Currency': 'EUR', 'Exchange': 'FWB', 'Status': 'Historical Market Data Service error message:No market data permissions for FWB STK'}\n",
      "{'Id': 45, 'Symbol': 'X0CQ', 'Name': 'Coba ETC -4x Silver Daily Short', 'Currency': 'EUR', 'Exchange': 'FWB', 'Status': 'Finished'}\n",
      "{'Id': 46, 'Symbol': 'CGB', 'Name': 'Xtrackers II Harvest China Government Bond UCITS ETF', 'Currency': 'EUR', 'Exchange': 'FWB', 'Status': 'Historical Market Data Service error message:No market data permissions for FWB STK'}\n",
      "{'Id': 47, 'Symbol': 'UETW', 'Name': 'UBS Irl ETF plc - MSCI World UCITS ETF', 'Currency': 'EUR', 'Exchange': 'FWB', 'Status': 'Historical Market Data Service error message:No market data permissions for FWB STK'}\n",
      "{'Id': 48, 'Symbol': 'XZEU', 'Name': 'Xtrackers ESG MSCI Europe UCITS ETF', 'Currency': 'EUR', 'Exchange': 'FWB', 'Status': 'Historical Market Data Service error message:No market data permissions for FWB STK'}\n",
      "{'Id': 49, 'Symbol': 'SPYB', 'Name': 'SPDR MSCI EM Europe UCITS ETF', 'Currency': 'EUR', 'Exchange': 'FWB', 'Status': 'Historical Market Data Service error message:No market data permissions for FWB STK'}\n",
      "{'Id': 50, 'Symbol': 'LYY7', 'Name': 'Lyxor DAX DR UCITS ETF', 'Currency': 'EUR', 'Exchange': 'FWB', 'Status': 'Historical Market Data Service error message:No market data permissions for FWB STK'}\n",
      "{'Id': 51, 'Symbol': 'VAGF', 'Name': 'Vanguard Global Aggregate Bond UCITS ETF', 'Currency': 'EUR', 'Exchange': 'FWB', 'Status': 'Historical Market Data Service error message:No market data permissions for FWB STK'}\n",
      "{'Id': 52, 'Symbol': 'XUEK', 'Name': 'Xtrackers S&P Europe ex UK UCITS ETF', 'Currency': 'EUR', 'Exchange': 'FWB', 'Status': 'Historical Market Data Service error message:No market data permissions for FWB STK'}\n",
      "{'Id': 53, 'Symbol': 'H4ZH', 'Name': 'HSBC MSCI PACIFIC EX JAPAN UCITS ETF', 'Currency': 'EUR', 'Exchange': 'FWB', 'Status': 'Historical Market Data Service error message:No market data permissions for FWB STK'}\n",
      "{'Id': 54, 'Symbol': 'EXV3', 'Name': 'iShares STOXX Europe 600 Technology UCITS ETF DE', 'Currency': 'EUR', 'Exchange': 'FWB', 'Status': 'Historical Market Data Service error message:No market data permissions for FWB STK'}\n",
      "{'Id': 55, 'Symbol': 'X0CU', 'Name': 'Coba ETN -5x BUNDF Daily Short', 'Currency': 'EUR', 'Exchange': 'FWB', 'Status': 'Finished'}\n",
      "{'Id': 56, 'Symbol': 'MATW', 'Name': 'Lyxor MSCI World Materials TR UCITS ETF', 'Currency': 'EUR', 'Exchange': 'FWB', 'Status': 'Historical Market Data Service error message:No market data permissions for FWB STK'}\n",
      "{'Id': 57, 'Symbol': 'TRV', 'Name': 'Lyxor STOXX Europe 600 Travel & Leisure UCITS ETF', 'Currency': 'EUR', 'Exchange': 'FWB', 'Status': 'Historical Market Data Service error message:No market data permissions for FWB STK'}\n",
      "{'Id': 58, 'Symbol': 'UIM9', 'Name': 'UBS ETF-MSCI Canada UCITS ETF', 'Currency': 'EUR', 'Exchange': 'FWB', 'Status': 'Historical Market Data Service error message:No market data permissions for FWB STK'}\n",
      "{'Id': 59, 'Symbol': 'UBUM', 'Name': 'UBS Irl ETF plc - DJ Global Select Dividend UCITS ETF', 'Currency': 'EUR', 'Exchange': 'FWB', 'Status': 'Historical Market Data Service error message:No market data permissions for FWB STK'}\n",
      "{'Id': 60, 'Symbol': 'ELFB', 'Name': 'Deka Oekom Euro Nachhaltigkeit UCITS ETF', 'Currency': 'EUR', 'Exchange': 'FWB', 'Status': 'Historical Market Data Service error message:No market data permissions for FWB STK'}\n",
      "{'Id': 61, 'Symbol': 'EL4R', 'Name': 'Deka DB EUROGOV Germany UCITS ETF', 'Currency': 'EUR', 'Exchange': 'FWB', 'Status': 'Historical Market Data Service error message:No market data permissions for FWB STK'}\n",
      "{'Id': 62, 'Symbol': 'EL4E', 'Name': 'Deka STOXX Europe Strong Style Composite 40 UCITS ETF', 'Currency': 'EUR', 'Exchange': 'FWB', 'Status': 'Historical Market Data Service error message:No market data permissions for FWB STK'}\n",
      "{'Id': 63, 'Symbol': 'ESE', 'Name': 'BNP Paribas Easy S&P 500 UCITS ETF', 'Currency': 'EUR', 'Exchange': 'FWB', 'Status': 'Historical Market Data Service error message:No market data permissions for FWB STK'}\n",
      "{'Id': 64, 'Symbol': 'XDW0', 'Name': 'Xtrackers MSCI World Energy UCITS ETF', 'Currency': 'EUR', 'Exchange': 'FWB', 'Status': 'Historical Market Data Service error message:No market data permissions for FWB STK'}\n",
      "{'Id': 65, 'Symbol': 'C007', 'Name': 'ComStage MDAX TR UCITS ETF', 'Currency': 'EUR', 'Exchange': 'FWB', 'Status': 'Historical Market Data Service error message:No market data permissions for FWB STK'}\n",
      "{'Id': 66, 'Symbol': 'EXW1', 'Name': 'iShares Core EURO STOXX 50 UCITS ETF DE', 'Currency': 'EUR', 'Exchange': 'FWB', 'Status': 'Historical Market Data Service error message:No market data permissions for FWB STK'}\n",
      "{'Id': 67, 'Symbol': 'H410', 'Name': 'HSBC MSCI EMERGING MARKETS UCITS ETF', 'Currency': 'EUR', 'Exchange': 'FWB', 'Status': 'Historical Market Data Service error message:No market data permissions for FWB STK'}\n",
      "{'Id': 68, 'Symbol': 'C068', 'Name': 'ComStage ETF STOXX Europe 600 Health Care NR UCITS ETF', 'Currency': 'EUR', 'Exchange': 'FWB', 'Status': 'Historical Market Data Service error message:No market data permissions for FWB STK'}\n",
      "{'Id': 69, 'Symbol': 'THA', 'Name': 'Lyxor MSCI Thailand UCITS ETF', 'Currency': 'EUR', 'Exchange': 'FWB', 'Status': 'Historical Market Data Service error message:No market data permissions for FWB STK'}\n",
      "{'Id': 70, 'Symbol': 'DBX0', 'Name': 'Xtrackers Portfolio UCITS ETF', 'Currency': 'EUR', 'Exchange': 'FWB', 'Status': 'Historical Market Data Service error message:No market data permissions for FWB STK'}\n",
      "{'Id': 71, 'Symbol': 'EXS3', 'Name': 'iShares MDAX UCITS ETF DE', 'Currency': 'EUR', 'Exchange': 'FWB', 'Status': 'Historical Market Data Service error message:No market data permissions for FWB STK'}\n",
      "{'Id': 72, 'Symbol': 'X0CD', 'Name': 'Coba ETN -2x HSCEIF Daily Short', 'Currency': 'EUR', 'Exchange': 'FWB', 'Status': 'Finished'}\n",
      "{'Id': 73, 'Symbol': 'GG9B', 'Name': 'Gold Bullion Securities Ltd', 'Currency': 'EUR', 'Exchange': 'FWB', 'Status': 'Finished'}\n",
      "{'Id': 74, 'Symbol': 'HLT', 'Name': 'Lyxor STOXX Europe 600 Healthcare UCITS ETF', 'Currency': 'EUR', 'Exchange': 'FWB', 'Status': 'Historical Market Data Service error message:No market data permissions for FWB STK'}\n",
      "{'Id': 75, 'Symbol': 'X0C3', 'Name': 'Coba ETC -1x Brent Oil Daily Short', 'Currency': 'EUR', 'Exchange': 'FWB', 'Status': 'Finished'}\n",
      "{'Id': 76, 'Symbol': 'DBXT', 'Name': 'Xtrackers II EUR Overnight Rate Swap UCITS ETF', 'Currency': 'EUR', 'Exchange': 'FWB', 'Status': 'Historical Market Data Service error message:No market data permissions for FWB STK'}\n",
      "{'Id': 77, 'Symbol': 'X0DJ', 'Name': 'Coba ETN -3x DJIAF Daily Short', 'Currency': 'EUR', 'Exchange': 'FWB', 'Status': 'Finished'}\n",
      "{'Id': 78, 'Symbol': 'XQUA', 'Name': 'Xtrackers USD Emerging Markets Bond Quality Weighted UCITS ETF', 'Currency': 'EUR', 'Exchange': 'FWB', 'Status': 'Historical Market Data Service error message:No market data permissions for FWB STK'}\n",
      "{'Id': 79, 'Symbol': '5XYE', 'Name': 'HAN-GINS Cloud Technology UCITS ETF', 'Currency': 'EUR', 'Exchange': 'FWB', 'Status': 'Historical Market Data Service error message:No market data permissions for FWB STK'}\n",
      "{'Id': 80, 'Symbol': 'C004', 'Name': 'ComStage ETF ShortDAX TR UCITS ETF', 'Currency': 'EUR', 'Exchange': 'FWB', 'Status': 'Historical Market Data Service error message:No market data permissions for FWB STK'}\n",
      "{'Id': 81, 'Symbol': 'PR1R', 'Name': 'AMUNDI PRIME EURO GOVIES UCITS ETF DR', 'Currency': 'EUR', 'Exchange': 'FWB', 'Status': 'Historical Market Data Service error message:No market data permissions for FWB STK'}\n",
      "{'Id': 82, 'Symbol': 'DBXN', 'Name': 'Xtrackers II Eurozone Government Bond UCITS ETF', 'Currency': 'EUR', 'Exchange': 'FWB', 'Status': 'Historical Market Data Service error message:No market data permissions for FWB STK'}\n",
      "{'Id': 83, 'Symbol': 'CB5', 'Name': 'Amundi ETF MSCI Europe Banks UCITS ETF', 'Currency': 'EUR', 'Exchange': 'FWB', 'Status': 'Historical Market Data Service error message:No market data permissions for FWB STK'}\n",
      "{'Id': 84, 'Symbol': 'ISPA', 'Name': 'iShares STOXX Global Select Dividend 100 UCITS DE', 'Currency': 'EUR', 'Exchange': 'FWB', 'Status': 'Historical Market Data Service error message:No market data permissions for FWB STK'}\n",
      "{'Id': 85, 'Symbol': 'C099', 'Name': 'ComStage CBK Commodity ex-Agriculture Monthly EUR Hedged UCITS ETF', 'Currency': 'EUR', 'Exchange': 'FWB', 'Status': 'Historical Market Data Service error message:No market data permissions for FWB STK'}\n",
      "{'Id': 86, 'Symbol': 'XUEN', 'Name': 'Xtrackers MSCI USA Energy UCITS ETF', 'Currency': 'EUR', 'Exchange': 'FWB', 'Status': 'Historical Market Data Service error message:No market data permissions for FWB STK'}\n",
      "{'Id': 87, 'Symbol': 'XUTD', 'Name': 'Xtrackers II US Treasuries UCITS ETF', 'Currency': 'EUR', 'Exchange': 'FWB', 'Status': 'Historical Market Data Service error message:No market data permissions for FWB STK'}\n",
      "{'Id': 88, 'Symbol': 'X04A', 'Name': 'Coba ETN 1x SX5EF Daily Long', 'Currency': 'EUR', 'Exchange': 'FWB', 'Status': 'Finished'}\n",
      "{'Id': 89, 'Symbol': 'USEUWH', 'Name': 'UBS Irl ETF plc - MSCI USA hedged to EUR UCITS ETF', 'Currency': 'EUR', 'Exchange': 'FWB', 'Status': 'Historical Market Data Service error message:No market data permissions for FWB STK'}\n",
      "{'Id': 90, 'Symbol': 'DES2', 'Name': 'L&G DAX Daily 2x Short UCITS ETF', 'Currency': 'EUR', 'Exchange': 'FWB', 'Status': 'Historical Market Data Service error message:No market data permissions for FWB STK'}\n",
      "{'Id': 91, 'Symbol': 'LYX5', 'Name': 'Lyxor J.P. Morgan Multi-Factor Europe Index UCITS ETF', 'Currency': 'EUR', 'Exchange': 'FWB', 'Status': 'Historical Market Data Service error message:No market data permissions for FWB STK'}\n",
      "{'Id': 92, 'Symbol': 'C033', 'Name': 'ComStage MSCI Spain TRN UCITS ETF', 'Currency': 'EUR', 'Exchange': 'FWB', 'Status': 'Historical Market Data Service error message:No market data permissions for FWB STK'}\n",
      "{'Id': 93, 'Symbol': 'TDIV', 'Name': 'THINK Morningstar High Dividend UCITS ETF', 'Currency': 'EUR', 'Exchange': 'FWB', 'Status': 'Historical Market Data Service error message:No market data permissions for FWB STK'}\n",
      "{'Id': 94, 'Symbol': '4RTD', 'Name': 'ETFS 1X Daily Short Natural Gas', 'Currency': 'EUR', 'Exchange': 'FWB', 'Status': 'Finished'}\n",
      "{'Id': 95, 'Symbol': 'BCFE', 'Name': 'UBS ETFs PLC - Bloomberg Commodity CMCI SF UCITS ETF', 'Currency': 'EUR', 'Exchange': 'FWB', 'Status': 'Historical Market Data Service error message:No market data permissions for FWB STK'}\n",
      "{'Id': 96, 'Symbol': 'OOEA', 'Name': 'ETFS Brent Crude', 'Currency': 'EUR', 'Exchange': 'FWB', 'Status': 'Finished'}\n",
      "{'Id': 97, 'Symbol': 'MA57', 'Name': 'Lyxor EUROMTS Highest Rated Macro-Weighted Govt Bond 5-7Y UCITS ETF', 'Currency': 'EUR', 'Exchange': 'FWB', 'Status': 'Historical Market Data Service error message:No market data permissions for FWB STK'}\n",
      "{'Id': 98, 'Symbol': 'LCUA', 'Name': 'Lyxor MSCI EM Asia UCITS ETF', 'Currency': 'EUR', 'Exchange': 'FWB', 'Status': 'Historical Market Data Service error message:No market data permissions for FWB STK'}\n",
      "{'Id': 99, 'Symbol': 'UST', 'Name': 'Lyxor Nasdaq-100 UCITS ETF', 'Currency': 'EUR', 'Exchange': 'FWB', 'Status': 'Historical Market Data Service error message:No market data permissions for FWB STK'}\n",
      "{'Id': 100, 'Symbol': '5CH5', 'Name': 'ETFS 5x Long USD Short EUR', 'Currency': 'EUR', 'Exchange': 'FWB', 'Status': 'Finished'}\n",
      "{'Id': 101, 'Symbol': '9GAL', 'Name': 'ETFS Longer Dated Agriculture', 'Currency': 'EUR', 'Exchange': 'FWB', 'Status': 'Finished'}\n",
      "{'Id': 102, 'Symbol': 'X0DN', 'Name': 'Coba ETN -3x SPXF Daily Short', 'Currency': 'EUR', 'Exchange': 'FWB', 'Status': 'Finished'}\n",
      "{'Id': 103, 'Symbol': 'VALD', 'Name': 'BNP PARIBAS EASY Equity Value Europe UCITS ETF', 'Currency': 'EUR', 'Exchange': 'FWB', 'Status': 'Historical Market Data Service error message:No market data permissions for FWB STK'}\n",
      "{'Id': 104, 'Symbol': 'WTDH', 'Name': 'WisdomTree Europe Equity UCITS ETF', 'Currency': 'EUR', 'Exchange': 'FWB', 'Status': 'Historical Market Data Service error message:No market data permissions for FWB STK'}\n",
      "{'Id': 105, 'Symbol': 'UEFI', 'Name': 'UBS ETF - Bloomberg Barclays US 7-10 Year Treasury Bond UCITS ETF', 'Currency': 'EUR', 'Exchange': 'FWB', 'Status': 'Historical Market Data Service error message:No market data permissions for FWB STK'}\n",
      "{'Id': 106, 'Symbol': 'H411', 'Name': 'HSBC MSCI AC FAR EAST EX JAPAN UCITS ETF', 'Currency': 'EUR', 'Exchange': 'FWB', 'Status': 'Historical Market Data Service error message:No market data permissions for FWB STK'}\n",
      "{'Id': 107, 'Symbol': 'VETY', 'Name': 'Vanguard EUR Eurozone Government Bond UCITS ETF', 'Currency': 'EUR', 'Exchange': 'FWB', 'Status': 'Historical Market Data Service error message:No market data permissions for FWB STK'}\n",
      "{'Id': 108, 'Symbol': '5CH2', 'Name': 'ETFS 5x Long AUD Short EUR', 'Currency': 'EUR', 'Exchange': 'FWB', 'Status': 'Finished'}\n",
      "{'Id': 109, 'Symbol': 'X00Q', 'Name': 'Coba ETN -4x MDAXF Daily Short', 'Currency': 'EUR', 'Exchange': 'FWB', 'Status': 'Finished'}\n",
      "{'Id': 110, 'Symbol': 'B4NV', 'Name': 'BNP Paribas EUR Hedged Gold ETC', 'Currency': 'EUR', 'Exchange': 'FWB', 'Status': 'Finished'}\n",
      "{'Id': 111, 'Symbol': 'D5BH', 'Name': 'Xtrackers MSCI Canada UCITS ETF', 'Currency': 'EUR', 'Exchange': 'FWB', 'Status': 'Historical Market Data Service error message:No market data permissions for FWB STK'}\n",
      "{'Id': 112, 'Symbol': 'X13G.OLD', 'Name': 'Amundi ETF Govt Bond Lowest Rated Investment Grade Government Capped 1-3', 'Currency': 'EUR', 'Exchange': 'FWB', 'Status': 'No security definition has been found for the request'}\n",
      "{'Id': 113, 'Symbol': 'H4ZR', 'Name': 'HSBC MSCI CANADA UCITS ETF', 'Currency': 'EUR', 'Exchange': 'FWB', 'Status': 'Historical Market Data Service error message:No market data permissions for FWB STK'}\n",
      "{'Id': 114, 'Symbol': 'OD7C', 'Name': 'ETFS Copper', 'Currency': 'EUR', 'Exchange': 'FWB', 'Status': 'Finished'}\n",
      "{'Id': 115, 'Symbol': 'RUS', 'Name': 'Lyxor MSCI Russia UCITS ETF', 'Currency': 'EUR', 'Exchange': 'FWB', 'Status': 'Historical Market Data Service error message:No market data permissions for FWB STK'}\n",
      "{'Id': 116, 'Symbol': 'X0DA', 'Name': 'Coba ETC 2x Copper Daily Long', 'Currency': 'EUR', 'Exchange': 'FWB', 'Status': 'Finished'}\n",
      "{'Id': 117, 'Symbol': 'SBEME', 'Name': 'UBS ETF - Bloomberg Barclays USD Emerging Markets Sovereign UCITS ETF', 'Currency': 'EUR', 'Exchange': 'FWB', 'Status': 'Historical Market Data Service error message:No market data permissions for FWB STK'}\n",
      "{'Id': 118, 'Symbol': 'EXH3', 'Name': 'iShares STOXX Europe 600 Food & Beverage UCITS ETF DE', 'Currency': 'EUR', 'Exchange': 'FWB', 'Status': 'Historical Market Data Service error message:No market data permissions for FWB STK'}\n",
      "{'Id': 119, 'Symbol': 'X0CJ', 'Name': 'Coba ETC 4x Gold Daily Long', 'Currency': 'EUR', 'Exchange': 'FWB', 'Status': 'Historical Market Data Service error message:No market data permissions for SWB STK'}\n",
      "{'Id': 120, 'Symbol': 'X0BI', 'Name': 'Coba ETC 2 x Platinum Daily Long Index', 'Currency': 'EUR', 'Exchange': 'FWB', 'Status': 'Finished'}\n",
      "{'Id': 121, 'Symbol': 'X00Y', 'Name': 'Coba ETN -3x TECDAXF Daily Short', 'Currency': 'EUR', 'Exchange': 'FWB', 'Status': 'Finished'}\n",
      "{'Id': 122, 'Symbol': 'X501', 'Name': 'ComStage ETF iBoxx Liquid Sovereigns Diversified 3m-1 TR UCITS ETF', 'Currency': 'EUR', 'Exchange': 'FWB', 'Status': 'Historical Market Data Service error message:No market data permissions for FWB STK'}\n",
      "{'Id': 123, 'Symbol': 'OD74', 'Name': 'ETFS Softs', 'Currency': 'EUR', 'Exchange': 'FWB', 'Status': 'Finished'}\n",
      "{'Id': 124, 'Symbol': 'CB3.OLD', 'Name': 'Amundi ETF Govt Bond Euromts Broad Investment Grade UCITS ETF', 'Currency': 'EUR', 'Exchange': 'FWB', 'Status': 'No security definition has been found for the request'}\n",
      "{'Id': 125, 'Symbol': 'BNQR', 'Name': 'Collateralized ETC on RICI Enhanced Zinc TR Index', 'Currency': 'EUR', 'Exchange': 'FWB', 'Status': 'Finished'}\n",
      "{'Id': 126, 'Symbol': 'ETLZ', 'Name': 'L&G Russell 2000 US Small Cap UCITS ETF', 'Currency': 'EUR', 'Exchange': 'FWB', 'Status': 'Historical Market Data Service error message:No market data permissions for FWB STK'}\n",
      "{'Id': 127, 'Symbol': 'OD7Q', 'Name': 'ETFS Soybeans', 'Currency': 'EUR', 'Exchange': 'FWB', 'Status': 'Finished'}\n",
      "{'Id': 128, 'Symbol': 'CC4', 'Name': 'Amundi Index Solutions-Amundi Euro Corporates', 'Currency': 'EUR', 'Exchange': 'FWB', 'Status': 'Historical Market Data Service error message:No market data permissions for FWB STK'}\n",
      "{'Id': 129, 'Symbol': 'GRE', 'Name': 'Lyxor MSCI Greece UCITS ETF', 'Currency': 'EUR', 'Exchange': 'FWB', 'Status': 'Historical Market Data Service error message:No market data permissions for FWB STK'}\n",
      "{'Id': 130, 'Symbol': 'ETBB', 'Name': 'BNP Paribas Easy EURO STOXX 50 UCITS ETF', 'Currency': 'EUR', 'Exchange': 'FWB', 'Status': 'Historical Market Data Service error message:No market data permissions for FWB STK'}\n",
      "{'Id': 131, 'Symbol': 'UBUP', 'Name': 'UBS Irl ETF plc - MSCI EMU Defensive UCITS ETF', 'Currency': 'EUR', 'Exchange': 'FWB', 'Status': 'Historical Market Data Service error message:No market data permissions for FWB STK'}\n",
      "{'Id': 132, 'Symbol': 'SP500E', 'Name': 'UBS Irl ETF plc - S&P 500 UCITS ETF', 'Currency': 'EUR', 'Exchange': 'FWB', 'Status': 'Historical Market Data Service error message:No market data permissions for FWB STK'}\n",
      "{'Id': 133, 'Symbol': 'CD9', 'Name': 'Amundi Index Solutions - Amundi MSCI Europe High Dividend Factor', 'Currency': 'EUR', 'Exchange': 'FWB', 'Status': 'Historical Market Data Service error message:No market data permissions for FWB STK'}\n",
      "{'Id': 134, 'Symbol': '9GAF', 'Name': 'ETFS Longer Dated All Commodities', 'Currency': 'EUR', 'Exchange': 'FWB', 'Status': 'Finished'}\n",
      "{'Id': 135, 'Symbol': 'CD91', 'Name': 'ComStage ETF NYSE Arca Gold BUGS UCITS ETF', 'Currency': 'EUR', 'Exchange': 'FWB', 'Status': 'Historical Market Data Service error message:No market data permissions for FWB STK'}\n",
      "{'Id': 136, 'Symbol': 'X03G', 'Name': 'Xtrackers II Germany Government Bond UCITS ETF', 'Currency': 'EUR', 'Exchange': 'FWB', 'Status': 'Historical Market Data Service error message:No market data permissions for FWB STK'}\n",
      "{'Id': 137, 'Symbol': 'BNQD', 'Name': 'Collateralized ETC on RICI Enhanced WTI Crude Oil TR Index', 'Currency': 'EUR', 'Exchange': 'FWB', 'Status': 'Finished'}\n",
      "{'Id': 138, 'Symbol': 'EPEJ', 'Name': 'BNP Paribas Easy - MSCI Pacific ex Japan ex Controversial Weapons UCITS ETF', 'Currency': 'EUR', 'Exchange': 'FWB', 'Status': 'Historical Market Data Service error message:No market data permissions for FWB STK'}\n",
      "{'Id': 139, 'Symbol': 'XMME', 'Name': 'Xtrackers MSCI Emerging Markets UCITS ETF', 'Currency': 'EUR', 'Exchange': 'FWB', 'Status': 'Historical Market Data Service error message:No market data permissions for FWB STK'}\n",
      "{'Id': 140, 'Symbol': 'EXSB', 'Name': 'iShares DivDAX UCITS ETF DE', 'Currency': 'EUR', 'Exchange': 'FWB', 'Status': 'Historical Market Data Service error message:No market data permissions for FWB STK'}\n",
      "{'Id': 141, 'Symbol': 'XJSE', 'Name': 'Xtrackers II Japan Government Bond UCITS ETF', 'Currency': 'EUR', 'Exchange': 'FWB', 'Status': 'Historical Market Data Service error message:No market data permissions for FWB STK'}\n",
      "{'Id': 142, 'Symbol': 'QUED', 'Name': 'BNP PARIBAS EASY Equity Quality Europe UCITS ETF', 'Currency': 'EUR', 'Exchange': 'FWB', 'Status': 'Historical Market Data Service error message:No market data permissions for FWB STK'}\n",
      "{'Id': 143, 'Symbol': 'XBAS', 'Name': 'Xtrackers MSCI Singapore UCITS ETF', 'Currency': 'EUR', 'Exchange': 'FWB', 'Status': 'Historical Market Data Service error message:No market data permissions for FWB STK'}\n",
      "{'Id': 144, 'Symbol': 'MEH', 'Name': 'Lyxor FTSE EPRA/NAREIT Developed Europe UCITS ETF', 'Currency': 'EUR', 'Exchange': 'FWB', 'Status': 'Historical Market Data Service error message:No market data permissions for FWB STK'}\n",
      "{'Id': 145, 'Symbol': 'INFL', 'Name': 'Lyxor EUR 2-10Y Inflation Expectations UCITS ETF', 'Currency': 'EUR', 'Exchange': 'FWB', 'Status': 'Historical Market Data Service error message:No market data permissions for FWB STK'}\n",
      "{'Id': 146, 'Symbol': 'DBXB', 'Name': 'Xtrackers II Eurozone Government Bond 7-10 UCITS ETF', 'Currency': 'EUR', 'Exchange': 'FWB', 'Status': 'Historical Market Data Service error message:No market data permissions for FWB STK'}\n",
      "{'Id': 147, 'Symbol': 'UEF9', 'Name': 'UBS ETF - Bloomberg Barclays US Liquid Corporates UCITS ETF', 'Currency': 'EUR', 'Exchange': 'FWB', 'Status': 'Historical Market Data Service error message:No market data permissions for FWB STK'}\n",
      "{'Id': 148, 'Symbol': 'XUHC', 'Name': 'Xtrackers MSCI USA Health Care UCITS ETF', 'Currency': 'EUR', 'Exchange': 'FWB', 'Status': 'Historical Market Data Service error message:No market data permissions for FWB STK'}\n",
      "{'Id': 149, 'Symbol': 'X0DQ', 'Name': 'Coba ETN 3x NDXF Daily Long', 'Currency': 'EUR', 'Exchange': 'FWB', 'Status': 'Finished'}\n",
      "{'Id': 150, 'Symbol': 'X04E', 'Name': 'Coba ETN 1x DJIAF Daily Long', 'Currency': 'EUR', 'Exchange': 'FWB', 'Status': 'Finished'}\n",
      "{'Id': 151, 'Symbol': 'C2BC', 'Name': 'Bank of China International BOCI Commerzbank - SSE 50 A Share Index UCITS ETF', 'Currency': 'EUR', 'Exchange': 'FWB', 'Status': 'Historical Market Data Service error message:No market data permissions for FWB STK'}\n",
      "{'Id': 152, 'Symbol': 'ELF5', 'Name': 'Deka MSCI Europe ex EMU UCITS ETF', 'Currency': 'EUR', 'Exchange': 'FWB', 'Status': 'Historical Market Data Service error message:No market data permissions for FWB STK'}\n",
      "{'Id': 153, 'Symbol': 'EL4P', 'Name': 'Deka iBoxx EUR Liquid SOV DIV 7-10 UCITS ETF', 'Currency': 'EUR', 'Exchange': 'FWB', 'Status': 'Historical Market Data Service error message:No market data permissions for FWB STK'}\n",
      "{'Id': 154, 'Symbol': 'DX2E', 'Name': 'Xtrackers S&P Global Infrastructure Swap UCITS ETF', 'Currency': 'EUR', 'Exchange': 'FWB', 'Status': 'Historical Market Data Service error message:No market data permissions for FWB STK'}\n",
      "{'Id': 155, 'Symbol': 'XREA', 'Name': 'Xtrackers FTSE Developed Europe ex UK Real Estate UCITS ETF', 'Currency': 'EUR', 'Exchange': 'FWB', 'Status': 'Historical Market Data Service error message:No market data permissions for FWB STK'}\n",
      "{'Id': 156, 'Symbol': 'APX', 'Name': 'Lyxor MSCI AC Asia EX Japan UCITS ETF', 'Currency': 'EUR', 'Exchange': 'FWB', 'Status': 'Historical Market Data Service error message:No market data permissions for FWB STK'}\n",
      "{'Id': 157, 'Symbol': 'BNKE', 'Name': 'Multi Units Luxembourg-Lyxor EURO STOXX Banks DR UCITS ETF', 'Currency': 'EUR', 'Exchange': 'FWB', 'Status': 'Historical Market Data Service error message:No market data permissions for FWB STK'}\n",
      "{'Id': 158, 'Symbol': 'PR1E', 'Name': 'AMUNDI PRIME EUROPE UCITS ETF DR', 'Currency': 'EUR', 'Exchange': 'FWB', 'Status': 'Historical Market Data Service error message:No market data permissions for FWB STK'}\n",
      "{'Id': 159, 'Symbol': 'OIL', 'Name': 'Lyxor STOXX Europe 600 Oil & Gas UCITS ETF', 'Currency': 'EUR', 'Exchange': 'FWB', 'Status': 'Historical Market Data Service error message:No market data permissions for FWB STK'}\n",
      "{'Id': 160, 'Symbol': 'MWO', 'Name': 'Lyxor Index Fund-Lyxor Ftse Epra/nareit Global Developed Ucits Etf', 'Currency': 'EUR', 'Exchange': 'FWB', 'Status': 'Historical Market Data Service error message:No market data permissions for FWB STK'}\n",
      "{'Id': 161, 'Symbol': 'CE9', 'Name': 'Amundi Msci Eastern Europe EX Russia ETF', 'Currency': 'EUR', 'Exchange': 'FWB', 'Status': 'Historical Market Data Service error message:No market data permissions for FWB STK'}\n",
      "{'Id': 162, 'Symbol': 'X0BR', 'Name': 'Coba ETC 2 x Palladium Daily Long Index', 'Currency': 'EUR', 'Exchange': 'FWB', 'Status': 'Finished'}\n",
      "{'Id': 163, 'Symbol': 'DECR', 'Name': 'Amundi Index Euro Agg Corporate Sri - Ucits Etf Dr', 'Currency': 'EUR', 'Exchange': 'FWB', 'Status': 'Historical Market Data Service error message:No market data permissions for FWB STK'}\n",
      "{'Id': 164, 'Symbol': 'LVE', 'Name': 'Lyxor EURO STOXX 50 Daily 2x Leveraged UCITS ETF', 'Currency': 'EUR', 'Exchange': 'FWB', 'Status': 'Historical Market Data Service error message:No market data permissions for FWB STK'}\n",
      "{'Id': 165, 'Symbol': 'OD7A', 'Name': 'ETFS Aluminium', 'Currency': 'EUR', 'Exchange': 'FWB', 'Status': 'Finished'}\n",
      "{'Id': 166, 'Symbol': 'ETLN', 'Name': 'L&G Europe ex UK Equity UCITS ETF', 'Currency': 'EUR', 'Exchange': 'FWB', 'Status': 'Historical Market Data Service error message:No market data permissions for FWB STK'}\n",
      "{'Id': 167, 'Symbol': 'DBXW', 'Name': 'Xtrackers MSCI World Swap UCITS ETF', 'Currency': 'EUR', 'Exchange': 'FWB', 'Status': 'Historical Market Data Service error message:No market data permissions for FWB STK'}\n",
      "{'Id': 168, 'Symbol': 'VGEA', 'Name': 'Vanguard EUR Eurozone Government Bond UCITS ETF', 'Currency': 'EUR', 'Exchange': 'FWB', 'Status': 'Historical Market Data Service error message:No market data permissions for FWB STK'}\n",
      "{'Id': 169, 'Symbol': 'D5BM', 'Name': 'Xtrackers S&P 500 Swap UCITS ETF', 'Currency': 'EUR', 'Exchange': 'FWB', 'Status': 'Historical Market Data Service error message:No market data permissions for FWB STK'}\n",
      "{'Id': 170, 'Symbol': 'XDWC', 'Name': 'Xtrackers MSCI World Consumer Discretionary UCITS ETF', 'Currency': 'EUR', 'Exchange': 'FWB', 'Status': 'Historical Market Data Service error message:No market data permissions for FWB STK'}\n",
      "{'Id': 171, 'Symbol': 'WTDP', 'Name': 'Wisdomtree EUR Aggregate Bond Enhanced Yield UCITS ETF', 'Currency': 'EUR', 'Exchange': 'FWB', 'Status': 'Historical Market Data Service error message:No market data permissions for FWB STK'}\n",
      "{'Id': 172, 'Symbol': 'NRJ', 'Name': 'Lyxor New Energy UCITS ETF', 'Currency': 'EUR', 'Exchange': 'FWB', 'Status': 'Historical Market Data Service error message:No market data permissions for FWB STK'}\n",
      "{'Id': 173, 'Symbol': 'C012', 'Name': 'ComStage ETF S&P 500 UCITS ETF', 'Currency': 'EUR', 'Exchange': 'FWB', 'Status': 'Historical Market Data Service error message:No market data permissions for FWB STK'}\n",
      "{'Id': 174, 'Symbol': 'C064', 'Name': 'ComStage ETF STOXX Europe 600 Chemicals NR UCITS ETF', 'Currency': 'EUR', 'Exchange': 'FWB', 'Status': 'Historical Market Data Service error message:No market data permissions for FWB STK'}\n",
      "{'Id': 175, 'Symbol': 'RTA', 'Name': 'Lyxor STOXX Europe 600 Retail UCITS ETF', 'Currency': 'EUR', 'Exchange': 'FWB', 'Status': 'Historical Market Data Service error message:No market data permissions for FWB STK'}\n",
      "{'Id': 176, 'Symbol': 'FTGE', 'Name': 'First Trust Eurozone AlphaDEX UCITS ETF', 'Currency': 'EUR', 'Exchange': 'FWB', 'Status': 'Historical Market Data Service error message:No market data permissions for FWB STK'}\n",
      "{'Id': 177, 'Symbol': 'C032', 'Name': 'ComStage MSCI Italy TRN UCITS ETF', 'Currency': 'EUR', 'Exchange': 'FWB', 'Status': 'Historical Market Data Service error message:No market data permissions for FWB STK'}\n",
      "{'Id': 178, 'Symbol': 'E50EUAEUR', 'Name': 'UBS ETF EURO STOXX 50 UCITS ETF', 'Currency': 'EUR', 'Exchange': 'FWB', 'Status': 'Historical Market Data Service error message:No market data permissions for FWB STK'}\n",
      "{'Id': 179, 'Symbol': 'EUL3', 'Name': 'ETFS 3x Daily Long EURO STOXX 50', 'Currency': 'EUR', 'Exchange': 'FWB', 'Status': 'Finished'}\n",
      "{'Id': 180, 'Symbol': 'CI2', 'Name': 'Amundi Msci India ETF', 'Currency': 'EUR', 'Exchange': 'FWB', 'Status': 'Historical Market Data Service error message:No market data permissions for FWB STK'}\n",
      "{'Id': 181, 'Symbol': 'XDGU', 'Name': 'Xtrackers USD Corporate Bond UCITS ETF', 'Currency': 'EUR', 'Exchange': 'FWB', 'Status': 'Historical Market Data Service error message:No market data permissions for FWB STK'}\n",
      "{'Id': 182, 'Symbol': 'XUCD', 'Name': 'Xtrackers MSCI USA Consumer Dcretionary UCITS ETF', 'Currency': 'EUR', 'Exchange': 'FWB', 'Status': 'Historical Market Data Service error message:No market data permissions for FWB STK'}\n",
      "{'Id': 183, 'Symbol': 'B4N4', 'Name': 'Collateralized EUR Hedged RICI Enhanced Aluminum TR Index ETC', 'Currency': 'EUR', 'Exchange': 'FWB', 'Status': 'Finished'}\n",
      "{'Id': 184, 'Symbol': 'X04W', 'Name': 'Coba ETN 2x HSIF Daily Long', 'Currency': 'EUR', 'Exchange': 'FWB', 'Status': 'Finished'}\n",
      "{'Id': 185, 'Symbol': 'EL4V', 'Name': 'Deka DB EUROGOV Germany 10+ UCITS ETF', 'Currency': 'EUR', 'Exchange': 'FWB', 'Status': 'Historical Market Data Service error message:No market data permissions for FWB STK'}\n",
      "{'Id': 186, 'Symbol': 'PR1S', 'Name': 'AMUNDI PRIME US TREASURY UCITS ETF DR', 'Currency': 'EUR', 'Exchange': 'FWB', 'Status': 'Historical Market Data Service error message:No market data permissions for FWB STK'}\n",
      "{'Id': 187, 'Symbol': 'E570', 'Name': 'ComStage CBK 10Y US-Treasury Future TR UCITS ETF', 'Currency': 'EUR', 'Exchange': 'FWB', 'Status': 'Historical Market Data Service error message:No market data permissions for FWB STK'}\n",
      "{'Id': 188, 'Symbol': 'LYPS', 'Name': 'Lyxor S&P 500 UCITS ETF', 'Currency': 'EUR', 'Exchange': 'FWB', 'Status': 'Historical Market Data Service error message:No market data permissions for FWB STK'}\n",
      "{'Id': 189, 'Symbol': 'CBSUSE', 'Name': 'UBS ETF - Bloomberg Barclays MSCI US Liquid Corporates Sustainable UCITS ETF', 'Currency': 'EUR', 'Exchange': 'FWB', 'Status': 'Historical Market Data Service error message:No market data permissions for FWB STK'}\n",
      "{'Id': 190, 'Symbol': 'VMOM', 'Name': 'Vanguard Global Momentum Factor UCITS ETF', 'Currency': 'EUR', 'Exchange': 'FWB', 'Status': 'Historical Market Data Service error message:No market data permissions for FWB STK'}\n",
      "{'Id': 191, 'Symbol': 'CS1', 'Name': 'Amundi ETF MSCI Spain UCITS ETF', 'Currency': 'EUR', 'Exchange': 'FWB', 'Status': 'Historical Market Data Service error message:No market data permissions for FWB STK'}\n",
      "{'Id': 192, 'Symbol': 'AM3A', 'Name': 'Amundi Index Solutions-Amundi Govt Bond Highest Rated Euromts Investment Grade', 'Currency': 'EUR', 'Exchange': 'FWB', 'Status': 'Historical Market Data Service error message:No market data permissions for FWB STK'}\n",
      "{'Id': 193, 'Symbol': 'OSXF', 'Name': \"OSSIAM SOLACTIVE MOODY'S ANALYTICS IG EUR Select Credit\", 'Currency': 'EUR', 'Exchange': 'FWB', 'Status': 'Historical Market Data Service error message:No market data permissions for FWB STK'}\n",
      "{'Id': 194, 'Symbol': 'X041', 'Name': 'Coba ETN 1x VSTOXXF Daily Long', 'Currency': 'EUR', 'Exchange': 'FWB', 'Status': 'Finished'}\n",
      "{'Id': 195, 'Symbol': 'LESG', 'Name': 'Lyxor MSCI EM ESG Trend Leaders UCITS ETF', 'Currency': 'EUR', 'Exchange': 'FWB', 'Status': 'Historical Market Data Service error message:No market data permissions for FWB STK'}\n",
      "{'Id': 196, 'Symbol': 'EL42', 'Name': 'Deka MSCI Europe UCITS ETF', 'Currency': 'EUR', 'Exchange': 'FWB', 'Status': 'Historical Market Data Service error message:No market data permissions for FWB STK'}\n",
      "{'Id': 197, 'Symbol': 'X04N', 'Name': 'Coba ETN 2x NDXF Daily Long', 'Currency': 'EUR', 'Exchange': 'FWB', 'Status': 'Finished'}\n",
      "{'Id': 198, 'Symbol': '3DES1', 'Name': 'Boost ShortDAX 3x Daily ETP', 'Currency': 'EUR', 'Exchange': 'FWB', 'Status': 'Finished'}\n",
      "{'Id': 199, 'Symbol': 'EL46', 'Name': 'Deka MSCI China ex A Shares UCITS ETF', 'Currency': 'EUR', 'Exchange': 'FWB', 'Status': 'Historical Market Data Service error message:No market data permissions for FWB STK'}\n",
      "{'Id': 200, 'Symbol': 'DBXQ', 'Name': 'Xtrackers II Eurozone Government Bond 3-5 UCITS ETF', 'Currency': 'EUR', 'Exchange': 'FWB', 'Status': 'Historical Market Data Service error message:No market data permissions for FWB STK'}\n",
      "{'Id': 201, 'Symbol': 'H4ZL', 'Name': 'HSBC FTSE EPRA/NAREIT Developed UCITS ETF', 'Currency': 'EUR', 'Exchange': 'FWB', 'Status': 'untouched'}\n",
      "{'Id': 202, 'Symbol': 'TSWE', 'Name': 'THINK Sustainable World UCITS ETF', 'Currency': 'EUR', 'Exchange': 'FWB', 'Status': 'untouched'}\n",
      "{'Id': 203, 'Symbol': 'TCBT', 'Name': 'Think iBoxx Corporate Bond UCITS ETF', 'Currency': 'EUR', 'Exchange': 'FWB', 'Status': 'untouched'}\n"
     ]
    }
   ],
   "source": [
    "symbol_db = TinyDB('symbol_db.json')\n",
    "my_query = Query()\n",
    "result = symbol_db.search(my_query.Id <= 203)\n",
    "for item in result:\n",
    "    print(item)\n",
    "symbol_db.close()"
   ]
  },
  {
   "cell_type": "code",
   "execution_count": null,
   "metadata": {},
   "outputs": [],
   "source": [
    "symbol_db = TinyDB('symbol_db.json')\n",
    "data_list = str(symbol_db.all())\n",
    "data_list = data_list.replace(\"'\", '\"')\n",
    "df = pd.read_json(data_list, orient='records')\n",
    "df"
   ]
  },
  {
   "cell_type": "code",
   "execution_count": 57,
   "metadata": {},
   "outputs": [
    {
     "data": {
      "text/plain": [
       "False"
      ]
     },
     "execution_count": 57,
     "metadata": {},
     "output_type": "execute_result"
    }
   ],
   "source": [
    " con.disconnect()"
   ]
  },
  {
   "cell_type": "code",
   "execution_count": 3,
   "metadata": {},
   "outputs": [
    {
     "data": {
      "application/vnd.jupyter.widget-view+json": {
       "model_id": "baf77eb772d54d479dbd2fd27f454091",
       "version_major": 2,
       "version_minor": 0
      },
      "text/plain": [
       "HBox(children=(IntProgress(value=0, max=131), HTML(value='')))"
      ]
     },
     "metadata": {},
     "output_type": "display_data"
    }
   ],
   "source": [
    "counter = 0\n",
    "\n",
    "for filename in tqdm(os.listdir('data/pickles/')):\n",
    "    \n",
    "    if filename.startswith('xxx'):\n",
    "        continue\n",
    "    \n",
    "    with (open('data/pickles/'+filename, 'rb')) as openfile:\n",
    "        datalist = pickle.load(openfile)\n",
    "    \n",
    "    # Merge collected data into dataframe\n",
    "    df = pd.DataFrame(columns=('date', 'open', 'high', 'low', 'close', 'volume'))\n",
    "    for bar in datalist:\n",
    "        row = {'date': bar.date, 'open': bar.open, 'high': bar.high, 'low': bar.low, 'close': bar.close, 'volume': bar.volume}\n",
    "        df = df.append(row, ignore_index=True)\n",
    "    df.loc[:, 'date'] = pd.to_datetime(df.date, format='%Y%m%d') #'%Y%m%d  %H:%M:%S'\n",
    "    df = df.set_index('date')\n",
    "    \n",
    "    # Write dataframe to csv file\n",
    "    df.to_csv('data/' + filename + '.csv')\n",
    "    \n",
    "    # Rename pickle file for delting\n",
    "    os.rename('data/pickles/' + filename, 'data/pickles/' + 'xxx' + filename)\n",
    "    \n",
    "    counter += 1\n",
    "    if counter > 50:\n",
    "        break"
   ]
  },
  {
   "cell_type": "code",
   "execution_count": 17,
   "metadata": {},
   "outputs": [],
   "source": [
    "file_list = []\n",
    "for filename in os.listdir('data/pickles/'):\n",
    "    file_list.append(filename)\n",
    "    \n",
    "if __name__ ==  '__main__': \n",
    "    with Pool(3) as p:\n",
    "        p.map(workers.pick_to_csv, file_list)"
   ]
  },
  {
   "cell_type": "markdown",
   "metadata": {},
   "source": [
    "# Enhancements"
   ]
  },
  {
   "cell_type": "markdown",
   "metadata": {},
   "source": [
    "### Speedup\n",
    "- download next symbol as soon as data is in file"
   ]
  },
  {
   "cell_type": "markdown",
   "metadata": {},
   "source": [
    "### Extra features for downloading\n",
    "- start time for downloading is end time of data. last candle of data is considered invalid\n",
    "- check for splits/mergers"
   ]
  },
  {
   "cell_type": "markdown",
   "metadata": {},
   "source": [
    "### Symbol in multiple exchanges\n",
    "- if symbol is multiple times in list\n",
    "    - load data from primary exchange if ppossible\n",
    "    - if primary is not available, load from exchange with highest average (price-)volume\n"
   ]
  },
  {
   "cell_type": "markdown",
   "metadata": {},
   "source": [
    "### Symbol database\n",
    "- pull symbols from ib webpage\n",
    "- pull symbol data from ib\n",
    "- abillity to create own univestes (=symbol lists) based on symbol data"
   ]
  },
  {
   "cell_type": "markdown",
   "metadata": {},
   "source": [
    "### Storage of price data\n",
    "- store price data in database? sqlite, as handeled in one file?\n",
    "- cloud storage of data"
   ]
  },
  {
   "cell_type": "markdown",
   "metadata": {},
   "source": [
    "### Misc\n",
    "- "
   ]
  },
  {
   "cell_type": "code",
   "execution_count": null,
   "metadata": {},
   "outputs": [],
   "source": []
  }
 ],
 "metadata": {
  "kernelspec": {
   "display_name": "Python 3",
   "language": "python",
   "name": "python3"
  },
  "language_info": {
   "codemirror_mode": {
    "name": "ipython",
    "version": 3
   },
   "file_extension": ".py",
   "mimetype": "text/x-python",
   "name": "python",
   "nbconvert_exporter": "python",
   "pygments_lexer": "ipython3",
   "version": "3.6.8"
  }
 },
 "nbformat": 4,
 "nbformat_minor": 4
}
