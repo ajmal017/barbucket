{
 "cells": [
  {
   "cell_type": "code",
   "execution_count": 2,
   "metadata": {},
   "outputs": [
    {
     "data": {
      "text/plain": [
       "True"
      ]
     },
     "execution_count": 2,
     "metadata": {},
     "output_type": "execute_result"
    },
    {
     "name": "stderr",
     "output_type": "stream",
     "text": [
      "unhandled exception in EReader thread\n",
      "Traceback (most recent call last):\n",
      "  File \"c:\\users\\martin\\dev\\_pyvenvs\\latest36\\lib\\site-packages\\ibapi\\reader.py\", line 34, in run\n",
      "    data = self.conn.recvMsg()\n",
      "  File \"c:\\users\\martin\\dev\\_pyvenvs\\latest36\\lib\\site-packages\\ibapi\\connection.py\", line 99, in recvMsg\n",
      "    buf = self._recvAllMsg()\n",
      "  File \"c:\\users\\martin\\dev\\_pyvenvs\\latest36\\lib\\site-packages\\ibapi\\connection.py\", line 119, in _recvAllMsg\n",
      "    buf = self.socket.recv(4096)\n",
      "OSError: [WinError 10038] Ein Vorgang bezog sich auf ein Objekt, das kein Socket ist\n"
     ]
    }
   ],
   "source": [
    "from ibpythonic import ibConnection, message\n",
    "from ibapi.contract import Contract\n",
    "\n",
    "def contractDetailsHandler(msg):\n",
    "    print(msg.contractDetails)\n",
    "    # do something with contractDetails msg\n",
    "\n",
    "def errorHandler(msg):\n",
    "    print(msg)\n",
    "\n",
    "conn = ibConnection(port=7497, clientId=100)\n",
    "\n",
    "conn.register(contractDetailsHandler, message.contractDetails)\n",
    "conn.register(errorHandler, message.error)\n",
    "\n",
    "contract = Contract()\n",
    "contract.symbol = \"AAPL\"\n",
    "contract.exchange = \"SMART\"\n",
    "contract.secType = \"STK\"\n",
    "contract.currency = \"USD\"\n",
    "\n",
    "conn.connect()\n",
    "conn.reqContractDetails(1, contract)\n",
    "\n",
    "conn.unregister(contractDetailsHandler, message.contractDetails)\n",
    "conn.unregister(errorHandler, message.error)\n",
    "\n",
    "conn.disconnect()"
   ]
  },
  {
   "cell_type": "code",
   "execution_count": null,
   "metadata": {},
   "outputs": [],
   "source": []
  }
 ],
 "metadata": {
  "kernelspec": {
   "display_name": "Python 3",
   "language": "python",
   "name": "python3"
  },
  "language_info": {
   "codemirror_mode": {
    "name": "ipython",
    "version": 3
   },
   "file_extension": ".py",
   "mimetype": "text/x-python",
   "name": "python",
   "nbconvert_exporter": "python",
   "pygments_lexer": "ipython3",
   "version": "3.6.5"
  }
 },
 "nbformat": 4,
 "nbformat_minor": 2
}
