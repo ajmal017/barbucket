{
 "cells": [
  {
   "cell_type": "code",
   "execution_count": 1,
   "metadata": {},
   "outputs": [],
   "source": [
    "from ibapi.wrapper import EWrapper\n",
    "from ibapi.client import EClient\n",
    "from threading import Thread\n",
    "import queue"
   ]
  },
  {
   "cell_type": "code",
   "execution_count": 2,
   "metadata": {},
   "outputs": [],
   "source": [
    "class TestWrapper(EWrapper):\n",
    "    \"\"\"\n",
    "    The wrapper deals with the action coming back from the IB gateway or TWS instance\n",
    "    We override methods in EWrapper that will get called when this action happens, like currentTime\n",
    "    \"\"\"\n",
    "\n",
    "    ## error handling code\n",
    "    def init_error(self):\n",
    "        error_queue=queue.Queue()\n",
    "        self._my_errors = error_queue\n",
    "\n",
    "    def get_error(self, timeout=5):\n",
    "        if self.is_error():\n",
    "            try:\n",
    "                return self._my_errors.get(timeout=timeout)\n",
    "            except queue.Empty:\n",
    "                return None\n",
    "\n",
    "        return None\n",
    "\n",
    "\n",
    "    def is_error(self):\n",
    "        an_error_if=not self._my_errors.empty()\n",
    "        return an_error_if\n",
    "\n",
    "    def error(self, id, errorCode, errorString):\n",
    "        ## Overriden method\n",
    "        errormsg = \"IB error id %d errorcode %d string %s\" % (id, errorCode, errorString)\n",
    "        self._my_errors.put(errormsg)\n",
    "\n",
    "    ## Time telling code\n",
    "    def init_time(self):\n",
    "        time_queue=queue.Queue()\n",
    "        self._time_queue = time_queue\n",
    "\n",
    "        return time_queue\n",
    "\n",
    "    def currentTime(self, time_from_server):\n",
    "        ## Overriden method\n",
    "        self._time_queue.put(time_from_server)"
   ]
  },
  {
   "cell_type": "code",
   "execution_count": 3,
   "metadata": {},
   "outputs": [],
   "source": [
    "class TestClient(EClient):\n",
    "    \"\"\"\n",
    "    The client method\n",
    "    We don't override native methods, but instead call them from our own wrappers\n",
    "    \"\"\"\n",
    "    def __init__(self, wrapper):\n",
    "        ## Set up with a wrapper inside\n",
    "        EClient.__init__(self, wrapper)\n",
    "\n",
    "    def speaking_clock(self):\n",
    "        \"\"\"\n",
    "        Basic example to tell the time\n",
    "        :return: unix time, as an int\n",
    "        \"\"\"\n",
    "\n",
    "        print(\"Getting the time from the server... \")\n",
    "\n",
    "        ## Make a place to store the time we're going to return\n",
    "        ## This is a queue\n",
    "        time_storage=self.wrapper.init_time()\n",
    "\n",
    "        ## This is the native method in EClient, asks the server to send us the time please\n",
    "        self.reqCurrentTime()\n",
    "\n",
    "        ## Try and get a valid time\n",
    "        MAX_WAIT_SECONDS = 10\n",
    "\n",
    "        try:\n",
    "            current_time = time_storage.get(timeout=MAX_WAIT_SECONDS)\n",
    "        except queue.Empty:\n",
    "            print(\"Exceeded maximum wait for wrapper to respond\")\n",
    "            current_time = None\n",
    "\n",
    "        while self.wrapper.is_error():\n",
    "            print(self.get_error())\n",
    "\n",
    "        return current_time"
   ]
  },
  {
   "cell_type": "code",
   "execution_count": 4,
   "metadata": {},
   "outputs": [],
   "source": [
    "class TestApp(TestWrapper, TestClient):\n",
    "    def __init__(self, ipaddress, portid, clientid):\n",
    "        TestWrapper.__init__(self)\n",
    "        TestClient.__init__(self, wrapper=self)\n",
    "\n",
    "        self.init_error()\n",
    "        self.connect(ipaddress, portid, clientid)\n",
    "\n",
    "        thread = Thread(target = self.run)\n",
    "        thread.start()\n",
    "\n",
    "        setattr(self, \"_thread\", thread)\n"
   ]
  },
  {
   "cell_type": "code",
   "execution_count": 31,
   "metadata": {},
   "outputs": [],
   "source": [
    "app = TestApp(\"127.0.0.1\", 7497, 0)"
   ]
  },
  {
   "cell_type": "code",
   "execution_count": 32,
   "metadata": {},
   "outputs": [
    {
     "name": "stdout",
     "output_type": "stream",
     "text": [
      "Getting the time from the server... \n",
      "IB error id -1 errorcode 2104 string Market data farm connection is OK:usfarm.nj\n",
      "IB error id -1 errorcode 2104 string Market data farm connection is OK:eufarm\n",
      "IB error id -1 errorcode 2104 string Market data farm connection is OK:cashfarm\n",
      "IB error id -1 errorcode 2104 string Market data farm connection is OK:usfarm\n",
      "IB error id -1 errorcode 2106 string HMDS data farm connection is OK:euhmds\n",
      "IB error id -1 errorcode 2106 string HMDS data farm connection is OK:ushmds\n",
      "1562692731\n"
     ]
    }
   ],
   "source": [
    "current_time = app.speaking_clock()\n",
    "print(current_time)"
   ]
  },
  {
   "cell_type": "code",
   "execution_count": 35,
   "metadata": {},
   "outputs": [
    {
     "data": {
      "text/plain": [
       "False"
      ]
     },
     "execution_count": 35,
     "metadata": {},
     "output_type": "execute_result"
    }
   ],
   "source": [
    "app.isConnected()"
   ]
  },
  {
   "cell_type": "code",
   "execution_count": 34,
   "metadata": {},
   "outputs": [
    {
     "name": "stderr",
     "output_type": "stream",
     "text": [
      "unhandled exception in EReader thread\n",
      "Traceback (most recent call last):\n",
      "  File \"c:\\users\\martin\\dev\\_pyvenvs\\latest36\\lib\\site-packages\\ibapi\\reader.py\", line 34, in run\n",
      "    data = self.conn.recvMsg()\n",
      "  File \"c:\\users\\martin\\dev\\_pyvenvs\\latest36\\lib\\site-packages\\ibapi\\connection.py\", line 99, in recvMsg\n",
      "    buf = self._recvAllMsg()\n",
      "  File \"c:\\users\\martin\\dev\\_pyvenvs\\latest36\\lib\\site-packages\\ibapi\\connection.py\", line 119, in _recvAllMsg\n",
      "    buf = self.socket.recv(4096)\n",
      "OSError: [WinError 10038] Ein Vorgang bezog sich auf ein Objekt, das kein Socket ist\n"
     ]
    }
   ],
   "source": [
    "app.disconnect()"
   ]
  }
 ],
 "metadata": {
  "kernelspec": {
   "display_name": "Python 3",
   "language": "python",
   "name": "python3"
  },
  "language_info": {
   "codemirror_mode": {
    "name": "ipython",
    "version": 3
   },
   "file_extension": ".py",
   "mimetype": "text/x-python",
   "name": "python",
   "nbconvert_exporter": "python",
   "pygments_lexer": "ipython3",
   "version": "3.6.5"
  }
 },
 "nbformat": 4,
 "nbformat_minor": 2
}
