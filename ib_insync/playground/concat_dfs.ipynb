{
 "nbformat": 4,
 "nbformat_minor": 2,
 "metadata": {
  "language_info": {
   "name": "python",
   "codemirror_mode": {
    "name": "ipython",
    "version": 3
   }
  },
  "orig_nbformat": 2,
  "file_extension": ".py",
  "mimetype": "text/x-python",
  "name": "python",
  "npconvert_exporter": "python",
  "pygments_lexer": "ipython3",
  "version": 3
 },
 "cells": [
  {
   "cell_type": "code",
   "execution_count": 31,
   "metadata": {},
   "outputs": [],
   "source": [
    "import pandas as pd\n",
    "\n",
    "df_old = pd.DataFrame({'A': ['A0o', 'A1o', 'A2o', 'A3o'],\n",
    "                     'B': ['B0o', 'B1o', 'B2o', 'B3o'],                                                'C': ['C0o', 'C1o', 'C2o', 'C3o'],\n",
    "                     'D': ['D0o', 'D1o', 'D2o', 'D3o']},\n",
    "                    index=['2019-09-01', '2019-09-02', '2019-09-03', '2019-09-04'])\n",
    "   \n",
    "df_new = pd.DataFrame({'A': ['A0n', 'A1n', 'A2n', 'A3n'],\n",
    "                     'B': ['B0n', 'B1n', 'B2n', 'B3n'],\n",
    "                     'C': ['C0n', 'C1n', 'C2n', 'C3n'],\n",
    "                     'D': ['D0n', 'D1n', 'D2n', 'D3n']},\n",
    "                    index=['2019-09-03', '2019-09-04', '2019-09-05', '2019-09-06'])\n",
    "\n",
    "df_int = pd.DataFrame({'A': [0, 1, 2, 3],\n",
    "                     'B': ['B0o', 'B1o', 'B2o', 'B3o'],                                                'C': ['C0o', 'C1o', 'C2o', 'C3o'],\n",
    "                     'D': ['D0o', 'D1o', 'D2o', 'D3o']},\n",
    "                    index=['2019-09-01', '2019-09-02', '2019-09-03', '2019-09-04'])"
   ]
  },
  {
   "cell_type": "code",
   "execution_count": 28,
   "metadata": {},
   "outputs": [
    {
     "data": {
      "text/html": "<div>\n<style scoped>\n    .dataframe tbody tr th:only-of-type {\n        vertical-align: middle;\n    }\n\n    .dataframe tbody tr th {\n        vertical-align: top;\n    }\n\n    .dataframe thead th {\n        text-align: right;\n    }\n</style>\n<table border=\"1\" class=\"dataframe\">\n  <thead>\n    <tr style=\"text-align: right;\">\n      <th></th>\n      <th>A</th>\n      <th>B</th>\n      <th>C</th>\n      <th>D</th>\n    </tr>\n  </thead>\n  <tbody>\n    <tr>\n      <th>2019-09-01</th>\n      <td>A0o</td>\n      <td>B0o</td>\n      <td>C0o</td>\n      <td>D0o</td>\n    </tr>\n    <tr>\n      <th>2019-09-02</th>\n      <td>A1o</td>\n      <td>B1o</td>\n      <td>C1o</td>\n      <td>D1o</td>\n    </tr>\n    <tr>\n      <th>2019-09-03</th>\n      <td>A2o</td>\n      <td>B2o</td>\n      <td>C2o</td>\n      <td>D2o</td>\n    </tr>\n    <tr>\n      <th>2019-09-04</th>\n      <td>A3o</td>\n      <td>B3o</td>\n      <td>C3o</td>\n      <td>D3o</td>\n    </tr>\n  </tbody>\n</table>\n</div>",
      "text/plain": "              A    B    C    D\n2019-09-01  A0o  B0o  C0o  D0o\n2019-09-02  A1o  B1o  C1o  D1o\n2019-09-03  A2o  B2o  C2o  D2o\n2019-09-04  A3o  B3o  C3o  D3o"
     },
     "execution_count": 28,
     "metadata": {},
     "output_type": "execute_result"
    }
   ],
   "source": [
    "df_old"
   ]
  },
  {
   "cell_type": "code",
   "execution_count": 29,
   "metadata": {},
   "outputs": [
    {
     "data": {
      "text/html": "<div>\n<style scoped>\n    .dataframe tbody tr th:only-of-type {\n        vertical-align: middle;\n    }\n\n    .dataframe tbody tr th {\n        vertical-align: top;\n    }\n\n    .dataframe thead th {\n        text-align: right;\n    }\n</style>\n<table border=\"1\" class=\"dataframe\">\n  <thead>\n    <tr style=\"text-align: right;\">\n      <th></th>\n      <th>A</th>\n      <th>B</th>\n      <th>C</th>\n      <th>D</th>\n    </tr>\n  </thead>\n  <tbody>\n    <tr>\n      <th>2019-09-03</th>\n      <td>A0n</td>\n      <td>B0n</td>\n      <td>C0n</td>\n      <td>D0n</td>\n    </tr>\n    <tr>\n      <th>2019-09-04</th>\n      <td>A1n</td>\n      <td>B1n</td>\n      <td>C1n</td>\n      <td>D1n</td>\n    </tr>\n    <tr>\n      <th>2019-09-05</th>\n      <td>A2n</td>\n      <td>B2n</td>\n      <td>C2n</td>\n      <td>D2n</td>\n    </tr>\n    <tr>\n      <th>2019-09-06</th>\n      <td>A3n</td>\n      <td>B3n</td>\n      <td>C3n</td>\n      <td>D3n</td>\n    </tr>\n  </tbody>\n</table>\n</div>",
      "text/plain": "              A    B    C    D\n2019-09-03  A0n  B0n  C0n  D0n\n2019-09-04  A1n  B1n  C1n  D1n\n2019-09-05  A2n  B2n  C2n  D2n\n2019-09-06  A3n  B3n  C3n  D3n"
     },
     "execution_count": 29,
     "metadata": {},
     "output_type": "execute_result"
    }
   ],
   "source": [
    "df_new"
   ]
  },
  {
   "cell_type": "code",
   "execution_count": 19,
   "metadata": {},
   "outputs": [
    {
     "data": {
      "text/html": "<div>\n<style scoped>\n    .dataframe tbody tr th:only-of-type {\n        vertical-align: middle;\n    }\n\n    .dataframe tbody tr th {\n        vertical-align: top;\n    }\n\n    .dataframe thead th {\n        text-align: right;\n    }\n</style>\n<table border=\"1\" class=\"dataframe\">\n  <thead>\n    <tr style=\"text-align: right;\">\n      <th></th>\n      <th>A</th>\n      <th>B</th>\n      <th>C</th>\n      <th>D</th>\n    </tr>\n  </thead>\n  <tbody>\n    <tr>\n      <th>2019-09-01</th>\n      <td>A0o</td>\n      <td>B0o</td>\n      <td>C0o</td>\n      <td>D0o</td>\n    </tr>\n    <tr>\n      <th>2019-09-02</th>\n      <td>A1o</td>\n      <td>B1o</td>\n      <td>C1o</td>\n      <td>D1o</td>\n    </tr>\n    <tr>\n      <th>2019-09-03</th>\n      <td>A0n</td>\n      <td>B0n</td>\n      <td>C0n</td>\n      <td>D0n</td>\n    </tr>\n    <tr>\n      <th>2019-09-04</th>\n      <td>A1n</td>\n      <td>B1n</td>\n      <td>C1n</td>\n      <td>D1n</td>\n    </tr>\n    <tr>\n      <th>2019-09-05</th>\n      <td>A2n</td>\n      <td>B2n</td>\n      <td>C2n</td>\n      <td>D2n</td>\n    </tr>\n    <tr>\n      <th>2019-09-06</th>\n      <td>A3n</td>\n      <td>B3n</td>\n      <td>C3n</td>\n      <td>D3n</td>\n    </tr>\n  </tbody>\n</table>\n</div>",
      "text/plain": "              A    B    C    D\n2019-09-01  A0o  B0o  C0o  D0o\n2019-09-02  A1o  B1o  C1o  D1o\n2019-09-03  A0n  B0n  C0n  D0n\n2019-09-04  A1n  B1n  C1n  D1n\n2019-09-05  A2n  B2n  C2n  D2n\n2019-09-06  A3n  B3n  C3n  D3n"
     },
     "execution_count": 19,
     "metadata": {},
     "output_type": "execute_result"
    }
   ],
   "source": [
    "df_new.combine_first(df_old)"
   ]
  },
  {
   "cell_type": "code",
   "execution_count": 36,
   "metadata": {},
   "outputs": [
    {
     "data": {
      "text/plain": "A    object\ndtype: object"
     },
     "execution_count": 36,
     "metadata": {},
     "output_type": "execute_result"
    }
   ],
   "source": [
    "df_int[['A']].dtypes"
   ]
  },
  {
   "cell_type": "code",
   "execution_count": 35,
   "metadata": {},
   "outputs": [],
   "source": [
    "df_int[['A']] = df_int[['A']].astype(str)"
   ]
  },
  {
   "cell_type": "code",
   "execution_count": null,
   "metadata": {},
   "outputs": [],
   "source": []
  }
 ]
}