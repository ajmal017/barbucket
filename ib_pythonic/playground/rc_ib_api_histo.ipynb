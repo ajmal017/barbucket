{
 "cells": [
  {
   "cell_type": "code",
   "execution_count": 1,
   "metadata": {},
   "outputs": [],
   "source": [
    "from ibapi.wrapper import EWrapper\n",
    "from ibapi.client import EClient\n",
    "from threading import Thread\n",
    "import queue"
   ]
  },
  {
   "cell_type": "code",
   "execution_count": 44,
   "metadata": {},
   "outputs": [],
   "source": [
    "from ibapi.contract import Contract as IBcontract\n",
    "from threading import Thread\n",
    "import datetime"
   ]
  },
  {
   "cell_type": "code",
   "execution_count": 37,
   "metadata": {},
   "outputs": [],
   "source": [
    "DEFAULT_HISTORIC_DATA_ID=50\n",
    "DEFAULT_GET_CONTRACT_ID=43\n",
    "\n",
    "## marker for when queue is finished\n",
    "FINISHED = object()\n",
    "STARTED = object()\n",
    "TIME_OUT = object()"
   ]
  },
  {
   "cell_type": "code",
   "execution_count": 38,
   "metadata": {},
   "outputs": [],
   "source": [
    "class finishableQueue(object):\n",
    "\n",
    "    def __init__(self, queue_to_finish):\n",
    "\n",
    "        self._queue = queue_to_finish\n",
    "        self.status = STARTED\n",
    "\n",
    "    def get(self, timeout):\n",
    "        \"\"\"\n",
    "        Returns a list of queue elements once timeout is finished, or a FINISHED flag is received in the queue\n",
    "        :param timeout: how long to wait before giving up\n",
    "        :return: list of queue elements\n",
    "        \"\"\"\n",
    "        contents_of_queue=[]\n",
    "        finished=False\n",
    "\n",
    "        while not finished:\n",
    "            try:\n",
    "                current_element = self._queue.get(timeout=timeout)\n",
    "                if current_element is FINISHED:\n",
    "                    finished = True\n",
    "                    self.status = FINISHED\n",
    "                else:\n",
    "                    contents_of_queue.append(current_element)\n",
    "                    ## keep going and try and get more data\n",
    "\n",
    "            except queue.Empty:\n",
    "                ## If we hit a time out it's most probable we're not getting a finished element any time soon\n",
    "                ## give up and return what we have\n",
    "                finished = True\n",
    "                self.status = TIME_OUT\n",
    "\n",
    "\n",
    "        return contents_of_queue\n",
    "\n",
    "    def timed_out(self):\n",
    "        return self.status is TIME_OUT"
   ]
  },
  {
   "cell_type": "code",
   "execution_count": 39,
   "metadata": {},
   "outputs": [],
   "source": [
    "class TestWrapper(EWrapper):\n",
    "    \"\"\"\n",
    "    The wrapper deals with the action coming back from the IB gateway or TWS instance\n",
    "    We override methods in EWrapper that will get called when this action happens, like currentTime\n",
    "    Extra methods are added as we need to store the results in this object\n",
    "    \"\"\"\n",
    "\n",
    "    def __init__(self):\n",
    "        self._my_contract_details = {}\n",
    "        self._my_historic_data_dict = {}\n",
    "\n",
    "    ## error handling code\n",
    "    def init_error(self):\n",
    "        error_queue=queue.Queue()\n",
    "        self._my_errors = error_queue\n",
    "\n",
    "    def get_error(self, timeout=5):\n",
    "        if self.is_error():\n",
    "            try:\n",
    "                return self._my_errors.get(timeout=timeout)\n",
    "            except queue.Empty:\n",
    "                return None\n",
    "\n",
    "        return None\n",
    "\n",
    "    def is_error(self):\n",
    "        an_error_if=not self._my_errors.empty()\n",
    "        return an_error_if\n",
    "\n",
    "    def error(self, id, errorCode, errorString):\n",
    "        ## Overriden method\n",
    "        errormsg = \"IB error id %d errorcode %d string %s\" % (id, errorCode, errorString)\n",
    "        self._my_errors.put(errormsg)\n",
    "\n",
    "\n",
    "    ## get contract details code\n",
    "    def init_contractdetails(self, reqId):\n",
    "        contract_details_queue = self._my_contract_details[reqId] = queue.Queue()\n",
    "\n",
    "        return contract_details_queue\n",
    "\n",
    "    def contractDetails(self, reqId, contractDetails):\n",
    "        ## overridden method\n",
    "\n",
    "        if reqId not in self._my_contract_details.keys():\n",
    "            self.init_contractdetails(reqId)\n",
    "\n",
    "        self._my_contract_details[reqId].put(contractDetails)\n",
    "\n",
    "    def contractDetailsEnd(self, reqId):\n",
    "        ## overriden method\n",
    "        if reqId not in self._my_contract_details.keys():\n",
    "            self.init_contractdetails(reqId)\n",
    "\n",
    "        self._my_contract_details[reqId].put(FINISHED)\n",
    "\n",
    "    ## Historic data code\n",
    "    def init_historicprices(self, tickerid):\n",
    "        historic_data_queue = self._my_historic_data_dict[tickerid] = queue.Queue()\n",
    "\n",
    "        return historic_data_queue\n",
    "\n",
    "\n",
    "    def historicalData(self, tickerid , bar):\n",
    "\n",
    "        ## Overriden method\n",
    "        ## Note I'm choosing to ignore barCount, WAP and hasGaps but you could use them if you like\n",
    "        bardata=(bar.date, bar.open, bar.high, bar.low, bar.close, bar.volume)\n",
    "\n",
    "        historic_data_dict=self._my_historic_data_dict\n",
    "\n",
    "        ## Add on to the current data\n",
    "        if tickerid not in historic_data_dict.keys():\n",
    "            self.init_historicprices(tickerid)\n",
    "\n",
    "        historic_data_dict[tickerid].put(bardata)\n",
    "\n",
    "    def historicalDataEnd(self, tickerid, start:str, end:str):\n",
    "        ## overriden method\n",
    "\n",
    "        if tickerid not in self._my_historic_data_dict.keys():\n",
    "            self.init_historicprices(tickerid)\n",
    "\n",
    "        self._my_historic_data_dict[tickerid].put(FINISHED)\n"
   ]
  },
  {
   "cell_type": "code",
   "execution_count": 40,
   "metadata": {},
   "outputs": [],
   "source": [
    "class TestClient(EClient):\n",
    "    \"\"\"\n",
    "    The client method\n",
    "    We don't override native methods, but instead call them from our own wrappers\n",
    "    \"\"\"\n",
    "    def __init__(self, wrapper):\n",
    "        ## Set up with a wrapper inside\n",
    "        EClient.__init__(self, wrapper)\n",
    "\n",
    "\n",
    "    def resolve_ib_contract(self, ibcontract, reqId=DEFAULT_GET_CONTRACT_ID):\n",
    "\n",
    "        \"\"\"\n",
    "        From a partially formed contract, returns a fully fledged version\n",
    "        :returns fully resolved IB contract\n",
    "        \"\"\"\n",
    "\n",
    "        ## Make a place to store the data we're going to return\n",
    "        contract_details_queue = finishableQueue(self.init_contractdetails(reqId))\n",
    "\n",
    "        print(\"Getting full contract details from the server... \")\n",
    "\n",
    "        self.reqContractDetails(reqId, ibcontract)\n",
    "\n",
    "        ## Run until we get a valid contract(s) or get bored waiting\n",
    "        MAX_WAIT_SECONDS = 10\n",
    "        new_contract_details = contract_details_queue.get(timeout = MAX_WAIT_SECONDS)\n",
    "\n",
    "        while self.wrapper.is_error():\n",
    "            print(self.get_error())\n",
    "\n",
    "        if contract_details_queue.timed_out():\n",
    "            print(\"Exceeded maximum wait for wrapper to confirm finished - seems to be normal behaviour\")\n",
    "\n",
    "        if len(new_contract_details)==0:\n",
    "            print(\"Failed to get additional contract details: returning unresolved contract\")\n",
    "            return ibcontract\n",
    "\n",
    "        if len(new_contract_details)>1:\n",
    "            print(\"got multiple contracts using first one\")\n",
    "\n",
    "        new_contract_details=new_contract_details[0]\n",
    "\n",
    "        resolved_ibcontract=new_contract_details.contract\n",
    "\n",
    "        return resolved_ibcontract\n",
    "\n",
    "\n",
    "    def get_IB_historical_data(self, ibcontract, durationStr=\"1 Y\", barSizeSetting=\"1 day\",\n",
    "                               tickerid=DEFAULT_HISTORIC_DATA_ID):\n",
    "\n",
    "        \"\"\"\n",
    "        Returns historical prices for a contract, up to today\n",
    "        ibcontract is a Contract\n",
    "        :returns list of prices in 4 tuples: Open high low close volume\n",
    "        \"\"\"\n",
    "\n",
    "\n",
    "        ## Make a place to store the data we're going to return\n",
    "        historic_data_queue = finishableQueue(self.init_historicprices(tickerid))\n",
    "\n",
    "        # Request some historical data. Native method in EClient\n",
    "        self.reqHistoricalData(\n",
    "            tickerid,  # tickerId,\n",
    "            ibcontract,  # contract,\n",
    "            datetime.datetime.today().strftime(\"%Y%m%d %H:%M:%S %Z\"),  # endDateTime,\n",
    "            durationStr,  # durationStr,\n",
    "            barSizeSetting,  # barSizeSetting,\n",
    "            \"TRADES\",  # whatToShow,\n",
    "            1,  # useRTH,\n",
    "            1,  # formatDate\n",
    "            False,  # KeepUpToDate <<==== added for api 9.73.2\n",
    "            [] ## chartoptions not used\n",
    "        )\n",
    "\n",
    "\n",
    "\n",
    "        ## Wait until we get a completed data, an error, or get bored waiting\n",
    "        MAX_WAIT_SECONDS = 10\n",
    "        print(\"Getting historical data from the server... could take %d seconds to complete \" % MAX_WAIT_SECONDS)\n",
    "\n",
    "        historic_data = historic_data_queue.get(timeout = MAX_WAIT_SECONDS)\n",
    "\n",
    "        while self.wrapper.is_error():\n",
    "            print(self.get_error())\n",
    "\n",
    "        if historic_data_queue.timed_out():\n",
    "            print(\"Exceeded maximum wait for wrapper to confirm finished - seems to be normal behaviour\")\n",
    "\n",
    "        self.cancelHistoricalData(tickerid)\n",
    "\n",
    "        return historic_data"
   ]
  },
  {
   "cell_type": "code",
   "execution_count": 41,
   "metadata": {},
   "outputs": [],
   "source": [
    "class TestApp(TestWrapper, TestClient):\n",
    "    def __init__(self, ipaddress, portid, clientid):\n",
    "        TestWrapper.__init__(self)\n",
    "        TestClient.__init__(self, wrapper=self)\n",
    "\n",
    "        self.connect(ipaddress, portid, clientid)\n",
    "\n",
    "        thread = Thread(target = self.run)\n",
    "        thread.start()\n",
    "\n",
    "        setattr(self, \"_thread\", thread)\n",
    "\n",
    "        self.init_error()"
   ]
  },
  {
   "cell_type": "code",
   "execution_count": 62,
   "metadata": {},
   "outputs": [],
   "source": [
    "app = TestApp(\"127.0.0.1\", 7497, 1)"
   ]
  },
  {
   "cell_type": "code",
   "execution_count": 70,
   "metadata": {},
   "outputs": [
    {
     "data": {
      "text/plain": [
       "True"
      ]
     },
     "execution_count": 70,
     "metadata": {},
     "output_type": "execute_result"
    }
   ],
   "source": [
    "app.isConnected()"
   ]
  },
  {
   "cell_type": "code",
   "execution_count": 76,
   "metadata": {},
   "outputs": [
    {
     "name": "stdout",
     "output_type": "stream",
     "text": [
      "Getting full contract details from the server... \n",
      "IB error id 50 errorcode 366 string No historical data query found for ticker id:50\n",
      "IB error id 43 errorcode 200 string No security definition has been found for the request\n",
      "Exceeded maximum wait for wrapper to confirm finished - seems to be normal behaviour\n",
      "Failed to get additional contract details: returning unresolved contract\n"
     ]
    }
   ],
   "source": [
    "ibcontract = IBcontract()\n",
    "ibcontract.secType = \"CASH\"\n",
    "ibcontract.symbol=\"USD\"\n",
    "ibcontract.exchange=\"IDEALPRO\"\n",
    "ibcontract.currency=\"EUR\"\n",
    "\n",
    "resolved_ibcontract=app.resolve_ib_contract(ibcontract)"
   ]
  },
  {
   "cell_type": "code",
   "execution_count": 75,
   "metadata": {},
   "outputs": [
    {
     "name": "stdout",
     "output_type": "stream",
     "text": [
      "Getting historical data from the server... could take 10 seconds to complete \n",
      "IB error id 50 errorcode 321 string Error validating request:-'bP' : cause - The symbol or the local-symbol or the security id must be entered\n",
      "Exceeded maximum wait for wrapper to confirm finished - seems to be normal behaviour\n",
      "[]\n"
     ]
    }
   ],
   "source": [
    "historic_data = app.get_IB_historical_data(resolved_ibcontract)\n",
    "print(historic_data)"
   ]
  },
  {
   "cell_type": "code",
   "execution_count": 61,
   "metadata": {},
   "outputs": [
    {
     "name": "stderr",
     "output_type": "stream",
     "text": [
      "unhandled exception in EReader thread\n",
      "Traceback (most recent call last):\n",
      "  File \"c:\\users\\martin\\dev\\_pyvenvs\\latest36\\lib\\site-packages\\ibapi\\reader.py\", line 34, in run\n",
      "    data = self.conn.recvMsg()\n",
      "  File \"c:\\users\\martin\\dev\\_pyvenvs\\latest36\\lib\\site-packages\\ibapi\\connection.py\", line 99, in recvMsg\n",
      "    buf = self._recvAllMsg()\n",
      "  File \"c:\\users\\martin\\dev\\_pyvenvs\\latest36\\lib\\site-packages\\ibapi\\connection.py\", line 119, in _recvAllMsg\n",
      "    buf = self.socket.recv(4096)\n",
      "OSError: [WinError 10038] Ein Vorgang bezog sich auf ein Objekt, das kein Socket ist\n"
     ]
    }
   ],
   "source": [
    "app.disconnect()"
   ]
  },
  {
   "cell_type": "code",
   "execution_count": null,
   "metadata": {},
   "outputs": [],
   "source": []
  }
 ],
 "metadata": {
  "kernelspec": {
   "display_name": "Python 3",
   "language": "python",
   "name": "python3"
  },
  "language_info": {
   "codemirror_mode": {
    "name": "ipython",
    "version": 3
   },
   "file_extension": ".py",
   "mimetype": "text/x-python",
   "name": "python",
   "nbconvert_exporter": "python",
   "pygments_lexer": "ipython3",
   "version": "3.7.4"
  }
 },
 "nbformat": 4,
 "nbformat_minor": 4
}
