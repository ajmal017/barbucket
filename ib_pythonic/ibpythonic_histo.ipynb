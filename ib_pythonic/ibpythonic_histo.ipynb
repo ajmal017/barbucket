{
 "cells": [
  {
   "cell_type": "code",
   "execution_count": 6,
   "metadata": {},
   "outputs": [],
   "source": [
    "# Imports\n",
    "\n",
    "from ibpythonic import ibConnection, message\n",
    "from ibapi.contract import Contract\n",
    "\n",
    "from time import sleep, strftime\n",
    "from datetime import datetime\n",
    "import pickle\n",
    "import os\n",
    "from multiprocessing import Pool\n",
    "\n",
    "import ib_data.workers\n",
    "\n",
    "import pandas as pd\n",
    "import numpy as np\n",
    "\n",
    "from tinydb import TinyDB, Query\n",
    "\n",
    "from tqdm import tqdm_notebook as tqdm"
   ]
  },
  {
   "cell_type": "code",
   "execution_count": 11,
   "metadata": {},
   "outputs": [],
   "source": [
    "# Create contract object\n",
    "\n",
    "def makeStkContract(contractTuple):\n",
    "    newContract = Contract()\n",
    "    newContract.symbol = contractTuple[0]\n",
    "    newContract.secType = contractTuple[1]\n",
    "    newContract.exchange = contractTuple[2]\n",
    "    newContract.currency = contractTuple[3]\n",
    "    return newContract"
   ]
  },
  {
   "cell_type": "code",
   "execution_count": 12,
   "metadata": {},
   "outputs": [],
   "source": [
    "# Control variables declaration\n",
    "\n",
    "bar_data_list = []\n",
    "busy = False\n",
    "active_contract_id = 0"
   ]
  },
  {
   "cell_type": "code",
   "execution_count": 13,
   "metadata": {},
   "outputs": [],
   "source": [
    "# Historical data handler\n",
    "\n",
    "def my_hist_data_handler(msg):\n",
    "    global bar_data_list\n",
    "\n",
    "    # If message does not belong to current contract, leave this function\n",
    "    if int(msg.reqId) != active_contract_id:\n",
    "        print('hist_data_handler: Msg does not belong to active contract: ' + str(msg))\n",
    "        return\n",
    "    \n",
    "    # print(msg)\n",
    "    bar_data_list.append(msg.bar)\n"
   ]
  },
  {
   "cell_type": "code",
   "execution_count": 14,
   "metadata": {},
   "outputs": [],
   "source": [
    "# End of historical data handler\n",
    "\n",
    "def my_hist_data_end_handler(msg):\n",
    "    # print('hist_data_end_handler: ' + str(msg))\n",
    "    global bar_data_list\n",
    "    global busy\n",
    "    global active_contract_id\n",
    "\n",
    "    print('data retrieval complete.')\n",
    "        \n",
    "    # If message does not belong to current contract, leave this function\n",
    "    if int(msg.reqId) != active_contract_id:\n",
    "        print('hist_data_end_handler: Msg does not belong to active contract: ' + str(msg))\n",
    "        return\n",
    "\n",
    "    # Merge collected data into dataframe\n",
    "    df_new = pd.DataFrame(columns=('date', 'open', 'high', 'low', 'close', 'volume'))\n",
    "    for bar in bar_data_list:\n",
    "        dashed_date = bar.date[:4] + '-' + bar.date[4:6] + '-' + bar.date[6:]\n",
    "        row = {'date': dashed_date, 'open': bar.open, 'high': bar.high, 'low': bar.low, 'close': bar.close, 'volume': bar.volume}\n",
    "        df_new = df_new.append(row, ignore_index=True)\n",
    "    # df_new.loc[:, 'date'] = pd.to_datetime(df_new.date, format='%Y%m%d') #'%Y%m%d  %H:%M:%S'\n",
    "    df_new = df_new.set_index('date')\n",
    "\n",
    "    # Check if there is already existing data\n",
    "    contracts_db = TinyDB('contracts_db.json')\n",
    "    my_query = Query()\n",
    "    result = contracts_db.search(my_query.Id == active_contract_id)\n",
    "    contracts_db.close()\n",
    "    current_contract = result[0]        \n",
    "    contract_status = current_contract['Status']\n",
    "    contract_symbol = current_contract['Symbol']\n",
    "    contract_exchange = current_contract['Exchange']\n",
    "\n",
    "    # Append to existing file or create new file\n",
    "    filename = '/Users/martin/Google Drive/data/screener/' + contract_symbol + '_' + contract_exchange + '.csv'\n",
    "    if contract_status.startswith('data_ends:'):\n",
    "        df_old = pd.read_csv(filename, index_col='date')\n",
    "        df_combined = df_new.combine_first(df_old)\n",
    "        os.remove(filename)\n",
    "        df_combined.to_csv(filename)\n",
    "    else:\n",
    "        if os.path.exists(filename):\n",
    "            os.remove(filename)\n",
    "        df_new.to_csv(filename)\n",
    "\n",
    "    # write finished info to contracts database\n",
    "        # Todo: use last day of data instead of today\n",
    "    timestamp_now = datetime.now()\n",
    "    string_now = timestamp_now.strftime('%Y-%m-%d') \n",
    "    contracts_db = TinyDB('contracts_db.json')\n",
    "    my_query = Query()\n",
    "    contracts_db.update({'Status': 'data_ends:'+string_now}, my_query.Id == active_contract_id)\n",
    "    contracts_db.close()\n",
    "\n",
    "    print(contract_symbol + '_' + contract_exchange + ' successful.')\n",
    "\n",
    "    bar_data_list = []\n",
    "    active_contract_id = 0\n",
    "    busy = False"
   ]
  },
  {
   "cell_type": "code",
   "execution_count": 15,
   "metadata": {},
   "outputs": [],
   "source": [
    "# Error handler\n",
    "\n",
    "def my_error_handler(msg):\n",
    "    # print('my_error_handler: ' + str(msg))\n",
    "    \n",
    "    global bar_data_list\n",
    "    global busy\n",
    "    global active_contract_id\n",
    "    \n",
    "    # If message does not belong to current contract, leave this function\n",
    "    if int(msg.id) != active_contract_id:\n",
    "        print('error_handler: Msg does not belong to active contract: ' + str(msg))\n",
    "        return\n",
    "        \n",
    "    # write msg info to contracts database\n",
    "    contracts_db = TinyDB('contracts_db.json')\n",
    "    my_query = Query()\n",
    "    status = 'Error:' + str(msg.errorCode) + '_' + str(msg.errorMsg)\n",
    "    status = status.replace(\"'\", \"\")\n",
    "    contracts_db.update({'Status': status}, my_query.Id == active_contract_id)\n",
    "\n",
    "    # get current contract info\n",
    "    result = contracts_db.search(my_query.Id == active_contract_id)\n",
    "    current_contract = result[0]        \n",
    "    contract_symbol = current_contract['Symbol']\n",
    "    contract_exchange = current_contract['Exchange']\n",
    "    contracts_db.close()\n",
    "    \n",
    "    print(contract_symbol + '_' + contract_exchange + ' ' + status)\n",
    "        \n",
    "    bar_data_list = []\n",
    "    active_contract_id = 0\n",
    "    busy = False"
   ]
  },
  {
   "cell_type": "code",
   "execution_count": 40,
   "metadata": {},
   "outputs": [],
   "source": [
    "# Data retrieval constants\n",
    "\n",
    "endtime = strftime('%Y%m%d %H:%M:%S')\n",
    "start_id = 5000\n",
    "end_id = 5323"
   ]
  },
  {
   "cell_type": "code",
   "execution_count": 41,
   "metadata": {},
   "outputs": [
    {
     "data": {
      "text/plain": [
       "True"
      ]
     },
     "execution_count": 41,
     "metadata": {},
     "output_type": "execute_result"
    }
   ],
   "source": [
    "# Create connection object\n",
    "\n",
    "con = ibConnection(port=7497)\n",
    "con.register(my_hist_data_handler, message.historicalData)\n",
    "con.register(my_hist_data_end_handler, message.historicalDataEnd)\n",
    "con.register(my_error_handler, message.error)"
   ]
  },
  {
   "cell_type": "code",
   "execution_count": null,
   "metadata": {},
   "outputs": [],
   "source": [
    "# Main function\n",
    "\n",
    "con.connect()\n",
    "    \n",
    "for index in tqdm(range(start_id, end_id)):\n",
    "        # Todo: Make the loop stoppable\n",
    "        # Todo: Add timeout\n",
    "    global busy\n",
    "    global active_contract_id\n",
    "    \n",
    "    # Get contract data from contracts db\n",
    "    contracts_db = TinyDB('contracts_db.json')\n",
    "    my_query = Query()\n",
    "    result = contracts_db.search(my_query.Id == index)\n",
    "    contracts_db.close()\n",
    "    current_contract = result[0]\n",
    "    contract_status = current_contract['Status']       \n",
    "    debug_string = str(index) + ': ' + current_contract['Symbol'] + '_' + current_contract['Exchange'] + ' requesting. '\n",
    "    print(debug_string, end='')\n",
    "    \n",
    "    # Check if CSV file is already present\n",
    "        # Todo: Skip contract on certain error status, eg. tws does not know this contract\n",
    "        # todo: exit on certain error status, eg no connection\n",
    "    if contract_status.startswith('data_ends:'):\n",
    "        start_date = (contract_status.split(':'))[1]\n",
    "        end_date = datetime.today().strftime('%Y-%m-%d')\n",
    "        ndays = np.busday_count(start_date, end_date)\n",
    "        if ndays <= 1:\n",
    "            print('data is up to date. ' + str(ndays))\n",
    "            continue\n",
    "        ndays += 4\n",
    "        req_string = str(ndays) + ' D'  \n",
    "    else:\n",
    "        req_string = \"10 Y\"\n",
    "    \n",
    "    if current_contract['Symbol'] == 'XGSD' and current_contract['Exchange'] == 'LSE':\n",
    "        print('Skipping XGSD_LSE.')\n",
    "        continue\n",
    "        # Todo: Fix me\n",
    "    \n",
    "    # Create contract and request data\n",
    "    contractTuple = (current_contract['Symbol'], 'STK', current_contract['Exchange'], current_contract['Currency'])\n",
    "    stkContract = makeStkContract(contractTuple)\n",
    "    active_contract_id = index\n",
    "    busy = True\n",
    "    con.reqHistoricalData(active_contract_id,stkContract,endtime,req_string,'1 day','MIDPOINT',1,1, keepUpToDate=False, chartOptions=[])\n",
    "    \n",
    "    # Wait for data download and storage\n",
    "    while busy is True:\n",
    "        sleep(0.2)\n",
    "    sleep(0.2)\n",
    "    print('-------------------------')\n",
    "    \n",
    "print('******** All done. ********')\n",
    "con.disconnect()\n"
   ]
  },
  {
   "cell_type": "code",
   "execution_count": 10,
   "metadata": {},
   "outputs": [
    {
     "data": {
      "text/plain": [
       "True"
      ]
     },
     "execution_count": 10,
     "metadata": {},
     "output_type": "execute_result"
    }
   ],
   "source": [
    " # Manual disconnection of connection object\n",
    "    \n",
    "con.disconnect()"
   ]
  },
  {
   "cell_type": "markdown",
   "metadata": {},
   "source": [
    "# Enhancements\n",
    "\n",
    "### Speedup\n",
    "- download next contract as soon as data is in file\n",
    "\n",
    "### Extra features for downloading\n",
    "- check for splits/mergers\n",
    "- Stream logger for status messages\n",
    "\n",
    "### Symbol in multiple exchanges\n",
    "- if symbol is multiple times in list\n",
    "    - load data from primary exchange if ppossible\n",
    "    - if primary is not available, load from exchange with highest average (price-)volume\n",
    "\n",
    "### contracts database\n",
    "- pull contracts from ib webpage\n",
    "- pull contracts data from ib\n",
    "- abillity to create own univestes (=contracts lists) based on contracts data\n",
    "\n",
    "### Storage of price data\n",
    "- store price data in database? sqlite, as handeled in one file? InfluxDB?\n",
    "- cloud storage of data\n",
    "\n",
    "### Misc\n",
    "- "
   ]
  },
  {
   "cell_type": "markdown",
   "metadata": {},
   "source": []
  },
  {
   "cell_type": "markdown",
   "metadata": {},
   "source": []
  },
  {
   "cell_type": "markdown",
   "metadata": {},
   "source": []
  },
  {
   "cell_type": "markdown",
   "metadata": {},
   "source": []
  }
 ],
 "metadata": {
  "kernelspec": {
   "display_name": "Python 3",
   "language": "python",
   "name": "python3"
  },
  "language_info": {
   "codemirror_mode": {
    "name": "ipython",
    "version": 3
   },
   "file_extension": ".py",
   "mimetype": "text/x-python",
   "name": "python",
   "nbconvert_exporter": "python",
   "pygments_lexer": "ipython3",
   "version": "3.7.4"
  }
 },
 "nbformat": 4,
 "nbformat_minor": 4
}