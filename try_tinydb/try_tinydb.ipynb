{
 "cells": [
  {
   "cell_type": "code",
   "execution_count": 22,
   "metadata": {},
   "outputs": [],
   "source": [
    "# Import\n",
    "from tinydb import TinyDB, Query"
   ]
  },
  {
   "cell_type": "code",
   "execution_count": 23,
   "metadata": {},
   "outputs": [],
   "source": [
    "# Create db-file\n",
    "symbol_db = TinyDB('symbol_db.json')"
   ]
  },
  {
   "cell_type": "code",
   "execution_count": 24,
   "metadata": {},
   "outputs": [],
   "source": [
    "# Generate data\n",
    "symbol_data = [\n",
    "    {'id': 0, 'Symbol': 'MSFT', 'Ex': 'ISLAND', 'Cur': 'USD'},\n",
    "    {'id': 1, 'Symbol': 'NFLX', 'Ex': 'MAIN', 'Cur': 'USD'},\n",
    "    {'id': 2, 'Symbol': 'AAPL', 'Ex': 'ISLAND', 'Cur': 'EUR'}\n",
    "]"
   ]
  },
  {
   "cell_type": "code",
   "execution_count": 26,
   "metadata": {},
   "outputs": [
    {
     "data": {
      "text/plain": [
       "[{'id': 0, 'Symbol': 'MSFT', 'Ex': 'ISLAND', 'Cur': 'USD'},\n",
       " {'id': 1, 'Symbol': 'NFLX', 'Ex': 'MAIN', 'Cur': 'USD'},\n",
       " {'id': 2, 'Symbol': 'AAPL', 'Ex': 'ISLAND', 'Cur': 'EUR'},\n",
       " {'id': 0, 'Symbol': 'MSFT', 'Ex': 'ISLAND', 'Cur': 'USD'},\n",
       " {'id': 1, 'Symbol': 'NFLX', 'Ex': 'MAIN', 'Cur': 'USD'},\n",
       " {'id': 2, 'Symbol': 'AAPL', 'Ex': 'ISLAND', 'Cur': 'EUR'}]"
      ]
     },
     "execution_count": 26,
     "metadata": {},
     "output_type": "execute_result"
    }
   ],
   "source": [
    "# Insert data to db\n",
    "for contract in symbol_data:\n",
    "    symbol_db.insert({'id': contract['id'], 'Symbol': contract['Symbol'], 'Ex': contract['Ex'], 'Cur': contract['Cur']},)\n",
    "symbol_db.all()"
   ]
  },
  {
   "cell_type": "code",
   "execution_count": 29,
   "metadata": {},
   "outputs": [
    {
     "name": "stdout",
     "output_type": "stream",
     "text": [
      "{'id': 0, 'Symbol': 'MSFT', 'Ex': 'ISLAND', 'Cur': 'USD'}\n",
      "{'id': 1, 'Symbol': 'NFLX', 'Ex': 'MAIN', 'Cur': 'USD'}\n",
      "{'id': 2, 'Symbol': 'AAPL', 'Ex': 'ISLAND', 'Cur': 'EUR'}\n",
      "{'id': 0, 'Symbol': 'MSFT', 'Ex': 'ISLAND', 'Cur': 'USD'}\n",
      "{'id': 1, 'Symbol': 'NFLX', 'Ex': 'MAIN', 'Cur': 'USD'}\n",
      "{'id': 2, 'Symbol': 'AAPL', 'Ex': 'ISLAND', 'Cur': 'EUR'}\n"
     ]
    }
   ],
   "source": [
    "# Read db rows\n",
    "for item in symbol_db:\n",
    "    print(item)"
   ]
  },
  {
   "cell_type": "code",
   "execution_count": 17,
   "metadata": {},
   "outputs": [
    {
     "data": {
      "text/plain": [
       "[{'id': 0, 'Symbol': 'MSFT', 'Ex': 'ISLAND', 'Cur': 'USD'}]"
      ]
     },
     "execution_count": 17,
     "metadata": {},
     "output_type": "execute_result"
    }
   ],
   "source": [
    "# Read by query\n",
    "my_query = Query()\n",
    "symbol_db.search(my_query.Symbol == 'MSFT')"
   ]
  },
  {
   "cell_type": "code",
   "execution_count": 18,
   "metadata": {},
   "outputs": [
    {
     "data": {
      "text/plain": [
       "[{'id': 0, 'Symbol': 'MSFT', 'Ex': 'ISLAND', 'Cur': 'USD'},\n",
       " {'id': 1, 'Symbol': 'NFLX', 'Ex': 'MAIN', 'Cur': 'USD'}]"
      ]
     },
     "execution_count": 18,
     "metadata": {},
     "output_type": "execute_result"
    }
   ],
   "source": [
    "# Read by query\n",
    "symbol_db.search(my_query.Cur== 'USD')"
   ]
  },
  {
   "cell_type": "code",
   "execution_count": 19,
   "metadata": {},
   "outputs": [
    {
     "data": {
      "text/plain": [
       "[{'id': 0, 'Symbol': 'MSFT', 'Ex': 'ISLAND', 'Cur': 'USD'},\n",
       " {'id': 1, 'Symbol': 'NFLX', 'Ex': 'MAIN', 'Cur': 'USD'},\n",
       " {'id': 2, 'Symbol': 'AAPL', 'Ex': 'NEW_EX', 'Cur': 'EUR'}]"
      ]
     },
     "execution_count": 19,
     "metadata": {},
     "output_type": "execute_result"
    }
   ],
   "source": [
    "# Update by query\n",
    "symbol_db.update({'Ex': 'NEW_EX'}, my_query.id == 2)\n",
    "symbol_db.all()"
   ]
  },
  {
   "cell_type": "code",
   "execution_count": 20,
   "metadata": {},
   "outputs": [
    {
     "data": {
      "text/plain": [
       "[{'id': 1, 'Symbol': 'NFLX', 'Ex': 'MAIN', 'Cur': 'USD'},\n",
       " {'id': 2, 'Symbol': 'AAPL', 'Ex': 'NEW_EX', 'Cur': 'EUR'}]"
      ]
     },
     "execution_count": 20,
     "metadata": {},
     "output_type": "execute_result"
    }
   ],
   "source": [
    "# Remove by query\n",
    "symbol_db.remove(my_query.Ex == 'ISLAND')\n",
    "symbol_db.all()"
   ]
  },
  {
   "cell_type": "code",
   "execution_count": 21,
   "metadata": {},
   "outputs": [],
   "source": [
    "symbol_db.close()"
   ]
  }
 ],
 "metadata": {
  "kernelspec": {
   "display_name": "Python 3",
   "language": "python",
   "name": "python3"
  },
  "language_info": {
   "codemirror_mode": {
    "name": "ipython",
    "version": 3
   },
   "file_extension": ".py",
   "mimetype": "text/x-python",
   "name": "python",
   "nbconvert_exporter": "python",
   "pygments_lexer": "ipython3",
   "version": "3.6.8"
  }
 },
 "nbformat": 4,
 "nbformat_minor": 4
}
