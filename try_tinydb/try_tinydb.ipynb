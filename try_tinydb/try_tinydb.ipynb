{
 "cells": [
  {
   "cell_type": "code",
   "execution_count": 42,
   "metadata": {},
   "outputs": [],
   "source": [
    "# Import\n",
    "from tinydb import TinyDB, Query\n",
    "import pandas as pd\n",
    "import qgrid"
   ]
  },
  {
   "cell_type": "code",
   "execution_count": 11,
   "metadata": {},
   "outputs": [],
   "source": [
    "# Create db-file\n",
    "symbol_db = TinyDB('symbol_db.json')"
   ]
  },
  {
   "cell_type": "code",
   "execution_count": 12,
   "metadata": {},
   "outputs": [],
   "source": [
    "# Generate data\n",
    "symbol_data = [\n",
    "    {'id': 0, 'Symbol': 'MSFT', 'Ex': 'ISLAND', 'Cur': 'USD'},\n",
    "    {'id': 1, 'Symbol': 'NFLX', 'Ex': 'MAIN', 'Cur': 'USD'},\n",
    "    {'id': 2, 'Symbol': 'AAPL', 'Ex': 'ISLAND', 'Cur': 'EUR'}\n",
    "]"
   ]
  },
  {
   "cell_type": "code",
   "execution_count": 13,
   "metadata": {},
   "outputs": [
    {
     "data": {
      "text/plain": [
       "[{'id': 1, 'Symbol': 'NFLX', 'Ex': 'MAIN', 'Cur': 'USD'},\n",
       " {'id': 2, 'Symbol': 'AAPL', 'Ex': 'NEW_EX', 'Cur': 'EUR'},\n",
       " {'id': 1, 'Symbol': 'NFLX', 'Ex': 'MAIN', 'Cur': 'USD'},\n",
       " {'id': 2, 'Symbol': 'AAPL', 'Ex': 'NEW_EX', 'Cur': 'EUR'},\n",
       " {'id': 0, 'Symbol': 'MSFT', 'Ex': 'ISLAND', 'Cur': 'USD'},\n",
       " {'id': 1, 'Symbol': 'NFLX', 'Ex': 'MAIN', 'Cur': 'USD'},\n",
       " {'id': 2, 'Symbol': 'AAPL', 'Ex': 'ISLAND', 'Cur': 'EUR'}]"
      ]
     },
     "execution_count": 13,
     "metadata": {},
     "output_type": "execute_result"
    }
   ],
   "source": [
    "# Insert data to db\n",
    "for contract in symbol_data:\n",
    "    symbol_db.insert({'id': contract['id'], 'Symbol': contract['Symbol'], 'Ex': contract['Ex'], 'Cur': contract['Cur']},)\n",
    "symbol_db.all()"
   ]
  },
  {
   "cell_type": "code",
   "execution_count": 5,
   "metadata": {},
   "outputs": [
    {
     "name": "stdout",
     "output_type": "stream",
     "text": [
      "{'id': 1, 'Symbol': 'NFLX', 'Ex': 'MAIN', 'Cur': 'USD'}\n",
      "{'id': 2, 'Symbol': 'AAPL', 'Ex': 'NEW_EX', 'Cur': 'EUR'}\n",
      "{'id': 0, 'Symbol': 'MSFT', 'Ex': 'ISLAND', 'Cur': 'USD'}\n",
      "{'id': 1, 'Symbol': 'NFLX', 'Ex': 'MAIN', 'Cur': 'USD'}\n",
      "{'id': 2, 'Symbol': 'AAPL', 'Ex': 'ISLAND', 'Cur': 'EUR'}\n"
     ]
    }
   ],
   "source": [
    "# Read db rows\n",
    "for item in symbol_db:\n",
    "    print(item)"
   ]
  },
  {
   "cell_type": "code",
   "execution_count": 6,
   "metadata": {},
   "outputs": [
    {
     "data": {
      "text/plain": [
       "[{'id': 0, 'Symbol': 'MSFT', 'Ex': 'ISLAND', 'Cur': 'USD'}]"
      ]
     },
     "execution_count": 6,
     "metadata": {},
     "output_type": "execute_result"
    }
   ],
   "source": [
    "# Read by query\n",
    "my_query = Query()\n",
    "symbol_db.search(my_query.Symbol == 'MSFT')"
   ]
  },
  {
   "cell_type": "code",
   "execution_count": 7,
   "metadata": {},
   "outputs": [
    {
     "data": {
      "text/plain": [
       "[{'id': 1, 'Symbol': 'NFLX', 'Ex': 'MAIN', 'Cur': 'USD'},\n",
       " {'id': 0, 'Symbol': 'MSFT', 'Ex': 'ISLAND', 'Cur': 'USD'},\n",
       " {'id': 1, 'Symbol': 'NFLX', 'Ex': 'MAIN', 'Cur': 'USD'}]"
      ]
     },
     "execution_count": 7,
     "metadata": {},
     "output_type": "execute_result"
    }
   ],
   "source": [
    "# Read by query\n",
    "symbol_db.search(my_query.Cur== 'USD')"
   ]
  },
  {
   "cell_type": "code",
   "execution_count": 8,
   "metadata": {},
   "outputs": [
    {
     "data": {
      "text/plain": [
       "[{'id': 1, 'Symbol': 'NFLX', 'Ex': 'MAIN', 'Cur': 'USD'},\n",
       " {'id': 2, 'Symbol': 'AAPL', 'Ex': 'NEW_EX', 'Cur': 'EUR'},\n",
       " {'id': 0, 'Symbol': 'MSFT', 'Ex': 'ISLAND', 'Cur': 'USD'},\n",
       " {'id': 1, 'Symbol': 'NFLX', 'Ex': 'MAIN', 'Cur': 'USD'},\n",
       " {'id': 2, 'Symbol': 'AAPL', 'Ex': 'NEW_EX', 'Cur': 'EUR'}]"
      ]
     },
     "execution_count": 8,
     "metadata": {},
     "output_type": "execute_result"
    }
   ],
   "source": [
    "# Update by query\n",
    "symbol_db.update({'Ex': 'NEW_EX'}, my_query.id == 2)\n",
    "symbol_db.all()"
   ]
  },
  {
   "cell_type": "code",
   "execution_count": 9,
   "metadata": {},
   "outputs": [
    {
     "data": {
      "text/plain": [
       "[{'id': 1, 'Symbol': 'NFLX', 'Ex': 'MAIN', 'Cur': 'USD'},\n",
       " {'id': 2, 'Symbol': 'AAPL', 'Ex': 'NEW_EX', 'Cur': 'EUR'},\n",
       " {'id': 1, 'Symbol': 'NFLX', 'Ex': 'MAIN', 'Cur': 'USD'},\n",
       " {'id': 2, 'Symbol': 'AAPL', 'Ex': 'NEW_EX', 'Cur': 'EUR'}]"
      ]
     },
     "execution_count": 9,
     "metadata": {},
     "output_type": "execute_result"
    }
   ],
   "source": [
    "# Remove by query\n",
    "symbol_db.remove(my_query.Ex == 'ISLAND')\n",
    "symbol_db.all()"
   ]
  },
  {
   "cell_type": "code",
   "execution_count": null,
   "metadata": {},
   "outputs": [],
   "source": []
  },
  {
   "cell_type": "code",
   "execution_count": 44,
   "metadata": {},
   "outputs": [
    {
     "data": {
      "application/vnd.jupyter.widget-view+json": {
       "model_id": "7e5d9be0947e404486ec1279f9af08b6",
       "version_major": 2,
       "version_minor": 0
      },
      "text/plain": [
       "QgridWidget(grid_options={'fullWidthRows': True, 'syncColumnCellResize': True, 'forceFitColumns': True, 'defau…"
      ]
     },
     "metadata": {},
     "output_type": "display_data"
    }
   ],
   "source": [
    "data_list = str(symbol_db.all())\n",
    "data_list = data_list.replace(\"'\", '\"')\n",
    "df = pd.read_json(data_list, orient='records')\n",
    "qwi = qgrid.show_grid(df, show_toolbar=True)\n",
    "qwi"
   ]
  },
  {
   "cell_type": "code",
   "execution_count": null,
   "metadata": {},
   "outputs": [],
   "source": []
  },
  {
   "cell_type": "code",
   "execution_count": null,
   "metadata": {},
   "outputs": [],
   "source": []
  },
  {
   "cell_type": "code",
   "execution_count": null,
   "metadata": {},
   "outputs": [],
   "source": []
  },
  {
   "cell_type": "code",
   "execution_count": null,
   "metadata": {},
   "outputs": [],
   "source": []
  },
  {
   "cell_type": "code",
   "execution_count": 10,
   "metadata": {},
   "outputs": [],
   "source": [
    "symbol_db.close()"
   ]
  },
  {
   "cell_type": "code",
   "execution_count": null,
   "metadata": {},
   "outputs": [],
   "source": []
  }
 ],
 "metadata": {
  "kernelspec": {
   "display_name": "Python 3",
   "language": "python",
   "name": "python3"
  },
  "language_info": {
   "codemirror_mode": {
    "name": "ipython",
    "version": 3
   },
   "file_extension": ".py",
   "mimetype": "text/x-python",
   "name": "python",
   "nbconvert_exporter": "python",
   "pygments_lexer": "ipython3",
   "version": "3.6.8"
  }
 },
 "nbformat": 4,
 "nbformat_minor": 4
}
