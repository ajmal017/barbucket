{
 "cells": [
  {
   "cell_type": "markdown",
   "metadata": {},
   "source": [
    "## xetra etfs"
   ]
  },
  {
   "cell_type": "code",
   "execution_count": 3,
   "metadata": {},
   "outputs": [],
   "source": [
    "import pandas as pd\n",
    "# 'https://www.xetra.com/resource/blob/1528/c9dd49f746232ab52133fc9b31ef8577/data/t7-xetr-allTradableInstruments.csv'\n",
    "inst = pd.read_csv('https://www.xetra.com/resource/blob/1528/c9dd49f746232ab52133fc9b31ef8577/data/t7-xetr-allTradableInstruments.csv', \n",
    "                   sep=';', \n",
    "                   skiprows=2, \n",
    "                   usecols=['instrument', 'Mnemonic', 'Instrument Type', 'Product Assignment Group Description', 'Primary Market MIC Code'])\n",
    "# xetra_etfs = inst[(inst['Instrument Type']=='ETF') & (inst['Primary Market MIC Code']=='XETR')]\n",
    "xetra_etfs = inst[(inst['Instrument Type']=='ETF')]"
   ]
  },
  {
   "cell_type": "code",
   "execution_count": 4,
   "metadata": {},
   "outputs": [],
   "source": [
    "xetra_etfs.loc[:,'yahoo_symbol'] = xetra_etfs['Mnemonic'] + '.DE'\n",
    "# xetra_etfs"
   ]
  },
  {
   "cell_type": "code",
   "execution_count": 5,
   "metadata": {},
   "outputs": [],
   "source": [
    "symbols = xetra_etfs['yahoo_symbol'].tolist()\n",
    "\n",
    "file = open('xetra_etf_symbols.txt','w') \n",
    "for symbol in symbols:\n",
    "    file.write(symbol + '\\n')\n",
    "file.close() "
   ]
  },
  {
   "cell_type": "code",
   "execution_count": null,
   "metadata": {},
   "outputs": [],
   "source": []
  },
  {
   "cell_type": "markdown",
   "metadata": {},
   "source": [
    "## london"
   ]
  },
  {
   "cell_type": "code",
   "execution_count": null,
   "metadata": {},
   "outputs": [],
   "source": [
    "https://www.londonstockexchange.com/statistics/companies-and-issuers/instruments-defined-by-mifir-identifiers-list-on-lse.xlsx"
   ]
  },
  {
   "cell_type": "code",
   "execution_count": null,
   "metadata": {},
   "outputs": [],
   "source": []
  },
  {
   "cell_type": "markdown",
   "metadata": {},
   "source": [
    "## nasdaq etfs"
   ]
  },
  {
   "cell_type": "code",
   "execution_count": null,
   "metadata": {},
   "outputs": [],
   "source": [
    "https://www.nasdaq.com/investing/etfs/etf-finder-results.aspx?download=Yes"
   ]
  },
  {
   "cell_type": "code",
   "execution_count": null,
   "metadata": {},
   "outputs": [],
   "source": []
  },
  {
   "cell_type": "markdown",
   "metadata": {},
   "source": [
    "## nasdaq stocks"
   ]
  },
  {
   "cell_type": "code",
   "execution_count": null,
   "metadata": {},
   "outputs": [],
   "source": [
    "https://www.nasdaq.com/screening/companies-by-name.aspx?letter=0&exchange=nasdaq&render=download"
   ]
  },
  {
   "cell_type": "code",
   "execution_count": null,
   "metadata": {},
   "outputs": [],
   "source": [
    "https://www.nasdaq.com/screening/companies-by-name.aspx?letter=0&exchange=nyse&render=download"
   ]
  },
  {
   "cell_type": "code",
   "execution_count": null,
   "metadata": {},
   "outputs": [],
   "source": [
    "https://www.nasdaq.com/screening/companies-by-name.aspx?letter=0&exchange=amex&render=download"
   ]
  }
 ],
 "metadata": {
  "kernelspec": {
   "display_name": "Python 3",
   "language": "python",
   "name": "python3"
  },
  "language_info": {
   "codemirror_mode": {
    "name": "ipython",
    "version": 3
   },
   "file_extension": ".py",
   "mimetype": "text/x-python",
   "name": "python",
   "nbconvert_exporter": "python",
   "pygments_lexer": "ipython3",
   "version": "3.6.8"
  }
 },
 "nbformat": 4,
 "nbformat_minor": 2
}
