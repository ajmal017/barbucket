{
 "cells": [
  {
   "cell_type": "code",
   "execution_count": 67,
   "metadata": {},
   "outputs": [
    {
     "name": "stderr",
     "output_type": "stream",
     "text": [
      "100%|██████████| 10/10 [00:00<00:00, 347.88it/s]\n"
     ]
    },
    {
     "data": {
      "text/plain": [
       "2011-04-22    1\n",
       "2011-04-25    1\n",
       "2011-12-26    1\n",
       "2012-04-06    1\n",
       "2012-04-09    1\n",
       "             ..\n",
       "2019-04-19    1\n",
       "2019-04-22    1\n",
       "2019-05-01    1\n",
       "2019-06-10    1\n",
       "2019-10-03    1\n",
       "Length: 66, dtype: int64"
      ]
     },
     "execution_count": 67,
     "metadata": {},
     "output_type": "execute_result"
    }
   ],
   "source": [
    "from tinydb import TinyDB, Query\n",
    "import pandas as pd\n",
    "from tqdm import tqdm\n",
    "import datetime\n",
    "\n",
    "\n",
    "\n",
    "def update_ntd_list(exchange):\n",
    "    \n",
    "    #Get all contracts\n",
    "    contracts_db = TinyDB('/Users/martin/Documents/devel/screener/data_management/contracts_db.json')\n",
    "    my_query = Query()\n",
    "    all_instruments = contracts_db.search(my_query.Exchange == exchange)\n",
    "    contracts_db.close()\n",
    "    \n",
    "    # Build initial list of dates\n",
    "    start = datetime.datetime(2008, 1, 1)\n",
    "    end = datetime.datetime(2019, 12, 31)\n",
    "    dt_index = pd.bdate_range(start, end)\n",
    "    init_vals = dt_index.strftime('%Y-%m-%d').values\n",
    "    all_days = pd.Series(init_vals)\n",
    "    \n",
    "    # Append dates of all existing candlesticks to dates list\n",
    "    for instrument in tqdm(all_instruments[:10]):\n",
    "        if not instrument['Status'].startswith('data_ends'):\n",
    "            continue\n",
    "        filename = ('/Users/martin/Google Drive/data/screener/' + instrument['Symbol'] + '_' + exchange + '.csv')\n",
    "        df_histo = pd.read_csv(filename)\n",
    "        all_days = all_days.append(df_histo['date'])\n",
    "        \n",
    "    # Filter dates where no instrument was traded\n",
    "    counts = all_days.value_counts()\n",
    "    counts = counts.sort_index()\n",
    "    while counts.iloc[0] == 1: # Drop trailing no-data dates\n",
    "        counts = counts.drop(counts.index[0])\n",
    "    while counts.iloc[-1] == 1: # Drop leading no-data dates\n",
    "        counts = counts.drop(counts.index[-1])\n",
    "    counts = counts.drop(counts[counts!=1].index)\n",
    "\n",
    "    return counts\n",
    "\n",
    "update_ntd_list('FWB')\n"
   ]
  },
  {
   "cell_type": "code",
   "execution_count": null,
   "metadata": {},
   "outputs": [],
   "source": []
  }
 ],
 "metadata": {
  "kernelspec": {
   "display_name": "Python 3",
   "language": "python",
   "name": "python3"
  },
  "language_info": {
   "codemirror_mode": {
    "name": "ipython",
    "version": 3
   },
   "file_extension": ".py",
   "mimetype": "text/x-python",
   "name": "python",
   "nbconvert_exporter": "python",
   "pygments_lexer": "ipython3",
   "version": "3.7.5"
  }
 },
 "nbformat": 4,
 "nbformat_minor": 4
}
