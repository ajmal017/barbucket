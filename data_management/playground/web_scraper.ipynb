{
 "nbformat": 4,
 "nbformat_minor": 2,
 "metadata": {
  "language_info": {
   "name": "python",
   "codemirror_mode": {
    "name": "ipython",
    "version": 3
   },
   "version": "3.7.5"
  },
  "orig_nbformat": 2,
  "file_extension": ".py",
  "mimetype": "text/x-python",
  "name": "python",
  "npconvert_exporter": "python",
  "pygments_lexer": "ipython3",
  "version": 3
 },
 "cells": [
  {
   "cell_type": "code",
   "execution_count": 14,
   "metadata": {},
   "outputs": [
    {
     "data": {
      "text/plain": "[{'symbol': 'BNQF',\n  'name': 'Collateralized ETC on RICI Enhanced Gas Oil TR Index',\n  'currency': 'EUR',\n  'exchange': 'FWB'}]"
     },
     "execution_count": 14,
     "metadata": {},
     "output_type": "execute_result"
    }
   ],
   "source": [
    "from bs4 import BeautifulSoup\n",
    "from selenium import webdriver\n",
    "\n",
    "exchange = 'fwb'\n",
    "url = f'https://www.interactivebrokers.com/en/index.php?f=567&exch={exchange}'\n",
    "browser = webdriver.Chrome()\n",
    "browser.get(url)\n",
    "html = browser.page_source\n",
    "browser.quit()\n",
    "\n",
    "soup = BeautifulSoup(html, 'html.parser')\n",
    "tables = soup.find_all('table', class_='table table-striped table-bordered')\n",
    "\n",
    "data = []\n",
    "rows = tables[2].tbody.find_all('tr')\n",
    "for row in rows:\n",
    "    cols = row.find_all('td')\n",
    "    row_dict = {\n",
    "        'symbol': cols[0].text.strip(),\n",
    "        'name': cols[1].text.strip(),\n",
    "        'currency': cols[3].text.strip(),\n",
    "        'exchange': exchange.upper()\n",
    "    }\n",
    "    data.append(row_dict)\n",
    "data"
   ]
  }
 ]
}