{
 "cells": [
  {
   "cell_type": "code",
   "execution_count": 19,
   "metadata": {},
   "outputs": [],
   "source": [
    "import fix_yahoo_finance as yf\n",
    "import datetime"
   ]
  },
  {
   "cell_type": "code",
   "execution_count": 20,
   "metadata": {},
   "outputs": [],
   "source": [
    "symbol = '^GDAXI'\n",
    "interval = '1d'\n",
    "start = '2000-01-01'\n",
    "\n",
    "ticker = yf.Ticker(symbol)\n",
    "data = ticker.history(interval=interval, start=start, period=None)\n",
    "data.to_csv(f'data\\{symbol}.csv', index='Date')"
   ]
  },
  {
   "cell_type": "code",
   "execution_count": 21,
   "metadata": {},
   "outputs": [],
   "source": [
    "start = datetime.datetime.strptime('2000-01-01', '%Y-%m-%d')\n",
    "end = datetime.datetime.strptime('2019-06-01', '%Y-%m-%d')\n",
    "datelist = data.index.tolist()\n",
    "\n",
    "non_trading_days = []\n",
    "day = start\n",
    "\n",
    "while day <= end:\n",
    "    if day.weekday() in range(5):\n",
    "        if day not in datelist:\n",
    "            non_trading_days.append(day)\n",
    "    day = day + datetime.timedelta(days=1)\n",
    "    \n",
    "# non_trading_days"
   ]
  },
  {
   "cell_type": "code",
   "execution_count": 30,
   "metadata": {},
   "outputs": [],
   "source": [
    "file = open('non_trading_days.txt', mode='w')\n",
    "for date in non_trading_days:\n",
    "    file.write(date.strftime('%Y-%m-%d') + '\\n')\n",
    "file.close()"
   ]
  }
 ],
 "metadata": {
  "kernelspec": {
   "display_name": "Python 3",
   "language": "python",
   "name": "python3"
  },
  "language_info": {
   "codemirror_mode": {
    "name": "ipython",
    "version": 3
   },
   "file_extension": ".py",
   "mimetype": "text/x-python",
   "name": "python",
   "nbconvert_exporter": "python",
   "pygments_lexer": "ipython3",
   "version": "3.6.8"
  }
 },
 "nbformat": 4,
 "nbformat_minor": 2
}
