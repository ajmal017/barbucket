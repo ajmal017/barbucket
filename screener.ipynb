{
 "cells": [
  {
   "cell_type": "code",
   "execution_count": 9,
   "metadata": {},
   "outputs": [],
   "source": [
    "# Imports\n",
    "\n",
    "import pandas as pd\n",
    "import qgrid\n",
    "from sklearn.linear_model import LinearRegression\n",
    "import os\n",
    "\n",
    "from tqdm.notebook import tqdm\n",
    "from highcharts import Highstock\n",
    "\n",
    "from data_management.database import DataBase"
   ]
  },
  {
   "cell_type": "code",
   "execution_count": 17,
   "metadata": {},
   "outputs": [],
   "source": [
    "db = DataBase()"
   ]
  },
  {
   "cell_type": "code",
   "execution_count": 3,
   "metadata": {},
   "outputs": [],
   "source": [
    "# Calculation functions\n",
    "\n",
    "def performance(series):\n",
    "    X = series.index.values.reshape(-1,1)\n",
    "    y = series.values.reshape(-1,1)\n",
    "\n",
    "    regressor = LinearRegression()  \n",
    "    regressor.fit(X, y)\n",
    "    \n",
    "    perf = regressor.coef_[0][0]\n",
    "    yearly = ((perf * 250) / series.iloc[-1]) *100\n",
    "    return yearly"
   ]
  },
  {
   "cell_type": "code",
   "execution_count": 4,
   "metadata": {
    "scrolled": false
   },
   "outputs": [],
   "source": [
    "# Get instruments list\n",
    "\n",
    "                        path = '/Users/martin/Google Drive/data/screener/'\n",
    "                        files = os.listdir(path)\n",
    "                        dfi = pd.DataFrame()\n",
    "                        dfi['Instrument'] = files[:]\n",
    "# Todo: Get instruments from databse"
   ]
  },
  {
   "cell_type": "code",
   "execution_count": 18,
   "metadata": {},
   "outputs": [],
   "source": [
    "# Get contracts\n",
    "query = \"\"\"SELECT contract_id, symbol, name, exchange\n",
    "            FROM contracts\"\"\"\n",
    "\n",
    "conn = db.connect()\n",
    "cur = conn.cursor()\n",
    "\n",
    "dfc = pd.read_sql_query(query, conn)\n",
    "\n",
    "conn.commit()\n",
    "cur.close()\n",
    "db.disconnect(conn)"
   ]
  },
  {
   "cell_type": "code",
   "execution_count": 19,
   "metadata": {},
   "outputs": [
    {
     "data": {
      "text/html": [
       "<div>\n",
       "<style scoped>\n",
       "    .dataframe tbody tr th:only-of-type {\n",
       "        vertical-align: middle;\n",
       "    }\n",
       "\n",
       "    .dataframe tbody tr th {\n",
       "        vertical-align: top;\n",
       "    }\n",
       "\n",
       "    .dataframe thead th {\n",
       "        text-align: right;\n",
       "    }\n",
       "</style>\n",
       "<table border=\"1\" class=\"dataframe\">\n",
       "  <thead>\n",
       "    <tr style=\"text-align: right;\">\n",
       "      <th></th>\n",
       "      <th>contract_id</th>\n",
       "      <th>symbol</th>\n",
       "      <th>name</th>\n",
       "      <th>exchange</th>\n",
       "    </tr>\n",
       "  </thead>\n",
       "  <tbody>\n",
       "    <tr>\n",
       "      <th>0</th>\n",
       "      <td>1</td>\n",
       "      <td>BNQF</td>\n",
       "      <td>Collateralized ETC on RICI Enhanced Gas Oil TR...</td>\n",
       "      <td>FWB</td>\n",
       "    </tr>\n",
       "    <tr>\n",
       "      <th>1</th>\n",
       "      <td>2</td>\n",
       "      <td>CNB</td>\n",
       "      <td>Lyxor Euro Corporate Bond Ex Financials UCITS ETF</td>\n",
       "      <td>FWB</td>\n",
       "    </tr>\n",
       "    <tr>\n",
       "      <th>2</th>\n",
       "      <td>3</td>\n",
       "      <td>UEF5</td>\n",
       "      <td>UBS ETF - MSCI Emerging Markets Socially Respo...</td>\n",
       "      <td>FWB</td>\n",
       "    </tr>\n",
       "    <tr>\n",
       "      <th>3</th>\n",
       "      <td>5</td>\n",
       "      <td>FLOT</td>\n",
       "      <td>Lyxor Barclays Floating Rate Euro 0-7Y UCITS ETF</td>\n",
       "      <td>FWB</td>\n",
       "    </tr>\n",
       "    <tr>\n",
       "      <th>4</th>\n",
       "      <td>7</td>\n",
       "      <td>ETLH</td>\n",
       "      <td>L&amp;G Ecommerce Logistics UCITS ETF</td>\n",
       "      <td>FWB</td>\n",
       "    </tr>\n",
       "    <tr>\n",
       "      <th>...</th>\n",
       "      <td>...</td>\n",
       "      <td>...</td>\n",
       "      <td>...</td>\n",
       "      <td>...</td>\n",
       "    </tr>\n",
       "    <tr>\n",
       "      <th>4339</th>\n",
       "      <td>5081</td>\n",
       "      <td>VMIG</td>\n",
       "      <td>Vanguard FTSE 250 UCITS ETF</td>\n",
       "      <td>LSEETF</td>\n",
       "    </tr>\n",
       "    <tr>\n",
       "      <th>4340</th>\n",
       "      <td>5085</td>\n",
       "      <td>VWRD</td>\n",
       "      <td>Vanguard FTSE All-World UCITS ETF</td>\n",
       "      <td>LSEETF</td>\n",
       "    </tr>\n",
       "    <tr>\n",
       "      <th>4341</th>\n",
       "      <td>5086</td>\n",
       "      <td>EEDM</td>\n",
       "      <td>iShares MSCI EM ESG Enhanced UCITS ETF</td>\n",
       "      <td>LSEETF</td>\n",
       "    </tr>\n",
       "    <tr>\n",
       "      <th>4342</th>\n",
       "      <td>5087</td>\n",
       "      <td>VUKG</td>\n",
       "      <td>Vanguard FTSE 100 UCITS ETF</td>\n",
       "      <td>LSEETF</td>\n",
       "    </tr>\n",
       "    <tr>\n",
       "      <th>4343</th>\n",
       "      <td>5088</td>\n",
       "      <td>VWRL</td>\n",
       "      <td>Vanguard FTSE All-World UCITS ETF</td>\n",
       "      <td>LSEETF</td>\n",
       "    </tr>\n",
       "  </tbody>\n",
       "</table>\n",
       "<p>4344 rows × 4 columns</p>\n",
       "</div>"
      ],
      "text/plain": [
       "      contract_id symbol                                               name  \\\n",
       "0               1   BNQF  Collateralized ETC on RICI Enhanced Gas Oil TR...   \n",
       "1               2    CNB  Lyxor Euro Corporate Bond Ex Financials UCITS ETF   \n",
       "2               3   UEF5  UBS ETF - MSCI Emerging Markets Socially Respo...   \n",
       "3               5   FLOT   Lyxor Barclays Floating Rate Euro 0-7Y UCITS ETF   \n",
       "4               7   ETLH                  L&G Ecommerce Logistics UCITS ETF   \n",
       "...           ...    ...                                                ...   \n",
       "4339         5081   VMIG                        Vanguard FTSE 250 UCITS ETF   \n",
       "4340         5085   VWRD                  Vanguard FTSE All-World UCITS ETF   \n",
       "4341         5086   EEDM             iShares MSCI EM ESG Enhanced UCITS ETF   \n",
       "4342         5087   VUKG                        Vanguard FTSE 100 UCITS ETF   \n",
       "4343         5088   VWRL                  Vanguard FTSE All-World UCITS ETF   \n",
       "\n",
       "     exchange  \n",
       "0         FWB  \n",
       "1         FWB  \n",
       "2         FWB  \n",
       "3         FWB  \n",
       "4         FWB  \n",
       "...       ...  \n",
       "4339   LSEETF  \n",
       "4340   LSEETF  \n",
       "4341   LSEETF  \n",
       "4342   LSEETF  \n",
       "4343   LSEETF  \n",
       "\n",
       "[4344 rows x 4 columns]"
      ]
     },
     "execution_count": 19,
     "metadata": {},
     "output_type": "execute_result"
    }
   ],
   "source": [
    "dfc"
   ]
  },
  {
   "cell_type": "code",
   "execution_count": 5,
   "metadata": {},
   "outputs": [
    {
     "data": {
      "application/vnd.jupyter.widget-view+json": {
       "model_id": "f3f9fec49f5c4e35acf9ce348565d5ea",
       "version_major": 2,
       "version_minor": 0
      },
      "text/plain": [
       "HBox(children=(IntProgress(value=0, max=4593), HTML(value='')))"
      ]
     },
     "metadata": {},
     "output_type": "display_data"
    },
    {
     "name": "stdout",
     "output_type": "stream",
     "text": [
      "\n"
     ]
    }
   ],
   "source": [
    "# Add calculations to instruments\n",
    "\n",
    "for contract in tqdm(dfi['Instrument']):\n",
    "    df = pd.read_csv(path + inst)\n",
    "    if len(df) == 0:\n",
    "        continue\n",
    "    dfi.loc[dfi['Instrument']==inst, 'Perf_3m'] = performance(df.iloc[-66:]['close'])\n",
    "    dfi.loc[dfi['Instrument']==inst, 'Perf_1y'] = performance(df.iloc[-250:]['close'])\n",
    "    dfi.loc[dfi['Instrument']==inst, 'Perf_2y'] = performance(df.iloc[-500:]['close'])"
   ]
  },
  {
   "cell_type": "code",
   "execution_count": 6,
   "metadata": {},
   "outputs": [],
   "source": [
    "# Add calculations to instruments, multiprocessing\n",
    "\n",
    "from multiprocessing import Pool\n",
    "\n",
    "def add_calc(inst):\n",
    "    df = pd.read_csv(path + inst)\n",
    "    if len(df) == 0:\n",
    "        return\n",
    "    dfi.loc[dfi['Instrument']==inst, 'Perf_3m'] = performance(df.iloc[-66:]['close'])\n",
    "    dfi.loc[dfi['Instrument']==inst, 'Perf_1y'] = performance(df.iloc[-250:]['close'])\n",
    "    dfi.loc[dfi['Instrument']==inst, 'Perf_2y'] = performance(df.iloc[-500:]['close'])\n",
    "    \n",
    "instrument_list = dfi['Instrument'][:]\n",
    "with Pool(8) as p:\n",
    "    p.map(add_calc, instrument_list)"
   ]
  },
  {
   "cell_type": "code",
   "execution_count": 20,
   "metadata": {},
   "outputs": [],
   "source": [
    "# Build QGrid widget\n",
    "\n",
    "qgw = qgrid.show_grid(dfc, grid_options={'maxVisibleRows': 30})"
   ]
  },
  {
   "cell_type": "code",
   "execution_count": 21,
   "metadata": {},
   "outputs": [],
   "source": [
    "# QGrid handlers\n",
    "\n",
    "def handle_selection_changed(event, widget):\n",
    "    line_no = event['new'][0]\n",
    "    build_chart(line_no)\n",
    "    \n",
    "qgw.on('selection_changed', handle_selection_changed)\n",
    "\n",
    "\n",
    "def handle_data_changed(event, widget):\n",
    "    global dfc\n",
    "    dfc = qgw.get_changed_df()\n",
    "\n",
    "qgw.on('filter_changed', handle_data_changed)\n",
    "qgw.on('sort_changed', handle_data_changed)"
   ]
  },
  {
   "cell_type": "code",
   "execution_count": 22,
   "metadata": {
    "scrolled": false,
    "tags": [
     "chart_cell"
    ]
   },
   "outputs": [],
   "source": [
    "# Chart builder\n",
    "\n",
    "def build_chart(line_no):\n",
    "    # filename = dfi.iloc[line_no,]['Instrument']\n",
    "    # filepath = '/Users/martin/Google Drive/data/screener/'\n",
    "    # df = pd.read_csv(filepath + filename)\n",
    "    # df['date'] = pd.to_datetime(df['date'], format='%Y-%m-%d')\n",
    "    # df['date'] = (df['date'] - pd.Timestamp(\"1970-01-01\")) // pd.Timedelta('1ms')\n",
    "\n",
    "    # Get quotes\n",
    "    contract_id = dfc.iloc[line_no,]['contract_id']\n",
    "    query = f\"\"\"SELECT date, open, high, low, close\n",
    "                FROM quotes\n",
    "                WHERE contract_id = {contract_id}\n",
    "                ORDER BY date ASC;\"\"\"\n",
    "\n",
    "    conn = db.connect()\n",
    "    cur = conn.cursor()\n",
    "    df = pd.read_sql_query(query, conn)\n",
    "    conn.commit()\n",
    "    cur.close()\n",
    "    db.disconnect(conn)\n",
    "\n",
    "    df['date'] = pd.to_datetime(df['date'], format='%Y-%m-%d')\n",
    "\n",
    "    chart = Highstock()\n",
    "    data = df[['date','open','high','low','close']].values.tolist()\n",
    "    chart.add_data_set(data, series_type='ohlc', name=str(contract_id))\n",
    "    # todo: add moving average\n",
    "\n",
    "    options = {\n",
    "        'chart': {\n",
    "            'animation': False,\n",
    "            'height': 800,\n",
    "            'marginLeft': 50\n",
    "        },\n",
    "        'rangeSelector': {\n",
    "            'selected': 5,\n",
    "            'buttons': [{\n",
    "                'type': 'month',\n",
    "                'count': 1,\n",
    "                'text': '1m'\n",
    "            }, {\n",
    "                'type': 'month',\n",
    "                'count': 3,\n",
    "                'text': '3m'\n",
    "            }, {\n",
    "                'type': 'month',\n",
    "                'count': 6,\n",
    "                'text': '6m'\n",
    "            }, {\n",
    "                'type': 'ytd',\n",
    "                'text': 'YTD'\n",
    "            }, {\n",
    "                'type': 'year',\n",
    "                'count': 1,\n",
    "                'text': '1y'\n",
    "            }, {\n",
    "                'type': 'year',\n",
    "                'count': 2,\n",
    "                'text': '2y'\n",
    "            }, {\n",
    "                'type': 'all',\n",
    "                'text': 'All'\n",
    "            }]\n",
    "        },\n",
    "        'navigator': {\n",
    "            'height': 100\n",
    "        },\n",
    "        'title': {\n",
    "            'text': str(contract_id)\n",
    "        },\n",
    "        'plotOptions': {\n",
    "            'series': {\n",
    "                'animation': False\n",
    "            }\n",
    "        },\n",
    "        'yAxis': {\n",
    "            'type': 'logarithmic'\n",
    "        }\n",
    "    }\n",
    "    chart.set_dict_options(options)\n",
    "    chart.save_file('./screener/website/index')"
   ]
  },
  {
   "cell_type": "code",
   "execution_count": 23,
   "metadata": {},
   "outputs": [
    {
     "data": {
      "application/vnd.jupyter.widget-view+json": {
       "model_id": "ba28736121a343c18a9dd8ed2a327f89",
       "version_major": 2,
       "version_minor": 0
      },
      "text/plain": [
       "QgridWidget(grid_options={'fullWidthRows': True, 'syncColumnCellResize': True, 'forceFitColumns': True, 'defau…"
      ]
     },
     "metadata": {},
     "output_type": "display_data"
    }
   ],
   "source": [
    "##### Show QGrid widget\n",
    "\n",
    "qgw"
   ]
  },
  {
   "cell_type": "code",
   "execution_count": null,
   "metadata": {},
   "outputs": [],
   "source": []
  }
 ],
 "metadata": {
  "file_extension": ".py",
  "kernelspec": {
   "display_name": "Python 3",
   "language": "python",
   "name": "python3"
  },
  "language_info": {
   "codemirror_mode": {
    "name": "ipython",
    "version": 3
   },
   "file_extension": ".py",
   "mimetype": "text/x-python",
   "name": "python",
   "nbconvert_exporter": "python",
   "pygments_lexer": "ipython3",
   "version": "3.7.5"
  },
  "mimetype": "text/x-python",
  "name": "python",
  "npconvert_exporter": "python",
  "pygments_lexer": "ipython3",
  "version": 3
 },
 "nbformat": 4,
 "nbformat_minor": 2
}
