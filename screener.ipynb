{
 "cells": [
  {
   "cell_type": "code",
   "execution_count": 12,
   "metadata": {},
   "outputs": [],
   "source": [
    "# Imports\n",
    "\n",
    "import pandas as pd\n",
    "import qgrid\n",
    "from sklearn.linear_model import LinearRegression\n",
    "import os\n",
    "from multiprocessing import Pool\n",
    "\n",
    "from tqdm.notebook import tqdm\n",
    "from highcharts import Highstock\n",
    "\n",
    "from data_management.database import DataBase"
   ]
  },
  {
   "cell_type": "code",
   "execution_count": 13,
   "metadata": {},
   "outputs": [],
   "source": [
    "db = DataBase()"
   ]
  },
  {
   "cell_type": "code",
   "execution_count": 14,
   "metadata": {},
   "outputs": [],
   "source": [
    "# Calculation functions\n",
    "\n",
    "def performance(series):\n",
    "    X = series.index.values.reshape(-1,1)\n",
    "    y = series.values.reshape(-1,1)\n",
    "\n",
    "    regressor = LinearRegression()  \n",
    "    regressor.fit(X, y)\n",
    "    \n",
    "    perf = regressor.coef_[0][0]\n",
    "    yearly = ((perf * 250) / series.iloc[-1]) *100\n",
    "    return yearly\n",
    "\n",
    "def barcount(series):\n",
    "    return series.size"
   ]
  },
  {
   "cell_type": "code",
   "execution_count": 15,
   "metadata": {},
   "outputs": [],
   "source": [
    "# Get contracts\n",
    "query = \"\"\"SELECT contract_id, symbol, exchange, name\n",
    "            FROM contracts\"\"\"\n",
    "\n",
    "conn = db.connect()\n",
    "cur = conn.cursor()\n",
    "\n",
    "dfc = pd.read_sql_query(query, conn)\n",
    "\n",
    "conn.commit()\n",
    "cur.close()\n",
    "db.disconnect(conn)"
   ]
  },
  {
   "cell_type": "code",
   "execution_count": 20,
   "metadata": {},
   "outputs": [],
   "source": [
    "# Pre-filtering of contracts\n",
    "dfc = dfc.loc[(dfc['name'].str.contains('short', case=False, regex=False)),:]"
   ]
  },
  {
   "cell_type": "code",
   "execution_count": 31,
   "metadata": {},
   "outputs": [],
   "source": [
    "# Add calculations to instruments\n",
    "\n",
    "def add_calcs(contract_id):\n",
    "    # Get quotes\n",
    "    query = f\"\"\"SELECT date, open, high, low, close, volume\n",
    "                FROM quotes\n",
    "                WHERE contract_id = {contract_id}\"\"\"\n",
    "\n",
    "    conn = db.connect()\n",
    "    cur = conn.cursor()\n",
    "\n",
    "    dfq = pd.read_sql_query(query, conn)\n",
    "\n",
    "    conn.commit()\n",
    "    cur.close()\n",
    "    db.disconnect(conn)\n",
    "\n",
    "    result = {}\n",
    "    result['contract_id'] = contract_id\n",
    "    result['Perf_1w'] = performance(dfq.iloc[-5:]['close'])\n",
    "    # result['Perf_3m'] = performance(dfq.iloc[-66:]['close'])\n",
    "    # result['Perf_1y'] = performance(dfq.iloc[-250:]['close'])\n",
    "    # result['Perf_2y'] = performance(dfq.iloc[-500:]['close'])\n",
    "    # result['Len'] = len(dfq.iloc[:]['close'])\n",
    "    return result\n",
    "    \n",
    "\n",
    "contract_ids = dfc['contract_id'][:]\n",
    "with Pool() as p:\n",
    "    results = p.map(add_calcs, contract_ids)\n",
    "    \n",
    "for result in results:\n",
    "    dfc.loc[dfc['contract_id']==result['contract_id'], 'Perf_1w'] = result['Perf_1w']\n",
    "    # dfc.loc[dfc['contract_id']==result['contract_id'], 'Perf_3m'] = result['Perf_3m']\n",
    "    # dfc.loc[dfc['contract_id']==result['contract_id'], 'Perf_1y'] = result['Perf_1y']\n",
    "    # dfc.loc[dfc['contract_id']==result['contract_id'], 'Perf_2y'] = result['Perf_2y']\n",
    "    # dfc.loc[dfc['contract_id']==result['contract_id'], 'Len'] = result['Len']"
   ]
  },
  {
   "cell_type": "code",
   "execution_count": 32,
   "metadata": {},
   "outputs": [],
   "source": [
    "# Post-filtering of contracts"
   ]
  },
  {
   "cell_type": "code",
   "execution_count": 33,
   "metadata": {},
   "outputs": [],
   "source": [
    "# Build QGrid widget\n",
    "\n",
    "qgw = qgrid.show_grid(dfc, grid_options={'maxVisibleRows': 30})"
   ]
  },
  {
   "cell_type": "code",
   "execution_count": 34,
   "metadata": {},
   "outputs": [],
   "source": [
    "# QGrid handlers\n",
    "\n",
    "def handle_selection_changed(event, widget):\n",
    "    line_no = event['new'][0]\n",
    "    build_chart(line_no)\n",
    "    \n",
    "qgw.on('selection_changed', handle_selection_changed)\n",
    "\n",
    "\n",
    "def handle_data_changed(event, widget):\n",
    "    global dfc\n",
    "    dfc = qgw.get_changed_df()\n",
    "\n",
    "qgw.on('filter_changed', handle_data_changed)\n",
    "qgw.on('sort_changed', handle_data_changed)"
   ]
  },
  {
   "cell_type": "code",
   "execution_count": 35,
   "metadata": {
    "tags": [
     "chart_cell"
    ]
   },
   "outputs": [],
   "source": [
    "# Chart builder\n",
    "\n",
    "def build_chart(line_no):\n",
    "    # Get quotes\n",
    "    contract_id = dfc.iloc[line_no,]['contract_id']\n",
    "    name = dfc.iloc[line_no,]['name']\n",
    "    query = f\"\"\"SELECT date, open, high, low, close\n",
    "                FROM quotes\n",
    "                WHERE contract_id = {contract_id}\n",
    "                ORDER BY date ASC;\"\"\"\n",
    "\n",
    "    conn = db.connect()\n",
    "    cur = conn.cursor()\n",
    "    df = pd.read_sql_query(query, conn)\n",
    "    conn.commit()\n",
    "    cur.close()\n",
    "    db.disconnect(conn)\n",
    "\n",
    "    df['date'] = pd.to_datetime(df['date'], format='%Y-%m-%d')\n",
    "    # df['date'] = (df['date'] - pd.Timestamp(\"1970-01-01\")) // pd.Timedelta('1ms')\n",
    "\n",
    "    chart = Highstock()\n",
    "    data = df[['date','open','high','low','close']].values.tolist()\n",
    "    chart.add_data_set(data, series_type='ohlc', name=str(contract_id))\n",
    "    # todo: add moving average\n",
    "\n",
    "    options = {\n",
    "        'chart': {\n",
    "            'animation': False,\n",
    "            'height': 800,\n",
    "            'marginLeft': 50\n",
    "        },\n",
    "        'rangeSelector': {\n",
    "            'selected': 5,\n",
    "            'buttons': [{\n",
    "                'type': 'month',\n",
    "                'count': 1,\n",
    "                'text': '1m'\n",
    "            }, {\n",
    "                'type': 'month',\n",
    "                'count': 3,\n",
    "                'text': '3m'\n",
    "            }, {\n",
    "                'type': 'month',\n",
    "                'count': 6,\n",
    "                'text': '6m'\n",
    "            }, {\n",
    "                'type': 'ytd',\n",
    "                'text': 'YTD'\n",
    "            }, {\n",
    "                'type': 'year',\n",
    "                'count': 1,\n",
    "                'text': '1y'\n",
    "            }, {\n",
    "                'type': 'year',\n",
    "                'count': 2,\n",
    "                'text': '2y'\n",
    "            }, {\n",
    "                'type': 'all',\n",
    "                'text': 'All'\n",
    "            }]\n",
    "        },\n",
    "        'navigator': {\n",
    "            'height': 100\n",
    "        },\n",
    "        'title': {\n",
    "            'text': name\n",
    "        },\n",
    "        'plotOptions': {\n",
    "            'series': {\n",
    "                'animation': False\n",
    "            }\n",
    "        },\n",
    "        'yAxis': {\n",
    "            'type': 'logarithmic'\n",
    "        }\n",
    "    }\n",
    "    chart.set_dict_options(options)\n",
    "    chart.save_file('./screener/website/index')"
   ]
  },
  {
   "cell_type": "code",
   "execution_count": 36,
   "metadata": {
    "scrolled": false
   },
   "outputs": [
    {
     "data": {
      "application/vnd.jupyter.widget-view+json": {
       "model_id": "2dffc9aae7bb4efaa686792ceda1aca6",
       "version_major": 2,
       "version_minor": 0
      },
      "text/plain": [
       "QgridWidget(grid_options={'fullWidthRows': True, 'syncColumnCellResize': True, 'forceFitColumns': True, 'defau…"
      ]
     },
     "metadata": {},
     "output_type": "display_data"
    }
   ],
   "source": [
    "##### Show QGrid widget\n",
    "\n",
    "qgw"
   ]
  },
  {
   "cell_type": "code",
   "execution_count": null,
   "metadata": {},
   "outputs": [],
   "source": []
  }
 ],
 "metadata": {
  "file_extension": ".py",
  "kernelspec": {
   "display_name": "Python 3",
   "language": "python",
   "name": "python3"
  },
  "language_info": {
   "codemirror_mode": {
    "name": "ipython",
    "version": 3
   },
   "file_extension": ".py",
   "mimetype": "text/x-python",
   "name": "python",
   "nbconvert_exporter": "python",
   "pygments_lexer": "ipython3",
   "version": "3.7.6"
  },
  "mimetype": "text/x-python",
  "name": "python",
  "npconvert_exporter": "python",
  "pygments_lexer": "ipython3",
  "version": 3
 },
 "nbformat": 4,
 "nbformat_minor": 4
}
