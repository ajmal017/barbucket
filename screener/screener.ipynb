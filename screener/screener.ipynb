{
 "cells": [
  {
   "cell_type": "code",
   "execution_count": 2,
   "metadata": {},
   "outputs": [],
   "source": [
    "# Imports\n",
    "\n",
    "import pandas as pd\n",
    "import qgrid\n",
    "from sklearn.linear_model import LinearRegression\n",
    "import os\n",
    "\n",
    "from tqdm.notebook import tqdm\n",
    "from highcharts import Highstock"
   ]
  },
  {
   "cell_type": "code",
   "execution_count": 3,
   "metadata": {},
   "outputs": [],
   "source": [
    "# Calculation functions\n",
    "\n",
    "def performance(series):\n",
    "    X = series.index.values.reshape(-1,1)\n",
    "    y = series.values.reshape(-1,1)\n",
    "\n",
    "    regressor = LinearRegression()  \n",
    "    regressor.fit(X, y)\n",
    "    \n",
    "    perf = regressor.coef_[0][0]\n",
    "    yearly = ((perf * 250) / series.iloc[-1]) *100\n",
    "    return yearly"
   ]
  },
  {
   "cell_type": "code",
   "execution_count": 4,
   "metadata": {
    "scrolled": false
   },
   "outputs": [],
   "source": [
    "# Get instruments list\n",
    "\n",
    "path = '/Users/martin/Google Drive/data/screener/'\n",
    "files = os.listdir(path)\n",
    "dfi = pd.DataFrame()\n",
    "dfi['Instrument'] = files[:]\n",
    "# Todo: Get instruments from databse"
   ]
  },
  {
   "cell_type": "code",
   "execution_count": 5,
   "metadata": {},
   "outputs": [
    {
     "data": {
      "application/vnd.jupyter.widget-view+json": {
       "model_id": "f3f9fec49f5c4e35acf9ce348565d5ea",
       "version_major": 2,
       "version_minor": 0
      },
      "text/plain": [
       "HBox(children=(IntProgress(value=0, max=4593), HTML(value='')))"
      ]
     },
     "metadata": {},
     "output_type": "display_data"
    },
    {
     "name": "stdout",
     "output_type": "stream",
     "text": [
      "\n"
     ]
    }
   ],
   "source": [
    "# Add calculations to instruments\n",
    "\n",
    "for inst in tqdm(dfi['Instrument']):\n",
    "    df = pd.read_csv(path + inst)\n",
    "    if len(df) == 0:\n",
    "        continue\n",
    "    dfi.loc[dfi['Instrument']==inst, 'Perf_3m'] = performance(df.iloc[-66:]['close'])\n",
    "    dfi.loc[dfi['Instrument']==inst, 'Perf_1y'] = performance(df.iloc[-250:]['close'])\n",
    "    dfi.loc[dfi['Instrument']==inst, 'Perf_2y'] = performance(df.iloc[-500:]['close'])"
   ]
  },
  {
   "cell_type": "code",
   "execution_count": 6,
   "metadata": {},
   "outputs": [],
   "source": [
    "# Add calculations to instruments, multiprocessing\n",
    "\n",
    "from multiprocessing import Pool\n",
    "\n",
    "def add_calc(inst):\n",
    "    df = pd.read_csv(path + inst)\n",
    "    if len(df) == 0:\n",
    "        return\n",
    "    dfi.loc[dfi['Instrument']==inst, 'Perf_3m'] = performance(df.iloc[-66:]['close'])\n",
    "    dfi.loc[dfi['Instrument']==inst, 'Perf_1y'] = performance(df.iloc[-250:]['close'])\n",
    "    dfi.loc[dfi['Instrument']==inst, 'Perf_2y'] = performance(df.iloc[-500:]['close'])\n",
    "    \n",
    "instrument_list = dfi['Instrument'][:]\n",
    "with Pool(8) as p:\n",
    "    p.map(add_calc, instrument_list)"
   ]
  },
  {
   "cell_type": "code",
   "execution_count": 7,
   "metadata": {},
   "outputs": [],
   "source": [
    "# Build QGrid widget\n",
    "\n",
    "qgw = qgrid.show_grid(dfi, grid_options={'maxVisibleRows': 30})"
   ]
  },
  {
   "cell_type": "code",
   "execution_count": 8,
   "metadata": {},
   "outputs": [],
   "source": [
    "# QGrid handlers\n",
    "\n",
    "def handle_selection_changed(event, widget):\n",
    "    line_no = event['new'][0]\n",
    "    build_chart(line_no)\n",
    "    \n",
    "qgw.on('selection_changed', handle_selection_changed)\n",
    "\n",
    "\n",
    "def handle_data_changed(event, widget):\n",
    "    global dfi\n",
    "    dfi = qgw.get_changed_df()\n",
    "\n",
    "qgw.on('filter_changed', handle_data_changed)\n",
    "qgw.on('sort_changed', handle_data_changed)"
   ]
  },
  {
   "cell_type": "code",
   "execution_count": 9,
   "metadata": {
    "scrolled": false,
    "tags": [
     "chart_cell"
    ]
   },
   "outputs": [],
   "source": [
    "# Chart builder\n",
    "\n",
    "def build_chart(line_no):\n",
    "    filename = dfi.iloc[line_no,]['Instrument']\n",
    "    filepath = '/Users/martin/Google Drive/data/screener/'\n",
    "    df = pd.read_csv(filepath + filename)\n",
    "    df['date'] = pd.to_datetime(df['date'], format='%Y-%m-%d')\n",
    "    df['date'] = (df['date'] - pd.Timestamp(\"1970-01-01\")) // pd.Timedelta('1ms')\n",
    "\n",
    "    chart = Highstock()\n",
    "    data = df[['date','open','high','low','close']].values.tolist()\n",
    "    chart.add_data_set(data, series_type='ohlc', name=filename.replace('.csv', ''))\n",
    "    # todo: add moving average\n",
    "\n",
    "    options = {\n",
    "        'chart': {\n",
    "            'animation': False,\n",
    "            'height': 800,\n",
    "            'marginLeft': 50\n",
    "        },\n",
    "        'rangeSelector': {\n",
    "            'selected': 5,\n",
    "            'buttons': [{\n",
    "                'type': 'month',\n",
    "                'count': 1,\n",
    "                'text': '1m'\n",
    "            }, {\n",
    "                'type': 'month',\n",
    "                'count': 3,\n",
    "                'text': '3m'\n",
    "            }, {\n",
    "                'type': 'month',\n",
    "                'count': 6,\n",
    "                'text': '6m'\n",
    "            }, {\n",
    "                'type': 'ytd',\n",
    "                'text': 'YTD'\n",
    "            }, {\n",
    "                'type': 'year',\n",
    "                'count': 1,\n",
    "                'text': '1y'\n",
    "            }, {\n",
    "                'type': 'year',\n",
    "                'count': 2,\n",
    "                'text': '2y'\n",
    "            }, {\n",
    "                'type': 'all',\n",
    "                'text': 'All'\n",
    "            }]\n",
    "        },\n",
    "        'navigator': {\n",
    "            'height': 100\n",
    "        },\n",
    "        'title': {\n",
    "            'text': filename.replace('.csv', '')\n",
    "        },\n",
    "        'plotOptions': {\n",
    "            'series': {\n",
    "                'animation': False\n",
    "            }\n",
    "        },\n",
    "        'yAxis': {\n",
    "            'type': 'logarithmic'\n",
    "        }\n",
    "    }\n",
    "    chart.set_dict_options(options)\n",
    "    chart.save_file('./website/index')"
   ]
  },
  {
   "cell_type": "code",
   "execution_count": 11,
   "metadata": {},
   "outputs": [
    {
     "data": {
      "application/vnd.jupyter.widget-view+json": {
       "model_id": "252f10991b7d4180b7f0adec340ca72c",
       "version_major": 2,
       "version_minor": 0
      },
      "text/plain": [
       "QgridWidget(grid_options={'fullWidthRows': True, 'syncColumnCellResize': True, 'forceFitColumns': True, 'defau…"
      ]
     },
     "metadata": {},
     "output_type": "display_data"
    }
   ],
   "source": [
    "##### Show QGrid widget\n",
    "\n",
    "qgw"
   ]
  },
  {
   "cell_type": "code",
   "execution_count": null,
   "metadata": {},
   "outputs": [],
   "source": []
  }
 ],
 "metadata": {
  "file_extension": ".py",
  "kernelspec": {
   "display_name": "Python 3",
   "language": "python",
   "name": "python3"
  },
  "language_info": {
   "codemirror_mode": {
    "name": "ipython",
    "version": 3
   },
   "file_extension": ".py",
   "mimetype": "text/x-python",
   "name": "python",
   "nbconvert_exporter": "python",
   "pygments_lexer": "ipython3",
   "version": "3.7.5"
  },
  "mimetype": "text/x-python",
  "name": "python",
  "npconvert_exporter": "python",
  "pygments_lexer": "ipython3",
  "version": 3
 },
 "nbformat": 4,
 "nbformat_minor": 2
}
