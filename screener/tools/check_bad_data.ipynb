{
 "cells": [
  {
   "cell_type": "code",
   "execution_count": 2,
   "metadata": {},
   "outputs": [],
   "source": [
    "import bad_data\n",
    "import importlib\n",
    "importlib.reload(bad_data)\n",
    "import pandas as pd"
   ]
  },
  {
   "cell_type": "code",
   "execution_count": 2,
   "metadata": {},
   "outputs": [
    {
     "data": {
      "text/plain": [
       "351"
      ]
     },
     "execution_count": 2,
     "metadata": {},
     "output_type": "execute_result"
    }
   ],
   "source": [
    "bad_data.get_trading_days(start='2018-01-01', end='2019-05-26')"
   ]
  },
  {
   "cell_type": "code",
   "execution_count": null,
   "metadata": {},
   "outputs": [],
   "source": [
    "quotes = pd.read_csv('data\\\\D5BC.DE.csv')\n",
    "quotes = quotes.set_index('Date')\n",
    "quotes = quotes['2018-01-01':'2019-05-26']\n",
    "# quotes"
   ]
  },
  {
   "cell_type": "code",
   "execution_count": 16,
   "metadata": {},
   "outputs": [
    {
     "data": {
      "text/plain": [
       "4"
      ]
     },
     "execution_count": 16,
     "metadata": {},
     "output_type": "execute_result"
    }
   ],
   "source": [
    "res = bad_data.bad_data(\n",
    "    df=quotes, \n",
    "    index_trading_days=351, \n",
    "    max_missing_bars=5, \n",
    "    max_invalid_candle=0, \n",
    "    max_value_jump=25, \n",
    "    max_no_movement=5)\n",
    "res['missing_bars']"
   ]
  },
  {
   "cell_type": "code",
   "execution_count": 9,
   "metadata": {},
   "outputs": [
    {
     "data": {
      "text/plain": [
       "DatetimeIndex(['2019-02-11', '2019-02-12', '2019-02-13', '2019-02-14',\n",
       "               '2019-02-15', '2019-02-18', '2019-02-19', '2019-02-20',\n",
       "               '2019-02-21', '2019-02-22', '2019-02-25', '2019-02-26',\n",
       "               '2019-02-27', '2019-02-28', '2019-03-01', '2019-03-04',\n",
       "               '2019-03-05', '2019-03-06', '2019-03-07', '2019-03-08',\n",
       "               '2019-03-11', '2019-03-12', '2019-03-13', '2019-03-14',\n",
       "               '2019-03-15', '2019-03-18', '2019-03-19', '2019-03-20',\n",
       "               '2019-03-21', '2019-03-22', '2019-03-25', '2019-03-26',\n",
       "               '2019-03-27', '2019-03-28', '2019-03-29', '2019-04-01',\n",
       "               '2019-04-02', '2019-04-03', '2019-04-04', '2019-04-05',\n",
       "               '2019-04-08', '2019-04-09', '2019-04-10', '2019-04-11',\n",
       "               '2019-04-12', '2019-04-15', '2019-04-16', '2019-04-17',\n",
       "               '2019-04-18', '2019-04-23', '2019-04-24', '2019-04-25',\n",
       "               '2019-04-26', '2019-04-29', '2019-04-30', '2019-05-02',\n",
       "               '2019-05-03', '2019-05-06', '2019-05-07', '2019-05-08',\n",
       "               '2019-05-09', '2019-05-10', '2019-05-13', '2019-05-14',\n",
       "               '2019-05-15', '2019-05-16', '2019-05-20', '2019-05-22',\n",
       "               '2019-05-23', '2019-05-24'],\n",
       "              dtype='datetime64[ns]', name='Date', freq=None)"
      ]
     },
     "execution_count": 9,
     "metadata": {},
     "output_type": "execute_result"
    }
   ],
   "source": [
    "price_data = pd.read_csv('data\\AH50.DE.csv', index_col=0, parse_dates=True)\n",
    "price_data.index\n"
   ]
  },
  {
   "cell_type": "code",
   "execution_count": 11,
   "metadata": {},
   "outputs": [],
   "source": [
    "try:\n",
    "    file = pd.read_csv('gibtsnicht.csv')\n",
    "except:\n",
    "    pass"
   ]
  },
  {
   "cell_type": "code",
   "execution_count": null,
   "metadata": {},
   "outputs": [],
   "source": []
  }
 ],
 "metadata": {
  "kernelspec": {
   "display_name": "Python 3",
   "language": "python",
   "name": "python3"
  },
  "language_info": {
   "codemirror_mode": {
    "name": "ipython",
    "version": 3
   },
   "file_extension": ".py",
   "mimetype": "text/x-python",
   "name": "python",
   "nbconvert_exporter": "python",
   "pygments_lexer": "ipython3",
   "version": "3.6.8"
  }
 },
 "nbformat": 4,
 "nbformat_minor": 2
}
