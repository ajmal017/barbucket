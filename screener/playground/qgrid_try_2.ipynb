{
 "cells": [
  {
   "cell_type": "code",
   "execution_count": 6,
   "metadata": {},
   "outputs": [],
   "source": [
    "import pandas as pd\n",
    "import qgrid\n",
    "\n",
    "import os\n",
    "\n",
    "from IPython.core.display import Javascript\n",
    "from IPython.display import display\n",
    "\n",
    "from highcharts import Highstock"
   ]
  },
  {
   "cell_type": "code",
   "execution_count": 17,
   "metadata": {
    "scrolled": false
   },
   "outputs": [],
   "source": [
    "path = '/Users/martin/Google Drive/data/screener/'\n",
    "files = os.listdir(path)\n",
    "    \n",
    "dff = pd.DataFrame()\n",
    "dff['Instrument'] = files\n",
    "\n",
    "qgw = qgrid.show_grid(dff)"
   ]
  },
  {
   "cell_type": "code",
   "execution_count": 18,
   "metadata": {},
   "outputs": [],
   "source": [
    "line_no = 0\n",
    "\n",
    "def handle_selection_changed(event, widget):\n",
    "    global line_no\n",
    "    line_no = event['new'][0]\n",
    "    # todo: get filtered and sorted df\n",
    "    build_chart()\n",
    "\n",
    "qgw.on('selection_changed', handle_selection_changed)"
   ]
  },
  {
   "cell_type": "code",
   "execution_count": 21,
   "metadata": {
    "scrolled": false,
    "tags": [
     "chart_cell"
    ]
   },
   "outputs": [],
   "source": [
    "def build_chart():\n",
    "    filename = dff.iloc[line_no,]['Instrument']\n",
    "    filepath = '/Users/martin/Google Drive/data/screener/'\n",
    "    df = pd.read_csv(filepath + filename)\n",
    "    df['date'] = pd.to_datetime(df['date'], format='%Y-%m-%d')\n",
    "    df['date'] = (df['date'] - pd.Timestamp(\"1970-01-01\")) // pd.Timedelta('1ms')\n",
    "    df = df.drop(columns=['volume'])\n",
    "\n",
    "    chart = Highstock()\n",
    "    data = df[['date','open','high','low','close']].values.tolist()\n",
    "    chart.add_data_set(data, series_type='ohlc', name=filename.replace('.csv', ''))\n",
    "    # todo: add moving average\n",
    "\n",
    "    options = {\n",
    "        'chart': {\n",
    "            'animation': False,\n",
    "            'height': 600,\n",
    "            'width': 950\n",
    "        },\n",
    "        'rangeSelector': {\n",
    "            'selected': 4\n",
    "        },\n",
    "        'title': {\n",
    "            'text': filename.replace('.csv', '')\n",
    "        },\n",
    "        'plotOptions': {\n",
    "            'series': {\n",
    "                'animation': False\n",
    "            }\n",
    "        },\n",
    "        'yAxis': {\n",
    "            'type': 'logarithmic'\n",
    "        }\n",
    "    }\n",
    "    chart.set_dict_options(options)\n",
    "    chart.save_file('./website/index')"
   ]
  },
  {
   "cell_type": "code",
   "execution_count": 20,
   "metadata": {},
   "outputs": [
    {
     "data": {
      "application/vnd.jupyter.widget-view+json": {
       "model_id": "d4b4028fd1ef41e7b8a2794b932a3fff",
       "version_major": 2,
       "version_minor": 0
      },
      "text/plain": [
       "QgridWidget(grid_options={'fullWidthRows': True, 'syncColumnCellResize': True, 'forceFitColumns': True, 'defau…"
      ]
     },
     "metadata": {},
     "output_type": "display_data"
    }
   ],
   "source": [
    "qgw"
   ]
  },
  {
   "cell_type": "code",
   "execution_count": null,
   "metadata": {},
   "outputs": [],
   "source": []
  }
 ],
 "metadata": {
  "file_extension": ".py",
  "kernelspec": {
   "display_name": "Python 3",
   "language": "python",
   "name": "python3"
  },
  "language_info": {
   "codemirror_mode": {
    "name": "ipython",
    "version": 3
   },
   "file_extension": ".py",
   "mimetype": "text/x-python",
   "name": "python",
   "nbconvert_exporter": "python",
   "pygments_lexer": "ipython3",
   "version": "3.7.4"
  },
  "mimetype": "text/x-python",
  "name": "python",
  "npconvert_exporter": "python",
  "pygments_lexer": "ipython3",
  "version": 3
 },
 "nbformat": 4,
 "nbformat_minor": 2
}
