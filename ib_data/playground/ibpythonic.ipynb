{
 "cells": [
  {
   "cell_type": "code",
   "execution_count": 6,
   "metadata": {},
   "outputs": [
    {
     "data": {
      "text/plain": [
       "True"
      ]
     },
     "execution_count": 6,
     "metadata": {},
     "output_type": "execute_result"
    },
    {
     "name": "stderr",
     "output_type": "stream",
     "text": [
      "unhandled exception in EReader thread\n",
      "Traceback (most recent call last):\n",
      "  File \"/Users/martin/.local/share/virtualenvs/_latest37-3PBJa1i8/lib/python3.7/site-packages/ibapi/reader.py\", line 34, in run\n",
      "    data = self.conn.recvMsg()\n",
      "  File \"/Users/martin/.local/share/virtualenvs/_latest37-3PBJa1i8/lib/python3.7/site-packages/ibapi/connection.py\", line 99, in recvMsg\n",
      "    buf = self._recvAllMsg()\n",
      "  File \"/Users/martin/.local/share/virtualenvs/_latest37-3PBJa1i8/lib/python3.7/site-packages/ibapi/connection.py\", line 119, in _recvAllMsg\n",
      "    buf = self.socket.recv(4096)\n",
      "OSError: [Errno 9] Bad file descriptor\n"
     ]
    }
   ],
   "source": [
    "\"\"\"from ibpythonic import ibConnection, message\n",
    "from ibapi.contract import Contract\n",
    "\n",
    "def contractDetailsHandler(msg):\n",
    "    print(msg.contractDetails)\n",
    "    # do something with contractDetails msg\n",
    "\n",
    "def errorHandler(msg):\n",
    "    print(msg)\n",
    "\n",
    "conn = ibConnection(port=7497, clientId=100)\n",
    "\n",
    "conn.register(contractDetailsHandler, message.contractDetails)\n",
    "conn.register(errorHandler, message.error)\n",
    "\n",
    "contract = Contract()\n",
    "contract.symbol = \"AAPL\"\n",
    "contract.exchange = \"SMART\"\n",
    "contract.secType = \"STK\"\n",
    "contract.currency = \"USD\"\n",
    "\n",
    "conn.connect()\n",
    "conn.reqContractDetails(1, contract)\n",
    "\n",
    "conn.unregister(contractDetailsHandler, message.contractDetails)\n",
    "conn.unregister(errorHandler, message.error)\n",
    "\n",
    "conn.disconnect()\"\"\""
   ]
  },
  {
   "cell_type": "code",
   "execution_count": 1,
   "metadata": {},
   "outputs": [
    {
     "name": "stdout",
     "output_type": "stream",
     "text": [
      "<error id=-1, errorCode=2104, errorMsg=Market data farm connection is OK:usfarm.nj>\n",
      "<error id=-1, errorCode=2104, errorMsg=Market data farm connection is OK:eufarm>\n",
      "<error id=-1, errorCode=2104, errorMsg=Market data farm connection is OK:cashfarm>\n",
      "<error id=-1, errorCode=2104, errorMsg=Market data farm connection is OK:usfarm>\n",
      "<error id=-1, errorCode=2106, errorMsg=HMDS data farm connection is OK:euhmds>\n",
      "<error id=-1, errorCode=2106, errorMsg=HMDS data farm connection is OK:ushmds>\n",
      "<error id=1, errorCode=162, errorMsg=Historical Market Data Service error message:HMDS query returned no data: 0I9M@LSE Ask>\n",
      "<error id=-1, errorCode=2104, errorMsg=Market data farm connection is OK:usbond>\n",
      "<error id=-1, errorCode=2103, errorMsg=Market data farm connection is broken:secdefnj>\n",
      "<error id=-1, errorCode=2104, errorMsg=Market data farm connection is OK:secdefnj>\n",
      "<error id=-1, errorCode=2103, errorMsg=Market data farm connection is broken:usfarm.nj>\n",
      "<error id=-1, errorCode=2104, errorMsg=Market data farm connection is OK:usfarm.nj>\n",
      "<error id=-1, errorCode=2105, errorMsg=HMDS data farm connection is broken:ushmds>\n",
      "<error id=-1, errorCode=2106, errorMsg=HMDS data farm connection is OK:ushmds>\n",
      "<error id=-1, errorCode=2103, errorMsg=Market data farm connection is broken:usfarm>\n",
      "<error id=-1, errorCode=2103, errorMsg=Market data farm connection is broken:cashfarm>\n",
      "<error id=-1, errorCode=2104, errorMsg=Market data farm connection is OK:cashfarm>\n",
      "<error id=-1, errorCode=2103, errorMsg=Market data farm connection is broken:usbond>\n",
      "<error id=-1, errorCode=2104, errorMsg=Market data farm connection is OK:usfarm>\n",
      "<error id=-1, errorCode=2104, errorMsg=Market data farm connection is OK:usbond>\n",
      "<error id=-1, errorCode=2105, errorMsg=HMDS data farm connection is broken:euhmds>\n",
      "<error id=-1, errorCode=2103, errorMsg=Market data farm connection is broken:eufarm>\n",
      "<error id=-1, errorCode=2106, errorMsg=HMDS data farm connection is OK:euhmds>\n",
      "<error id=-1, errorCode=2104, errorMsg=Market data farm connection is OK:eufarm>\n",
      "<error id=-1, errorCode=2103, errorMsg=Market data farm connection is broken:secdefnj>\n",
      "<error id=-1, errorCode=2104, errorMsg=Market data farm connection is OK:secdefnj>\n",
      "<error id=-1, errorCode=2103, errorMsg=Market data farm connection is broken:usfarm.nj>\n",
      "<error id=-1, errorCode=2104, errorMsg=Market data farm connection is OK:usfarm.nj>\n",
      "<error id=-1, errorCode=2105, errorMsg=HMDS data farm connection is broken:ushmds>\n",
      "<error id=-1, errorCode=2106, errorMsg=HMDS data farm connection is OK:ushmds>\n",
      "<error id=-1, errorCode=2103, errorMsg=Market data farm connection is broken:cashfarm>\n",
      "<error id=-1, errorCode=2103, errorMsg=Market data farm connection is broken:usfarm>\n",
      "<error id=-1, errorCode=1100, errorMsg=Connectivity between IB and Trader Workstation has been lost.>\n",
      "<error id=-1, errorCode=2104, errorMsg=Market data farm connection is OK:cashfarm>\n",
      "<error id=-1, errorCode=2103, errorMsg=Market data farm connection is broken:usbond>\n",
      "<error id=-1, errorCode=2104, errorMsg=Market data farm connection is OK:usfarm>\n",
      "<error id=-1, errorCode=1102, errorMsg=Connectivity between IB and Trader Workstation has been restored - data maintained.>\n",
      "<error id=-1, errorCode=2104, errorMsg=Market data farm connection is OK:usbond>\n",
      "<error id=-1, errorCode=2105, errorMsg=HMDS data farm connection is broken:euhmds>\n",
      "<error id=-1, errorCode=2106, errorMsg=HMDS data farm connection is OK:euhmds>\n"
     ]
    }
   ],
   "source": [
    "# Manual download test\n",
    "\n",
    "from ibpythonic import ibConnection, message\n",
    "from ibapi.contract import Contract\n",
    "from time import strftime\n",
    "\n",
    "\n",
    "def my_hist_data_handler(msg):\n",
    "    print(msg)\n",
    "    \n",
    "def my_error_handler(msg):\n",
    "    print(msg)\n",
    "\n",
    "    \n",
    "newContract = Contract()\n",
    "newContract.symbol = '0I9M'\n",
    "newContract.secType = 'STK'\n",
    "newContract.exchange = 'LSE'\n",
    "# newContract.currency = 'GBP'\n",
    "    \n",
    "endtime = strftime('%Y%m%d %H:%M:%S')\n",
    "\n",
    "con = ibConnection(port=7497)\n",
    "con.register(my_hist_data_handler, message.historicalData)\n",
    "con.register(my_error_handler, message.error)\n",
    "\n",
    "con.connect()\n",
    "con.reqHistoricalData(1, newContract, endtime, \"10 Y\", \"1 day\", \"ASK\" ,1, 1, keepUpToDate=False, chartOptions=[])"
   ]
  },
  {
   "cell_type": "code",
   "execution_count": 12,
   "metadata": {},
   "outputs": [
    {
     "data": {
      "text/plain": [
       "False"
      ]
     },
     "execution_count": 12,
     "metadata": {},
     "output_type": "execute_result"
    }
   ],
   "source": [
    "# Disconnect from API\n",
    "\n",
    "conn.unregister(my_hist_data_handler, message.historicalData)\n",
    "conn.unregister(my_error_handler, message.error)\n",
    "\n",
    "con.disconnect()"
   ]
  },
  {
   "cell_type": "code",
   "execution_count": null,
   "metadata": {},
   "outputs": [],
   "source": []
  }
 ],
 "metadata": {
  "kernelspec": {
   "display_name": "Python 3",
   "language": "python",
   "name": "python3"
  },
  "language_info": {
   "codemirror_mode": {
    "name": "ipython",
    "version": 3
   },
   "file_extension": ".py",
   "mimetype": "text/x-python",
   "name": "python",
   "nbconvert_exporter": "python",
   "pygments_lexer": "ipython3",
   "version": "3.7.4"
  }
 },
 "nbformat": 4,
 "nbformat_minor": 4
}
